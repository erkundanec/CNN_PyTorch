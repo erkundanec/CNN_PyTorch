{
 "cells": [
  {
   "cell_type": "markdown",
   "metadata": {},
   "source": [
    "# Module version used\n",
    "\n",
    "- torch 1.4.0\n",
    "- numpy 1.18.1\n",
    "- CPython 3.6.10\n",
    "- IPython 7.12.0"
   ]
  },
  {
   "cell_type": "markdown",
   "metadata": {},
   "source": [
    "- Runs on CPU or GPU (if available)"
   ]
  },
  {
   "cell_type": "markdown",
   "metadata": {},
   "source": [
    "# Softmax Regression with MLxtend's plot_decision_regions on Iris"
   ]
  },
  {
   "cell_type": "markdown",
   "metadata": {},
   "source": [
    "Implementation of softmax regression (multinomial logistic regression) and demonstration for how to use PyTorch models with MLxtend's [`plot_decision_regions`](http://rasbt.github.io/mlxtend/user_guide/plotting/plot_decision_regions/) function"
   ]
  },
  {
   "cell_type": "markdown",
   "metadata": {},
   "source": [
    "## Imports"
   ]
  },
  {
   "cell_type": "code",
   "execution_count": 1,
   "metadata": {},
   "outputs": [],
   "source": [
    "from torchvision import datasets\n",
    "from torchvision import transforms\n",
    "from torch.utils.data import DataLoader\n",
    "import torch.nn.functional as F\n",
    "import torch\n",
    "import numpy as np"
   ]
  },
  {
   "cell_type": "markdown",
   "metadata": {},
   "source": [
    "## Settings and Dataset"
   ]
  },
  {
   "cell_type": "code",
   "execution_count": 13,
   "metadata": {},
   "outputs": [],
   "source": [
    "##########################\n",
    "### SETTINGS\n",
    "##########################\n",
    "\n",
    "# Device\n",
    "device = torch.device(\"cuda:0\" if torch.cuda.is_available() else \"cpu\")\n",
    "\n",
    "# Hyperparameters\n",
    "random_seed = 0\n",
    "learning_rate = 0.05\n",
    "num_epochs = 100\n",
    "batch_size = 8\n",
    "\n",
    "# Architecture\n",
    "num_features = 2\n",
    "num_classes = 3"
   ]
  },
  {
   "cell_type": "code",
   "execution_count": 14,
   "metadata": {},
   "outputs": [
    {
     "name": "stdout",
     "output_type": "stream",
     "text": [
      "Class label counts: [50 50 50]\n",
      "X.shape: (150, 2)\n",
      "y.shape: (150,)\n"
     ]
    }
   ],
   "source": [
    "##########################\n",
    "### DATASET\n",
    "##########################\n",
    "\n",
    "data = np.genfromtxt('data/iris.data', delimiter=',', dtype=str)\n",
    "X, y = data[:, [2, 3]], data[:, 4]\n",
    "X = X.astype(float)\n",
    "\n",
    "d = {'Iris-setosa': 0, 'Iris-versicolor': 1, 'Iris-virginica': 2}\n",
    "y = np.array([d[x] for x in y])\n",
    "y = y.astype(np.int)\n",
    "\n",
    "print('Class label counts:', np.bincount(y))\n",
    "print('X.shape:', X.shape)\n",
    "print('y.shape:', y.shape)\n",
    "\n",
    "# Shuffling & train/test split\n",
    "shuffle_idx = np.arange(y.shape[0])\n",
    "shuffle_rng = np.random.RandomState(123)\n",
    "shuffle_rng.shuffle(shuffle_idx)\n",
    "X, y = X[shuffle_idx], y[shuffle_idx]\n",
    "\n",
    "X_train, X_test = X[shuffle_idx[:70]], X[shuffle_idx[70:]]\n",
    "y_train, y_test = y[shuffle_idx[:70]], y[shuffle_idx[70:]]\n",
    "\n",
    "# Normalize (mean zero, unit variance)\n",
    "mu, sigma = X_train.mean(axis=0), X_train.std(axis=0)\n",
    "X_train = (X_train - mu) / sigma\n",
    "X_test = (X_test - mu) / sigma"
   ]
  },
  {
   "cell_type": "code",
   "execution_count": 15,
   "metadata": {},
   "outputs": [],
   "source": [
    "##########################\n",
    "### Data Loaders\n",
    "##########################\n",
    "\n",
    "from torch.utils.data import Dataset\n",
    "from torch.utils.data import DataLoader\n",
    "\n",
    "\n",
    "\n",
    "class MyDataset(Dataset):\n",
    "\n",
    "    def __init__(self, X, y):\n",
    "    \n",
    "        self.X = torch.tensor(X, dtype=torch.float32)\n",
    "        self.y = torch.tensor(y, dtype=torch.int64)\n",
    "\n",
    "    def __getitem__(self, index):\n",
    "        training_example, training_label = self.X[index], self.y[index]\n",
    "        return training_example, training_label\n",
    "\n",
    "    def __len__(self):\n",
    "        return self.y.shape[0]\n",
    "    \n",
    "    \n",
    "train_dataset = MyDataset(X[:100], y[:100])\n",
    "test_dataset = MyDataset(X[100:], y[100:])\n",
    "\n",
    "\n",
    "train_loader = DataLoader(dataset=train_dataset,\n",
    "                          batch_size=batch_size,\n",
    "                          shuffle=True, # want to shuffle the dataset\n",
    "                          num_workers=4) # number processes/CPUs to use\n",
    "\n",
    "test_loader = DataLoader(dataset=test_dataset,\n",
    "                         batch_size=batch_size,\n",
    "                         shuffle=False,\n",
    "                         num_workers=4)"
   ]
  },
  {
   "cell_type": "code",
   "execution_count": 16,
   "metadata": {},
   "outputs": [],
   "source": [
    "##########################\n",
    "### MODEL\n",
    "##########################\n",
    "\n",
    "class SoftmaxRegression(torch.nn.Module):\n",
    "\n",
    "    def __init__(self, num_features, num_classes):\n",
    "        super(SoftmaxRegression, self).__init__()\n",
    "        self.linear = torch.nn.Linear(num_features, num_classes)\n",
    "        \n",
    "        self.linear.weight.detach().zero_()\n",
    "        self.linear.bias.detach().zero_()\n",
    "        \n",
    "    def forward(self, x):\n",
    "        logits = self.linear(x)\n",
    "        probas = F.softmax(logits, dim=1)\n",
    "        return logits, probas\n",
    "\n",
    "model = SoftmaxRegression(num_features=num_features,\n",
    "                          num_classes=num_classes)\n",
    "\n",
    "model.to(device)\n",
    "\n",
    "##########################\n",
    "### COST AND OPTIMIZER\n",
    "##########################\n",
    "\n",
    "optimizer = torch.optim.Adam(model.parameters(), lr=learning_rate)  "
   ]
  },
  {
   "cell_type": "code",
   "execution_count": 17,
   "metadata": {
    "scrolled": true
   },
   "outputs": [
    {
     "name": "stdout",
     "output_type": "stream",
     "text": [
      "Epoch: 001/100 | Batch 000/012 | Cost: 1.0986\n",
      "Epoch: 001/100 training accuracy: 44.00%\n",
      "Epoch: 002/100 | Batch 000/012 | Cost: 0.9489\n",
      "Epoch: 002/100 training accuracy: 66.00%\n",
      "Epoch: 003/100 | Batch 000/012 | Cost: 0.8236\n",
      "Epoch: 003/100 training accuracy: 72.00%\n",
      "Epoch: 004/100 | Batch 000/012 | Cost: 0.8275\n",
      "Epoch: 004/100 training accuracy: 95.00%\n",
      "Epoch: 005/100 | Batch 000/012 | Cost: 0.6650\n",
      "Epoch: 005/100 training accuracy: 72.00%\n",
      "Epoch: 006/100 | Batch 000/012 | Cost: 0.6465\n",
      "Epoch: 006/100 training accuracy: 78.00%\n",
      "Epoch: 007/100 | Batch 000/012 | Cost: 0.3825\n",
      "Epoch: 007/100 training accuracy: 95.00%\n",
      "Epoch: 008/100 | Batch 000/012 | Cost: 0.4917\n",
      "Epoch: 008/100 training accuracy: 77.00%\n",
      "Epoch: 009/100 | Batch 000/012 | Cost: 0.6003\n",
      "Epoch: 009/100 training accuracy: 81.00%\n",
      "Epoch: 010/100 | Batch 000/012 | Cost: 0.5938\n",
      "Epoch: 010/100 training accuracy: 93.00%\n",
      "Epoch: 011/100 | Batch 000/012 | Cost: 0.3073\n",
      "Epoch: 011/100 training accuracy: 93.00%\n",
      "Epoch: 012/100 | Batch 000/012 | Cost: 0.3515\n",
      "Epoch: 012/100 training accuracy: 95.00%\n",
      "Epoch: 013/100 | Batch 000/012 | Cost: 0.4275\n",
      "Epoch: 013/100 training accuracy: 81.00%\n",
      "Epoch: 014/100 | Batch 000/012 | Cost: 0.5568\n",
      "Epoch: 014/100 training accuracy: 88.00%\n",
      "Epoch: 015/100 | Batch 000/012 | Cost: 0.2729\n",
      "Epoch: 015/100 training accuracy: 93.00%\n",
      "Epoch: 016/100 | Batch 000/012 | Cost: 0.2903\n",
      "Epoch: 016/100 training accuracy: 94.00%\n",
      "Epoch: 017/100 | Batch 000/012 | Cost: 0.1947\n",
      "Epoch: 017/100 training accuracy: 79.00%\n",
      "Epoch: 018/100 | Batch 000/012 | Cost: 0.4154\n",
      "Epoch: 018/100 training accuracy: 94.00%\n",
      "Epoch: 019/100 | Batch 000/012 | Cost: 0.3611\n",
      "Epoch: 019/100 training accuracy: 81.00%\n",
      "Epoch: 020/100 | Batch 000/012 | Cost: 0.2907\n",
      "Epoch: 020/100 training accuracy: 95.00%\n",
      "Epoch: 021/100 | Batch 000/012 | Cost: 0.3541\n",
      "Epoch: 021/100 training accuracy: 93.00%\n",
      "Epoch: 022/100 | Batch 000/012 | Cost: 0.2655\n",
      "Epoch: 022/100 training accuracy: 88.00%\n",
      "Epoch: 023/100 | Batch 000/012 | Cost: 0.3193\n",
      "Epoch: 023/100 training accuracy: 95.00%\n",
      "Epoch: 024/100 | Batch 000/012 | Cost: 0.3024\n",
      "Epoch: 024/100 training accuracy: 88.00%\n",
      "Epoch: 025/100 | Batch 000/012 | Cost: 0.2384\n",
      "Epoch: 025/100 training accuracy: 96.00%\n",
      "Epoch: 026/100 | Batch 000/012 | Cost: 0.2208\n",
      "Epoch: 026/100 training accuracy: 93.00%\n",
      "Epoch: 027/100 | Batch 000/012 | Cost: 0.3001\n",
      "Epoch: 027/100 training accuracy: 95.00%\n",
      "Epoch: 028/100 | Batch 000/012 | Cost: 0.3550\n",
      "Epoch: 028/100 training accuracy: 95.00%\n",
      "Epoch: 029/100 | Batch 000/012 | Cost: 0.3038\n",
      "Epoch: 029/100 training accuracy: 97.00%\n",
      "Epoch: 030/100 | Batch 000/012 | Cost: 0.2424\n",
      "Epoch: 030/100 training accuracy: 95.00%\n",
      "Epoch: 031/100 | Batch 000/012 | Cost: 0.3214\n",
      "Epoch: 031/100 training accuracy: 95.00%\n",
      "Epoch: 032/100 | Batch 000/012 | Cost: 0.4074\n",
      "Epoch: 032/100 training accuracy: 95.00%\n",
      "Epoch: 033/100 | Batch 000/012 | Cost: 0.1718\n",
      "Epoch: 033/100 training accuracy: 95.00%\n",
      "Epoch: 034/100 | Batch 000/012 | Cost: 0.1586\n",
      "Epoch: 034/100 training accuracy: 95.00%\n",
      "Epoch: 035/100 | Batch 000/012 | Cost: 0.1908\n",
      "Epoch: 035/100 training accuracy: 95.00%\n",
      "Epoch: 036/100 | Batch 000/012 | Cost: 0.3335\n",
      "Epoch: 036/100 training accuracy: 95.00%\n",
      "Epoch: 037/100 | Batch 000/012 | Cost: 0.2045\n",
      "Epoch: 037/100 training accuracy: 93.00%\n",
      "Epoch: 038/100 | Batch 000/012 | Cost: 0.5166\n",
      "Epoch: 038/100 training accuracy: 95.00%\n",
      "Epoch: 039/100 | Batch 000/012 | Cost: 0.1928\n",
      "Epoch: 039/100 training accuracy: 95.00%\n",
      "Epoch: 040/100 | Batch 000/012 | Cost: 0.1425\n",
      "Epoch: 040/100 training accuracy: 95.00%\n",
      "Epoch: 041/100 | Batch 000/012 | Cost: 0.2242\n",
      "Epoch: 041/100 training accuracy: 95.00%\n",
      "Epoch: 042/100 | Batch 000/012 | Cost: 0.4212\n",
      "Epoch: 042/100 training accuracy: 96.00%\n",
      "Epoch: 043/100 | Batch 000/012 | Cost: 0.2670\n",
      "Epoch: 043/100 training accuracy: 95.00%\n",
      "Epoch: 044/100 | Batch 000/012 | Cost: 0.2142\n",
      "Epoch: 044/100 training accuracy: 95.00%\n",
      "Epoch: 045/100 | Batch 000/012 | Cost: 0.2348\n",
      "Epoch: 045/100 training accuracy: 95.00%\n",
      "Epoch: 046/100 | Batch 000/012 | Cost: 0.1822\n",
      "Epoch: 046/100 training accuracy: 95.00%\n",
      "Epoch: 047/100 | Batch 000/012 | Cost: 0.2468\n",
      "Epoch: 047/100 training accuracy: 95.00%\n",
      "Epoch: 048/100 | Batch 000/012 | Cost: 0.1541\n",
      "Epoch: 048/100 training accuracy: 95.00%\n",
      "Epoch: 049/100 | Batch 000/012 | Cost: 0.1917\n",
      "Epoch: 049/100 training accuracy: 95.00%\n",
      "Epoch: 050/100 | Batch 000/012 | Cost: 0.1805\n",
      "Epoch: 050/100 training accuracy: 96.00%\n",
      "Epoch: 051/100 | Batch 000/012 | Cost: 0.2286\n",
      "Epoch: 051/100 training accuracy: 96.00%\n",
      "Epoch: 052/100 | Batch 000/012 | Cost: 0.1896\n",
      "Epoch: 052/100 training accuracy: 95.00%\n",
      "Epoch: 053/100 | Batch 000/012 | Cost: 0.1354\n",
      "Epoch: 053/100 training accuracy: 96.00%\n",
      "Epoch: 054/100 | Batch 000/012 | Cost: 0.1772\n",
      "Epoch: 054/100 training accuracy: 96.00%\n",
      "Epoch: 055/100 | Batch 000/012 | Cost: 0.2690\n",
      "Epoch: 055/100 training accuracy: 93.00%\n",
      "Epoch: 056/100 | Batch 000/012 | Cost: 0.1203\n",
      "Epoch: 056/100 training accuracy: 95.00%\n",
      "Epoch: 057/100 | Batch 000/012 | Cost: 0.0541\n",
      "Epoch: 057/100 training accuracy: 93.00%\n",
      "Epoch: 058/100 | Batch 000/012 | Cost: 0.1444\n",
      "Epoch: 058/100 training accuracy: 96.00%\n",
      "Epoch: 059/100 | Batch 000/012 | Cost: 0.0939\n",
      "Epoch: 059/100 training accuracy: 95.00%\n",
      "Epoch: 060/100 | Batch 000/012 | Cost: 0.1178\n",
      "Epoch: 060/100 training accuracy: 95.00%\n",
      "Epoch: 061/100 | Batch 000/012 | Cost: 0.0820\n",
      "Epoch: 061/100 training accuracy: 96.00%\n",
      "Epoch: 062/100 | Batch 000/012 | Cost: 0.0835\n",
      "Epoch: 062/100 training accuracy: 95.00%\n",
      "Epoch: 063/100 | Batch 000/012 | Cost: 0.3913\n",
      "Epoch: 063/100 training accuracy: 96.00%\n",
      "Epoch: 064/100 | Batch 000/012 | Cost: 0.1132\n",
      "Epoch: 064/100 training accuracy: 96.00%\n",
      "Epoch: 065/100 | Batch 000/012 | Cost: 0.1638\n",
      "Epoch: 065/100 training accuracy: 96.00%\n",
      "Epoch: 066/100 | Batch 000/012 | Cost: 0.0733\n",
      "Epoch: 066/100 training accuracy: 96.00%\n",
      "Epoch: 067/100 | Batch 000/012 | Cost: 0.0878\n",
      "Epoch: 067/100 training accuracy: 96.00%\n",
      "Epoch: 068/100 | Batch 000/012 | Cost: 0.1184\n",
      "Epoch: 068/100 training accuracy: 96.00%\n",
      "Epoch: 069/100 | Batch 000/012 | Cost: 0.0472\n",
      "Epoch: 069/100 training accuracy: 96.00%\n",
      "Epoch: 070/100 | Batch 000/012 | Cost: 0.1500\n",
      "Epoch: 070/100 training accuracy: 96.00%\n",
      "Epoch: 071/100 | Batch 000/012 | Cost: 0.5141\n",
      "Epoch: 071/100 training accuracy: 95.00%\n",
      "Epoch: 072/100 | Batch 000/012 | Cost: 0.2090\n",
      "Epoch: 072/100 training accuracy: 95.00%\n",
      "Epoch: 073/100 | Batch 000/012 | Cost: 0.0935\n",
      "Epoch: 073/100 training accuracy: 95.00%\n",
      "Epoch: 074/100 | Batch 000/012 | Cost: 0.0687\n",
      "Epoch: 074/100 training accuracy: 95.00%\n",
      "Epoch: 075/100 | Batch 000/012 | Cost: 0.1384\n",
      "Epoch: 075/100 training accuracy: 95.00%\n",
      "Epoch: 076/100 | Batch 000/012 | Cost: 0.1082\n",
      "Epoch: 076/100 training accuracy: 95.00%\n",
      "Epoch: 077/100 | Batch 000/012 | Cost: 0.1325\n",
      "Epoch: 077/100 training accuracy: 95.00%\n",
      "Epoch: 078/100 | Batch 000/012 | Cost: 0.2431\n",
      "Epoch: 078/100 training accuracy: 96.00%\n",
      "Epoch: 079/100 | Batch 000/012 | Cost: 0.0266\n",
      "Epoch: 079/100 training accuracy: 96.00%\n",
      "Epoch: 080/100 | Batch 000/012 | Cost: 0.0330\n",
      "Epoch: 080/100 training accuracy: 96.00%\n",
      "Epoch: 081/100 | Batch 000/012 | Cost: 0.0941\n",
      "Epoch: 081/100 training accuracy: 96.00%\n",
      "Epoch: 082/100 | Batch 000/012 | Cost: 0.2139\n",
      "Epoch: 082/100 training accuracy: 95.00%\n",
      "Epoch: 083/100 | Batch 000/012 | Cost: 0.1098\n",
      "Epoch: 083/100 training accuracy: 96.00%\n",
      "Epoch: 084/100 | Batch 000/012 | Cost: 0.0552\n",
      "Epoch: 084/100 training accuracy: 96.00%\n",
      "Epoch: 085/100 | Batch 000/012 | Cost: 0.1184\n",
      "Epoch: 085/100 training accuracy: 95.00%\n",
      "Epoch: 086/100 | Batch 000/012 | Cost: 0.1066\n",
      "Epoch: 086/100 training accuracy: 95.00%\n",
      "Epoch: 087/100 | Batch 000/012 | Cost: 0.0885\n",
      "Epoch: 087/100 training accuracy: 95.00%\n",
      "Epoch: 088/100 | Batch 000/012 | Cost: 0.1724\n",
      "Epoch: 088/100 training accuracy: 96.00%\n",
      "Epoch: 089/100 | Batch 000/012 | Cost: 0.1174\n",
      "Epoch: 089/100 training accuracy: 95.00%\n",
      "Epoch: 090/100 | Batch 000/012 | Cost: 0.1788\n",
      "Epoch: 090/100 training accuracy: 96.00%\n",
      "Epoch: 091/100 | Batch 000/012 | Cost: 0.0703\n",
      "Epoch: 091/100 training accuracy: 95.00%\n",
      "Epoch: 092/100 | Batch 000/012 | Cost: 0.3954\n",
      "Epoch: 092/100 training accuracy: 96.00%\n",
      "Epoch: 093/100 | Batch 000/012 | Cost: 0.3741\n",
      "Epoch: 093/100 training accuracy: 96.00%\n",
      "Epoch: 094/100 | Batch 000/012 | Cost: 0.1129\n",
      "Epoch: 094/100 training accuracy: 96.00%\n",
      "Epoch: 095/100 | Batch 000/012 | Cost: 0.0834\n"
     ]
    },
    {
     "name": "stdout",
     "output_type": "stream",
     "text": [
      "Epoch: 095/100 training accuracy: 95.00%\n",
      "Epoch: 096/100 | Batch 000/012 | Cost: 0.0872\n",
      "Epoch: 096/100 training accuracy: 96.00%\n",
      "Epoch: 097/100 | Batch 000/012 | Cost: 0.1350\n",
      "Epoch: 097/100 training accuracy: 96.00%\n",
      "Epoch: 098/100 | Batch 000/012 | Cost: 0.0669\n",
      "Epoch: 098/100 training accuracy: 96.00%\n",
      "Epoch: 099/100 | Batch 000/012 | Cost: 0.1377\n",
      "Epoch: 099/100 training accuracy: 96.00%\n",
      "Epoch: 100/100 | Batch 000/012 | Cost: 0.1569\n",
      "Epoch: 100/100 training accuracy: 96.00%\n"
     ]
    }
   ],
   "source": [
    "# Manual seed for deterministic data loader\n",
    "torch.manual_seed(random_seed)\n",
    "\n",
    "\n",
    "def compute_accuracy(model, data_loader):\n",
    "    correct_pred, num_examples = 0, 0\n",
    "    \n",
    "    for features, targets in data_loader:\n",
    "        features = features.to(device)\n",
    "        targets = targets.to(device)\n",
    "        logits, probas = model(features)\n",
    "        _, predicted_labels = torch.max(probas, 1)\n",
    "        num_examples += targets.size(0)\n",
    "        correct_pred += (predicted_labels == targets).sum()\n",
    "        \n",
    "    return correct_pred.float() / num_examples * 100\n",
    "    \n",
    "\n",
    "for epoch in range(num_epochs):\n",
    "    for batch_idx, (features, targets) in enumerate(train_loader):\n",
    "        \n",
    "        features = features.to(device)\n",
    "        targets = targets.to(device)\n",
    "            \n",
    "        ### FORWARD AND BACK PROP\n",
    "        logits, probas = model(features)\n",
    "        \n",
    "        # note that the PyTorch implementation of\n",
    "        # CrossEntropyLoss works with logits, not\n",
    "        # probabilities\n",
    "        cost = F.cross_entropy(logits, targets)\n",
    "        optimizer.zero_grad()\n",
    "        cost.backward()\n",
    "        \n",
    "        ### UPDATE MODEL PARAMETERS\n",
    "        optimizer.step()\n",
    "        \n",
    "        ### LOGGING\n",
    "        if not batch_idx % 50:\n",
    "            print ('Epoch: %03d/%03d | Batch %03d/%03d | Cost: %.4f' \n",
    "                   %(epoch+1, num_epochs, batch_idx, \n",
    "                     len(train_dataset)//batch_size, cost))\n",
    "            \n",
    "    with torch.set_grad_enabled(False):\n",
    "        print('Epoch: %03d/%03d training accuracy: %.2f%%' % (\n",
    "              epoch+1, num_epochs, \n",
    "              compute_accuracy(model, train_loader)))"
   ]
  },
  {
   "cell_type": "code",
   "execution_count": 18,
   "metadata": {},
   "outputs": [
    {
     "name": "stdout",
     "output_type": "stream",
     "text": [
      "Test accuracy: 96.00%\n"
     ]
    }
   ],
   "source": [
    "print('Test accuracy: %.2f%%' % (compute_accuracy(model, test_loader)))"
   ]
  },
  {
   "cell_type": "markdown",
   "metadata": {},
   "source": [
    "## Creating a ModelWrapper class for plot_decision_regions"
   ]
  },
  {
   "cell_type": "markdown",
   "metadata": {},
   "source": [
    "All we need is a simple class that implements a `predict` method. That's it."
   ]
  },
  {
   "cell_type": "code",
   "execution_count": 19,
   "metadata": {},
   "outputs": [],
   "source": [
    "class ModelWrapper():\n",
    "    def __init__(self, model, device):\n",
    "        self.model = model\n",
    "        self.device = device\n",
    "        \n",
    "    def predict(self, X):\n",
    "        features = torch.tensor(X, dtype=torch.float32, device=self.device)\n",
    "        logits, probas = self.model(features)\n",
    "        _, predicted_labels = torch.max(probas, 1)\n",
    "        \n",
    "        return predicted_labels.numpy()"
   ]
  },
  {
   "cell_type": "code",
   "execution_count": 20,
   "metadata": {},
   "outputs": [],
   "source": [
    "mymodel = ModelWrapper(model, device=torch.device('cpu'))"
   ]
  },
  {
   "cell_type": "code",
   "execution_count": 21,
   "metadata": {},
   "outputs": [
    {
     "data": {
      "image/png": "[encoded data removed]",
      "text/plain": [
       "<Figure size 432x288 with 1 Axes>"
      ]
     },
     "metadata": {
      "needs_background": "light"
     },
     "output_type": "display_data"
    }
   ],
   "source": [
    "%matplotlib inline\n",
    "import matplotlib.pyplot as plt\n",
    "from mlxtend.plotting import plot_decision_regions\n",
    "\n",
    "plot_decision_regions(X, y, mymodel)\n",
    "plt.show()"
   ]
  },
  {
   "cell_type": "code",
   "execution_count": null,
   "metadata": {},
   "outputs": [],
   "source": []
  }
 ],
 "metadata": {
  "kernelspec": {
   "display_name": "Python 3",
   "language": "python",
   "name": "python3"
  },
  "language_info": {
   "codemirror_mode": {
    "name": "ipython",
    "version": 3
   },
   "file_extension": ".py",
   "mimetype": "text/x-python",
   "name": "python",
   "nbconvert_exporter": "python",
   "pygments_lexer": "ipython3",
   "version": "3.6.10"
  },
  "toc": {
   "base_numbering": 1,
   "nav_menu": {},
   "number_sections": true,
   "sideBar": true,
   "skip_h1_title": false,
   "title_cell": "Table of Contents",
   "title_sidebar": "Contents",
   "toc_cell": false,
   "toc_position": {},
   "toc_section_display": true,
   "toc_window_display": false
  }
 },
 "nbformat": 4,
 "nbformat_minor": 4
}
