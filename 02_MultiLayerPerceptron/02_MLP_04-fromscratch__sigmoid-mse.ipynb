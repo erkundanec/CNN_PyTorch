{
 "cells": [
  {
   "cell_type": "markdown",
   "metadata": {},
   "source": [
    "# Module version used\n",
    "\n",
    "- torch 1.4.0\n",
    "- numpy 1.18.1\n",
    "- CPython 3.6.10\n",
    "- IPython 7.12.0"
   ]
  },
  {
   "cell_type": "markdown",
   "metadata": {},
   "source": [
    "# Multilayer Perceptron From Scratch (Sigmoid activation, MSE Loss)"
   ]
  },
  {
   "cell_type": "markdown",
   "metadata": {},
   "source": [
    "Implementation of a 1-hidden layer multi-layer perceptron from scratch using\n",
    "- sigmoid activation in the hidden layer\n",
    "- sigmoid activation in the output layer\n",
    "- Mean Squared Error loss function"
   ]
  },
  {
   "cell_type": "markdown",
   "metadata": {},
   "source": [
    "## Imports"
   ]
  },
  {
   "cell_type": "code",
   "execution_count": 1,
   "metadata": {},
   "outputs": [],
   "source": [
    "import matplotlib.pyplot as plt\n",
    "import pandas as pd\n",
    "import torch\n",
    "%matplotlib inline"
   ]
  },
  {
   "cell_type": "code",
   "execution_count": 2,
   "metadata": {},
   "outputs": [],
   "source": [
    "import time\n",
    "import numpy as np\n",
    "from torchvision import datasets\n",
    "from torchvision import transforms\n",
    "from torch.utils.data import DataLoader\n",
    "import torch.nn.functional as F\n",
    "import torch"
   ]
  },
  {
   "cell_type": "markdown",
   "metadata": {},
   "source": [
    "## Settings and Dataset"
   ]
  },
  {
   "cell_type": "code",
   "execution_count": 3,
   "metadata": {},
   "outputs": [
    {
     "name": "stdout",
     "output_type": "stream",
     "text": [
      "Image batch dimensions: torch.Size([100, 1, 28, 28])\n",
      "Image label dimensions: torch.Size([100])\n"
     ]
    }
   ],
   "source": [
    "##########################\n",
    "### SETTINGS\n",
    "##########################\n",
    "\n",
    "RANDOM_SEED = 1\n",
    "BATCH_SIZE = 100\n",
    "NUM_EPOCHS = 10\n",
    "\n",
    "##########################\n",
    "### MNIST DATASET\n",
    "##########################\n",
    "serverAvailable = \"no\"\n",
    "if serverAvailable == \"yes\":\n",
    "    datapath = \"../database/\"\n",
    "else:\n",
    "    datapath = '/Users/kundan/MEGA/DatabaseLocal/'\n",
    "\n",
    "# Note transforms.ToTensor() scales input images\n",
    "# to 0-1 range\n",
    "train_dataset = datasets.MNIST(root=datapath, \n",
    "                               train=True, \n",
    "                               transform=transforms.ToTensor(),\n",
    "                               download=True)\n",
    "\n",
    "test_dataset = datasets.MNIST(root=datapath, \n",
    "                              train=False, \n",
    "                              transform=transforms.ToTensor())\n",
    "\n",
    "\n",
    "train_loader = DataLoader(dataset=train_dataset, \n",
    "                          batch_size=BATCH_SIZE, \n",
    "                          shuffle=True)\n",
    "\n",
    "test_loader = DataLoader(dataset=test_dataset, \n",
    "                         batch_size=BATCH_SIZE, \n",
    "                         shuffle=False)\n",
    "\n",
    "# Checking the dataset\n",
    "for images, labels in train_loader:  \n",
    "    print('Image batch dimensions:', images.shape)\n",
    "    print('Image label dimensions:', labels.shape)\n",
    "    break"
   ]
  },
  {
   "cell_type": "markdown",
   "metadata": {},
   "source": [
    "## Model Implementation"
   ]
  },
  {
   "cell_type": "code",
   "execution_count": 4,
   "metadata": {},
   "outputs": [],
   "source": [
    "##########################\n",
    "### MODEL\n",
    "##########################\n",
    "\n",
    "class MultilayerPerceptron():\n",
    "\n",
    "    def __init__(self, num_features, num_hidden, num_classes):\n",
    "        super(MultilayerPerceptron, self).__init__()\n",
    "        \n",
    "        self.num_classes = num_classes\n",
    "        \n",
    "        # hidden 1\n",
    "        self.weight_1 = torch.zeros(num_hidden, num_features, \n",
    "                                    dtype=torch.float).normal_(0.0, 0.1)\n",
    "        self.bias_1 = torch.zeros(num_hidden, dtype=torch.float)\n",
    "        \n",
    "        # output\n",
    "        self.weight_o = torch.zeros(self.num_classes, num_hidden, \n",
    "                                    dtype=torch.float).normal_(0.0, 0.1)\n",
    "        self.bias_o = torch.zeros(self.num_classes, dtype=torch.float)\n",
    "        \n",
    "    def forward(self, x):\n",
    "        # hidden 1\n",
    "        \n",
    "        # input dim: [n_hidden, n_features] dot [n_features, n_examples] .T\n",
    "        # output dim: [n_examples, n_hidden]\n",
    "        z_1 = torch.mm(x, self.weight_1.t()) + self.bias_1\n",
    "        a_1 = torch.sigmoid(z_1)\n",
    "\n",
    "        # hidden 2\n",
    "        # input dim: [n_classes, n_hidden] dot [n_hidden, n_examples] .T\n",
    "        # output dim: [n_examples, n_classes]\n",
    "        z_2 = torch.mm(a_1, self.weight_o.t()) + self.bias_o\n",
    "        a_2 = torch.sigmoid(z_2)\n",
    "        return a_1, a_2\n",
    "\n",
    "    def backward(self, x, a_1, a_2, y):  \n",
    "    \n",
    "        #########################\n",
    "        ### Output layer weights\n",
    "        #########################\n",
    "        \n",
    "        # onehot encoding\n",
    "        y_onehot = torch.FloatTensor(y.size(0), self.num_classes)\n",
    "        y_onehot.zero_()\n",
    "        y_onehot.scatter_(1, y.view(-1, 1).long(), 1)\n",
    "        \n",
    "\n",
    "        # Part 1: dLoss/dOutWeights\n",
    "        ## = dLoss/dOutAct * dOutAct/dOutNet * dOutNet/dOutWeight\n",
    "        ## where DeltaOut = dLoss/dOutAct * dOutAct/dOutNet\n",
    "        ## for convenient re-use\n",
    "        \n",
    "        # input/output dim: [n_examples, n_classes]\n",
    "        dloss_da2 = 2.*(a_2 - y_onehot) / y.size(0)\n",
    "\n",
    "        # input/output dim: [n_examples, n_classes]\n",
    "        da2_dz2 = a_2 * (1. - a_2) # sigmoid derivative\n",
    "\n",
    "        # output dim: [n_examples, n_classes]\n",
    "        delta_out = dloss_da2 * da2_dz2 # \"delta (rule) placeholder\"\n",
    "\n",
    "        # gradient for output weights\n",
    "        \n",
    "        # [n_examples, n_hidden]\n",
    "        dz2__dw_out = a_1\n",
    "        \n",
    "        # input dim: [n_classlabels, n_examples] dot [n_examples, n_hidden]\n",
    "        # output dim: [n_classlabels, n_hidden]\n",
    "        dloss__dw_out = torch.mm(delta_out.t(), dz2__dw_out)\n",
    "        dloss__db_out = torch.sum(delta_out, dim=0)\n",
    "        \n",
    "\n",
    "        #################################        \n",
    "        # Part 2: dLoss/dHiddenWeights\n",
    "        ## = DeltaOut * dOutNet/dHiddenAct * dHiddenAct/dHiddenNet * dHiddenNet/dWeight\n",
    "        \n",
    "        # [n_classes, n_hidden]\n",
    "        dz2__a1 = self.weight_o\n",
    "        \n",
    "        # output dim: [n_examples, n_hidden]\n",
    "        dloss_a1 = torch.mm(delta_out, dz2__a1)\n",
    "        \n",
    "        # [n_examples, n_hidden]\n",
    "        da1__dz1 = a_1 * (1. - a_1) # sigmoid derivative\n",
    "        \n",
    "        # [n_examples, n_features]\n",
    "        dz1__dw1 = x\n",
    "        \n",
    "        # output dim: [n_hidden, n_features]\n",
    "        dloss_dw1 = torch.mm((dloss_a1 * da1__dz1).t(), dz1__dw1)\n",
    "        dloss_db1 = torch.sum((dloss_a1 * da1__dz1), dim=0)\n",
    "\n",
    "        return dloss__dw_out, dloss__db_out, dloss_dw1, dloss_db1"
   ]
  },
  {
   "cell_type": "markdown",
   "metadata": {},
   "source": [
    "## Training"
   ]
  },
  {
   "cell_type": "code",
   "execution_count": 6,
   "metadata": {},
   "outputs": [],
   "source": [
    "####################################################\n",
    "##### Training and evaluation wrappers\n",
    "###################################################\n",
    "\n",
    "def to_onehot(y, num_classes):\n",
    "    y_onehot = torch.FloatTensor(y.size(0), num_classes)\n",
    "    y_onehot.zero_()\n",
    "    y_onehot.scatter_(1, y.view(-1, 1).long(), 1).float()\n",
    "    return y_onehot\n",
    "\n",
    "\n",
    "def loss_func(targets_onehot, probas_onehot):\n",
    "    return torch.mean(torch.mean((targets_onehot - probas_onehot)**2, dim=0))\n",
    "\n",
    "\n",
    "def compute_mse(net, data_loader):\n",
    "    curr_mse, num_examples = torch.zeros(model.num_classes).float(), 0\n",
    "    with torch.no_grad():\n",
    "        for features, targets in data_loader:\n",
    "            features = features.view(-1, 28*28)\n",
    "            logits, probas = net.forward(features)\n",
    "            y_onehot = to_onehot(targets, model.num_classes)\n",
    "            loss = torch.sum((y_onehot - probas)**2, dim=0)\n",
    "            num_examples += targets.size(0)\n",
    "            curr_mse += loss\n",
    "\n",
    "        curr_mse = torch.mean(curr_mse/num_examples, dim=0)\n",
    "        return curr_mse\n",
    "\n",
    "\n",
    "def train(model, data_loader, num_epochs,\n",
    "          learning_rate=0.1):\n",
    "    \n",
    "    minibatch_cost = []\n",
    "    epoch_cost = []\n",
    "    \n",
    "    for e in range(num_epochs):\n",
    "        \n",
    "        for batch_idx, (features, targets) in enumerate(train_loader):\n",
    "            \n",
    "            features = features.view(-1, 28*28)\n",
    "            \n",
    "            #### Compute outputs ####\n",
    "            a_1, a_2 = model.forward(features)\n",
    "\n",
    "            #### Compute gradients ####\n",
    "            dloss__dw_out, dloss__db_out, dloss_dw1, dloss_db1 = \\\n",
    "                model.backward(features, a_1, a_2, targets)\n",
    "\n",
    "            #### Update weights ####\n",
    "            model.weight_1 -= learning_rate * dloss_dw1\n",
    "            model.bias_1 -= learning_rate * dloss_db1\n",
    "            model.weight_o -= learning_rate * dloss__dw_out\n",
    "            model.bias_o -= learning_rate * dloss__db_out\n",
    "            \n",
    "            #### Logging ####\n",
    "            curr_cost = loss_func(to_onehot(targets, model.num_classes), a_2)\n",
    "            minibatch_cost.append(curr_cost)\n",
    "            if not batch_idx % 50:\n",
    "                print ('Epoch: %03d/%03d | Batch %03d/%03d | Cost: %.4f' \n",
    "                       %(e+1, NUM_EPOCHS, batch_idx, \n",
    "                         len(train_loader), curr_cost))\n",
    "        \n",
    "        #### Logging ####        \n",
    "        curr_cost = compute_mse(model, train_loader)\n",
    "        epoch_cost.append(curr_cost)\n",
    "        print('Epoch: %03d/%03d |' % (e+1, NUM_EPOCHS), end=\"\")\n",
    "        print(' Train MSE: %.5f' % curr_cost)\n",
    "\n",
    "    return minibatch_cost, epoch_cost"
   ]
  },
  {
   "cell_type": "code",
   "execution_count": 7,
   "metadata": {
    "scrolled": true
   },
   "outputs": [
    {
     "name": "stdout",
     "output_type": "stream",
     "text": [
      "Epoch: 001/010 | Batch 000/600 | Cost: 0.2471\n",
      "Epoch: 001/010 | Batch 050/600 | Cost: 0.0885\n",
      "Epoch: 001/010 | Batch 100/600 | Cost: 0.0880\n",
      "Epoch: 001/010 | Batch 150/600 | Cost: 0.0877\n",
      "Epoch: 001/010 | Batch 200/600 | Cost: 0.0847\n",
      "Epoch: 001/010 | Batch 250/600 | Cost: 0.0838\n",
      "Epoch: 001/010 | Batch 300/600 | Cost: 0.0808\n",
      "Epoch: 001/010 | Batch 350/600 | Cost: 0.0801\n",
      "Epoch: 001/010 | Batch 400/600 | Cost: 0.0766\n",
      "Epoch: 001/010 | Batch 450/600 | Cost: 0.0740\n",
      "Epoch: 001/010 | Batch 500/600 | Cost: 0.0730\n",
      "Epoch: 001/010 | Batch 550/600 | Cost: 0.0730\n",
      "Epoch: 001/010 | Train MSE: 0.06566\n",
      "Epoch: 002/010 | Batch 000/600 | Cost: 0.0644\n",
      "Epoch: 002/010 | Batch 050/600 | Cost: 0.0637\n",
      "Epoch: 002/010 | Batch 100/600 | Cost: 0.0600\n",
      "Epoch: 002/010 | Batch 150/600 | Cost: 0.0580\n",
      "Epoch: 002/010 | Batch 200/600 | Cost: 0.0541\n",
      "Epoch: 002/010 | Batch 250/600 | Cost: 0.0546\n",
      "Epoch: 002/010 | Batch 300/600 | Cost: 0.0547\n",
      "Epoch: 002/010 | Batch 350/600 | Cost: 0.0488\n",
      "Epoch: 002/010 | Batch 400/600 | Cost: 0.0515\n",
      "Epoch: 002/010 | Batch 450/600 | Cost: 0.0476\n",
      "Epoch: 002/010 | Batch 500/600 | Cost: 0.0486\n",
      "Epoch: 002/010 | Batch 550/600 | Cost: 0.0447\n",
      "Epoch: 002/010 | Train MSE: 0.04302\n",
      "Epoch: 003/010 | Batch 000/600 | Cost: 0.0413\n",
      "Epoch: 003/010 | Batch 050/600 | Cost: 0.0404\n",
      "Epoch: 003/010 | Batch 100/600 | Cost: 0.0374\n",
      "Epoch: 003/010 | Batch 150/600 | Cost: 0.0351\n",
      "Epoch: 003/010 | Batch 200/600 | Cost: 0.0374\n",
      "Epoch: 003/010 | Batch 250/600 | Cost: 0.0371\n",
      "Epoch: 003/010 | Batch 300/600 | Cost: 0.0347\n",
      "Epoch: 003/010 | Batch 350/600 | Cost: 0.0359\n",
      "Epoch: 003/010 | Batch 400/600 | Cost: 0.0373\n",
      "Epoch: 003/010 | Batch 450/600 | Cost: 0.0305\n",
      "Epoch: 003/010 | Batch 500/600 | Cost: 0.0333\n",
      "Epoch: 003/010 | Batch 550/600 | Cost: 0.0318\n",
      "Epoch: 003/010 | Train MSE: 0.03251\n",
      "Epoch: 004/010 | Batch 000/600 | Cost: 0.0292\n",
      "Epoch: 004/010 | Batch 050/600 | Cost: 0.0312\n",
      "Epoch: 004/010 | Batch 100/600 | Cost: 0.0273\n",
      "Epoch: 004/010 | Batch 150/600 | Cost: 0.0293\n",
      "Epoch: 004/010 | Batch 200/600 | Cost: 0.0293\n",
      "Epoch: 004/010 | Batch 250/600 | Cost: 0.0292\n",
      "Epoch: 004/010 | Batch 300/600 | Cost: 0.0350\n",
      "Epoch: 004/010 | Batch 350/600 | Cost: 0.0312\n",
      "Epoch: 004/010 | Batch 400/600 | Cost: 0.0276\n",
      "Epoch: 004/010 | Batch 450/600 | Cost: 0.0312\n",
      "Epoch: 004/010 | Batch 500/600 | Cost: 0.0315\n",
      "Epoch: 004/010 | Batch 550/600 | Cost: 0.0291\n",
      "Epoch: 004/010 | Train MSE: 0.02692\n",
      "Epoch: 005/010 | Batch 000/600 | Cost: 0.0282\n",
      "Epoch: 005/010 | Batch 050/600 | Cost: 0.0264\n",
      "Epoch: 005/010 | Batch 100/600 | Cost: 0.0231\n",
      "Epoch: 005/010 | Batch 150/600 | Cost: 0.0242\n",
      "Epoch: 005/010 | Batch 200/600 | Cost: 0.0260\n",
      "Epoch: 005/010 | Batch 250/600 | Cost: 0.0215\n",
      "Epoch: 005/010 | Batch 300/600 | Cost: 0.0294\n",
      "Epoch: 005/010 | Batch 350/600 | Cost: 0.0220\n",
      "Epoch: 005/010 | Batch 400/600 | Cost: 0.0246\n",
      "Epoch: 005/010 | Batch 450/600 | Cost: 0.0229\n",
      "Epoch: 005/010 | Batch 500/600 | Cost: 0.0289\n",
      "Epoch: 005/010 | Batch 550/600 | Cost: 0.0240\n",
      "Epoch: 005/010 | Train MSE: 0.02365\n",
      "Epoch: 006/010 | Batch 000/600 | Cost: 0.0201\n",
      "Epoch: 006/010 | Batch 050/600 | Cost: 0.0223\n",
      "Epoch: 006/010 | Batch 100/600 | Cost: 0.0253\n",
      "Epoch: 006/010 | Batch 150/600 | Cost: 0.0258\n",
      "Epoch: 006/010 | Batch 200/600 | Cost: 0.0216\n",
      "Epoch: 006/010 | Batch 250/600 | Cost: 0.0282\n",
      "Epoch: 006/010 | Batch 300/600 | Cost: 0.0203\n",
      "Epoch: 006/010 | Batch 350/600 | Cost: 0.0218\n",
      "Epoch: 006/010 | Batch 400/600 | Cost: 0.0249\n",
      "Epoch: 006/010 | Batch 450/600 | Cost: 0.0211\n",
      "Epoch: 006/010 | Batch 500/600 | Cost: 0.0230\n",
      "Epoch: 006/010 | Batch 550/600 | Cost: 0.0174\n",
      "Epoch: 006/010 | Train MSE: 0.02156\n",
      "Epoch: 007/010 | Batch 000/600 | Cost: 0.0186\n",
      "Epoch: 007/010 | Batch 050/600 | Cost: 0.0223\n",
      "Epoch: 007/010 | Batch 100/600 | Cost: 0.0208\n",
      "Epoch: 007/010 | Batch 150/600 | Cost: 0.0231\n",
      "Epoch: 007/010 | Batch 200/600 | Cost: 0.0219\n",
      "Epoch: 007/010 | Batch 250/600 | Cost: 0.0206\n",
      "Epoch: 007/010 | Batch 300/600 | Cost: 0.0227\n",
      "Epoch: 007/010 | Batch 350/600 | Cost: 0.0249\n",
      "Epoch: 007/010 | Batch 400/600 | Cost: 0.0214\n",
      "Epoch: 007/010 | Batch 450/600 | Cost: 0.0203\n",
      "Epoch: 007/010 | Batch 500/600 | Cost: 0.0209\n",
      "Epoch: 007/010 | Batch 550/600 | Cost: 0.0160\n",
      "Epoch: 007/010 | Train MSE: 0.02006\n",
      "Epoch: 008/010 | Batch 000/600 | Cost: 0.0171\n",
      "Epoch: 008/010 | Batch 050/600 | Cost: 0.0232\n",
      "Epoch: 008/010 | Batch 100/600 | Cost: 0.0227\n",
      "Epoch: 008/010 | Batch 150/600 | Cost: 0.0156\n",
      "Epoch: 008/010 | Batch 200/600 | Cost: 0.0157\n",
      "Epoch: 008/010 | Batch 250/600 | Cost: 0.0189\n",
      "Epoch: 008/010 | Batch 300/600 | Cost: 0.0154\n",
      "Epoch: 008/010 | Batch 350/600 | Cost: 0.0213\n",
      "Epoch: 008/010 | Batch 400/600 | Cost: 0.0158\n",
      "Epoch: 008/010 | Batch 450/600 | Cost: 0.0201\n",
      "Epoch: 008/010 | Batch 500/600 | Cost: 0.0176\n",
      "Epoch: 008/010 | Batch 550/600 | Cost: 0.0254\n",
      "Epoch: 008/010 | Train MSE: 0.01892\n",
      "Epoch: 009/010 | Batch 000/600 | Cost: 0.0195\n",
      "Epoch: 009/010 | Batch 050/600 | Cost: 0.0214\n",
      "Epoch: 009/010 | Batch 100/600 | Cost: 0.0255\n",
      "Epoch: 009/010 | Batch 150/600 | Cost: 0.0153\n",
      "Epoch: 009/010 | Batch 200/600 | Cost: 0.0184\n",
      "Epoch: 009/010 | Batch 250/600 | Cost: 0.0247\n",
      "Epoch: 009/010 | Batch 300/600 | Cost: 0.0151\n",
      "Epoch: 009/010 | Batch 350/600 | Cost: 0.0165\n",
      "Epoch: 009/010 | Batch 400/600 | Cost: 0.0171\n",
      "Epoch: 009/010 | Batch 450/600 | Cost: 0.0136\n",
      "Epoch: 009/010 | Batch 500/600 | Cost: 0.0206\n",
      "Epoch: 009/010 | Batch 550/600 | Cost: 0.0142\n",
      "Epoch: 009/010 | Train MSE: 0.01803\n",
      "Epoch: 010/010 | Batch 000/600 | Cost: 0.0183\n",
      "Epoch: 010/010 | Batch 050/600 | Cost: 0.0222\n",
      "Epoch: 010/010 | Batch 100/600 | Cost: 0.0203\n",
      "Epoch: 010/010 | Batch 150/600 | Cost: 0.0224\n",
      "Epoch: 010/010 | Batch 200/600 | Cost: 0.0234\n",
      "Epoch: 010/010 | Batch 250/600 | Cost: 0.0229\n",
      "Epoch: 010/010 | Batch 300/600 | Cost: 0.0179\n",
      "Epoch: 010/010 | Batch 350/600 | Cost: 0.0181\n",
      "Epoch: 010/010 | Batch 400/600 | Cost: 0.0122\n",
      "Epoch: 010/010 | Batch 450/600 | Cost: 0.0176\n",
      "Epoch: 010/010 | Batch 500/600 | Cost: 0.0198\n",
      "Epoch: 010/010 | Batch 550/600 | Cost: 0.0142\n",
      "Epoch: 010/010 | Train MSE: 0.01727\n"
     ]
    }
   ],
   "source": [
    "####################################################\n",
    "##### Training \n",
    "###################################################\n",
    "\n",
    "torch.manual_seed(RANDOM_SEED)\n",
    "model = MultilayerPerceptron(num_features=28*28,\n",
    "                             num_hidden=50,\n",
    "                             num_classes=10)\n",
    "\n",
    "minibatch_cost, epoch_cost = train(model, \n",
    "                                   train_loader,\n",
    "                                   num_epochs=NUM_EPOCHS,\n",
    "                                   learning_rate=0.1)"
   ]
  },
  {
   "cell_type": "markdown",
   "metadata": {},
   "source": [
    "## Evaluation"
   ]
  },
  {
   "cell_type": "code",
   "execution_count": 8,
   "metadata": {},
   "outputs": [
    {
     "data": {
      "image/png": "[encoded data removed]",
      "text/plain": [
       "<Figure size 432x288 with 1 Axes>"
      ]
     },
     "metadata": {
      "needs_background": "light"
     },
     "output_type": "display_data"
    },
    {
     "data": {
      "image/png": "[encoded data removed]",
      "text/plain": [
       "<Figure size 432x288 with 1 Axes>"
      ]
     },
     "metadata": {
      "needs_background": "light"
     },
     "output_type": "display_data"
    }
   ],
   "source": [
    "plt.plot(range(len(minibatch_cost)), minibatch_cost)\n",
    "plt.ylabel('Mean Squared Error')\n",
    "plt.xlabel('Minibatch')\n",
    "plt.show()\n",
    "\n",
    "plt.plot(range(len(epoch_cost)), epoch_cost)\n",
    "plt.ylabel('Mean Squared Error')\n",
    "plt.xlabel('Epoch')\n",
    "plt.show()"
   ]
  },
  {
   "cell_type": "code",
   "execution_count": 9,
   "metadata": {},
   "outputs": [
    {
     "name": "stdout",
     "output_type": "stream",
     "text": [
      "Training Accuracy: 90.76\n",
      "Test Accuracy: 91.17\n"
     ]
    }
   ],
   "source": [
    "def compute_accuracy(net, data_loader):\n",
    "    correct_pred, num_examples = 0, 0\n",
    "    with torch.no_grad():\n",
    "        for features, targets in data_loader:\n",
    "            features = features.view(-1, 28*28)\n",
    "            _, outputs = net.forward(features)\n",
    "            predicted_labels = torch.argmax(outputs, 1)\n",
    "            num_examples += targets.size(0)\n",
    "            correct_pred += (predicted_labels == targets).sum()\n",
    "        return correct_pred.float()/num_examples * 100\n",
    "    \n",
    "print('Training Accuracy: %.2f' % compute_accuracy(model, train_loader))\n",
    "print('Test Accuracy: %.2f' % compute_accuracy(model, test_loader))"
   ]
  },
  {
   "cell_type": "markdown",
   "metadata": {},
   "source": [
    "## Visual Inspection"
   ]
  },
  {
   "cell_type": "code",
   "execution_count": 10,
   "metadata": {},
   "outputs": [],
   "source": [
    "%matplotlib inline\n",
    "import matplotlib\n",
    "import matplotlib.pyplot as plt"
   ]
  },
  {
   "cell_type": "code",
   "execution_count": 11,
   "metadata": {},
   "outputs": [
    {
     "data": {
      "image/png": "[encoded data removed]",
      "text/plain": [
       "<Figure size 432x288 with 4 Axes>"
      ]
     },
     "metadata": {
      "needs_background": "light"
     },
     "output_type": "display_data"
    }
   ],
   "source": [
    "for features, targets in test_loader:\n",
    "    break\n",
    "    \n",
    "fig, ax = plt.subplots(1, 4)\n",
    "for i in range(4):\n",
    "    ax[i].imshow(features[i].view(28, 28), cmap=matplotlib.cm.binary)\n",
    "\n",
    "plt.show()"
   ]
  },
  {
   "cell_type": "code",
   "execution_count": 15,
   "metadata": {},
   "outputs": [
    {
     "name": "stdout",
     "output_type": "stream",
     "text": [
      "Predicted labels tensor([7, 2, 1, 0])\n"
     ]
    }
   ],
   "source": [
    "_, predictions = model.forward(features[:4].view(-1, 28*28))\n",
    "predictions = torch.argmax(predictions, dim=1)\n",
    "print('Predicted labels', predictions)"
   ]
  },
  {
   "cell_type": "code",
   "execution_count": null,
   "metadata": {},
   "outputs": [],
   "source": []
  }
 ],
 "metadata": {
  "kernelspec": {
   "display_name": "Python 3",
   "language": "python",
   "name": "python3"
  },
  "language_info": {
   "codemirror_mode": {
    "name": "ipython",
    "version": 3
   },
   "file_extension": ".py",
   "mimetype": "text/x-python",
   "name": "python",
   "nbconvert_exporter": "python",
   "pygments_lexer": "ipython3",
   "version": "3.6.9"
  },
  "toc": {
   "base_numbering": 1,
   "nav_menu": {},
   "number_sections": true,
   "sideBar": true,
   "skip_h1_title": false,
   "title_cell": "Table of Contents",
   "title_sidebar": "Contents",
   "toc_cell": false,
   "toc_position": {},
   "toc_section_display": true,
   "toc_window_display": false
  }
 },
 "nbformat": 4,
 "nbformat_minor": 2
}
