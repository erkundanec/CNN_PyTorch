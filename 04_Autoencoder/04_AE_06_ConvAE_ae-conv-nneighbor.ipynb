{
 "cells": [
  {
   "cell_type": "markdown",
   "metadata": {},
   "source": [
    "# Module version used\n",
    "\n",
    "- torch 1.4\n",
    "- numpy 1.18.1\n",
    "- CPython 3.6.9\n",
    "- IPython 7.10.2\n",
    "- numpy     1.17.4\n",
    "- PIL.Image 6.2.1\n",
    "- pandas    0.25.3"
   ]
  },
  {
   "cell_type": "markdown",
   "metadata": {},
   "source": [
    "- Runs on CPU or GPU (if available)"
   ]
  },
  {
   "cell_type": "markdown",
   "metadata": {},
   "source": [
    "# Convolutional Autoencoder with Nearest-neighbor Interpolation"
   ]
  },
  {
   "cell_type": "markdown",
   "metadata": {},
   "source": [
    "A convolutional autoencoder using nearest neighbor upscaling layers that compresses 768-pixel MNIST images down to a 7x7x8 (392 pixel) representation."
   ]
  },
  {
   "cell_type": "markdown",
   "metadata": {},
   "source": [
    "## Imports"
   ]
  },
  {
   "cell_type": "code",
   "execution_count": 2,
   "metadata": {},
   "outputs": [],
   "source": [
    "import time\n",
    "import numpy as np\n",
    "import torch\n",
    "import torch.nn.functional as F\n",
    "from torch.utils.data import DataLoader\n",
    "from torchvision import datasets\n",
    "from torchvision import transforms\n",
    "\n",
    "\n",
    "if torch.cuda.is_available():\n",
    "    torch.backends.cudnn.deterministic = True"
   ]
  },
  {
   "cell_type": "code",
   "execution_count": 3,
   "metadata": {},
   "outputs": [
    {
     "name": "stdout",
     "output_type": "stream",
     "text": [
      "Device: cuda:0\n",
      "Image batch dimensions: torch.Size([128, 1, 28, 28])\n",
      "Image label dimensions: torch.Size([128])\n"
     ]
    }
   ],
   "source": [
    "##########################\n",
    "### SETTINGS\n",
    "##########################\n",
    "\n",
    "# Device\n",
    "device = torch.device(\"cuda:0\" if torch.cuda.is_available() else \"cpu\")\n",
    "print('Device:', device)\n",
    "\n",
    "# Hyperparameters\n",
    "random_seed = 123\n",
    "learning_rate = 0.05\n",
    "num_epochs = 10\n",
    "batch_size = 128\n",
    "\n",
    "\n",
    "##########################\n",
    "### MNIST DATASET\n",
    "##########################\n",
    "serverAvailable = \"no\"\n",
    "if serverAvailable == \"yes\":\n",
    "    datapath = \"../database/\"\n",
    "else:\n",
    "    datapath = '../../../../MEGA/DatabaseLocal/'\n",
    "\n",
    "# Note transforms.ToTensor() scales input images\n",
    "# to 0-1 range\n",
    "train_dataset = datasets.MNIST(root=datapath, \n",
    "                               train=True, \n",
    "                               transform=transforms.ToTensor(),\n",
    "                               download=True)\n",
    "\n",
    "test_dataset = datasets.MNIST(root=datapath, \n",
    "                              train=False, \n",
    "                              transform=transforms.ToTensor())\n",
    "\n",
    "\n",
    "train_loader = DataLoader(dataset=train_dataset, \n",
    "                          batch_size=batch_size, \n",
    "                          shuffle=True)\n",
    "\n",
    "test_loader = DataLoader(dataset=test_dataset, \n",
    "                         batch_size=batch_size, \n",
    "                         shuffle=False)\n",
    "\n",
    "# Checking the dataset\n",
    "for images, labels in train_loader:  \n",
    "    print('Image batch dimensions:', images.shape)\n",
    "    print('Image label dimensions:', labels.shape)\n",
    "    break"
   ]
  },
  {
   "cell_type": "markdown",
   "metadata": {},
   "source": [
    "## Model"
   ]
  },
  {
   "cell_type": "code",
   "execution_count": 4,
   "metadata": {},
   "outputs": [],
   "source": [
    "##########################\n",
    "### MODEL\n",
    "##########################\n",
    "\n",
    "class ConvolutionalAutoencoder(torch.nn.Module):\n",
    "\n",
    "    def __init__(self):\n",
    "        super(ConvolutionalAutoencoder, self).__init__()\n",
    "        \n",
    "        # calculate same padding:\n",
    "        # (w - k + 2*p)/s + 1 = o\n",
    "        # => p = (s(o-1) - w + k)/2\n",
    "        \n",
    "        ### ENCODER\n",
    "        \n",
    "        # 28x28x1 => 28x28x4\n",
    "        self.conv_1 = torch.nn.Conv2d(in_channels=1,\n",
    "                                      out_channels=4,\n",
    "                                      kernel_size=(3, 3),\n",
    "                                      stride=(1, 1),\n",
    "                                      # (1(28-1) - 28 + 3) / 2 = 1\n",
    "                                      padding=1)\n",
    "        # 28x28x4 => 14x14x4\n",
    "        self.pool_1 = torch.nn.MaxPool2d(kernel_size=(2, 2),\n",
    "                                         stride=(2, 2),\n",
    "                                         # (2(14-1) - 28 + 2) / 2 = 0\n",
    "                                         padding=0)                                       \n",
    "        # 14x14x4 => 14x14x8\n",
    "        self.conv_2 = torch.nn.Conv2d(in_channels=4,\n",
    "                                      out_channels=8,\n",
    "                                      kernel_size=(3, 3),\n",
    "                                      stride=(1, 1),\n",
    "                                      # (1(14-1) - 14 + 3) / 2 = 1\n",
    "                                      padding=1)                 \n",
    "        # 14x14x8 => 7x7x8                             \n",
    "        self.pool_2 = torch.nn.MaxPool2d(kernel_size=(2, 2),\n",
    "                                         stride=(2, 2),\n",
    "                                         # (2(7-1) - 14 + 2) / 2 = 0\n",
    "                                         padding=0)\n",
    "        \n",
    "        ### DECODER\n",
    "                                         \n",
    "        # 7x7x8 => 14x14x8               \n",
    "        # Unpool\n",
    "\n",
    "        # 14x14x8 => 14x14x8\n",
    "        self.conv_3 = torch.nn.Conv2d(in_channels=8,\n",
    "                                      out_channels=4,\n",
    "                                      kernel_size=(3, 3),\n",
    "                                      stride=(1, 1),\n",
    "                                      # (1(14-1) - 14 + 3) / 2 = 1\n",
    "                                      padding=1)\n",
    "        # 14x14x4 => 28x28x4                            \n",
    "        # Unpool\n",
    "        \n",
    "        # 28x28x4 => 28x28x1\n",
    "        self.conv_4 = torch.nn.Conv2d(in_channels=4,\n",
    "                                      out_channels=1,\n",
    "                                      kernel_size=(3, 3),\n",
    "                                      stride=(1, 1),\n",
    "                                      # (1(28-1) - 28 + 3) / 2 = 1\n",
    "                                      padding=1)\n",
    "        \n",
    "    def forward(self, x):\n",
    "        \n",
    "        ### ENCODER\n",
    "        x = self.conv_1(x)\n",
    "        x = F.leaky_relu(x)\n",
    "        x = self.pool_1(x)\n",
    "        x = self.conv_2(x)\n",
    "        x = F.leaky_relu(x)\n",
    "        x = self.pool_2(x)\n",
    "        \n",
    "        ### DECODER\n",
    "        x = F.interpolate(x, scale_factor=2, mode='nearest')\n",
    "        x = self.conv_3(x)\n",
    "        x = F.leaky_relu(x)\n",
    "        x = F.interpolate(x, scale_factor=2, mode='nearest')\n",
    "        x = self.conv_4(x)\n",
    "        logits = F.leaky_relu(x)\n",
    "        probas = torch.sigmoid(logits)\n",
    "        return logits, probas\n",
    "\n",
    "    \n",
    "torch.manual_seed(random_seed)\n",
    "model = ConvolutionalAutoencoder()\n",
    "model = model.to(device)\n",
    "\n",
    "optimizer = torch.optim.Adam(model.parameters(), lr=learning_rate)  "
   ]
  },
  {
   "cell_type": "code",
   "execution_count": 5,
   "metadata": {},
   "outputs": [
    {
     "name": "stdout",
     "output_type": "stream",
     "text": [
      "ConvolutionalAutoencoder(\n",
      "  (conv_1): Conv2d(1, 4, kernel_size=(3, 3), stride=(1, 1), padding=(1, 1))\n",
      "  (pool_1): MaxPool2d(kernel_size=(2, 2), stride=(2, 2), padding=0, dilation=1, ceil_mode=False)\n",
      "  (conv_2): Conv2d(4, 8, kernel_size=(3, 3), stride=(1, 1), padding=(1, 1))\n",
      "  (pool_2): MaxPool2d(kernel_size=(2, 2), stride=(2, 2), padding=0, dilation=1, ceil_mode=False)\n",
      "  (conv_3): Conv2d(8, 4, kernel_size=(3, 3), stride=(1, 1), padding=(1, 1))\n",
      "  (conv_4): Conv2d(4, 1, kernel_size=(3, 3), stride=(1, 1), padding=(1, 1))\n",
      ")\n"
     ]
    }
   ],
   "source": [
    "print(model)"
   ]
  },
  {
   "cell_type": "markdown",
   "metadata": {},
   "source": [
    "## Training"
   ]
  },
  {
   "cell_type": "code",
   "execution_count": 6,
   "metadata": {
    "scrolled": true
   },
   "outputs": [
    {
     "name": "stdout",
     "output_type": "stream",
     "text": [
      "Epoch: 001/010 | Batch 000/469 | Cost: 0.7008\n",
      "Epoch: 001/010 | Batch 050/469 | Cost: 0.1793\n",
      "Epoch: 001/010 | Batch 100/469 | Cost: 0.1380\n",
      "Epoch: 001/010 | Batch 150/469 | Cost: 0.1249\n",
      "Epoch: 001/010 | Batch 200/469 | Cost: 0.1191\n",
      "Epoch: 001/010 | Batch 250/469 | Cost: 0.1112\n",
      "Epoch: 001/010 | Batch 300/469 | Cost: 0.1089\n",
      "Epoch: 001/010 | Batch 350/469 | Cost: 0.1070\n",
      "Epoch: 001/010 | Batch 400/469 | Cost: 0.1052\n",
      "Epoch: 001/010 | Batch 450/469 | Cost: 0.0999\n",
      "Time elapsed: 0.07 min\n",
      "Epoch: 002/010 | Batch 000/469 | Cost: 0.0995\n",
      "Epoch: 002/010 | Batch 050/469 | Cost: 0.1023\n",
      "Epoch: 002/010 | Batch 100/469 | Cost: 0.1018\n",
      "Epoch: 002/010 | Batch 150/469 | Cost: 0.0972\n",
      "Epoch: 002/010 | Batch 200/469 | Cost: 0.0977\n",
      "Epoch: 002/010 | Batch 250/469 | Cost: 0.0994\n",
      "Epoch: 002/010 | Batch 300/469 | Cost: 0.0970\n",
      "Epoch: 002/010 | Batch 350/469 | Cost: 0.0981\n",
      "Epoch: 002/010 | Batch 400/469 | Cost: 0.0966\n",
      "Epoch: 002/010 | Batch 450/469 | Cost: 0.0979\n",
      "Time elapsed: 0.14 min\n",
      "Epoch: 003/010 | Batch 000/469 | Cost: 0.0944\n",
      "Epoch: 003/010 | Batch 050/469 | Cost: 0.0919\n",
      "Epoch: 003/010 | Batch 100/469 | Cost: 0.0974\n",
      "Epoch: 003/010 | Batch 150/469 | Cost: 0.0959\n",
      "Epoch: 003/010 | Batch 200/469 | Cost: 0.0960\n",
      "Epoch: 003/010 | Batch 250/469 | Cost: 0.0927\n",
      "Epoch: 003/010 | Batch 300/469 | Cost: 0.0949\n",
      "Epoch: 003/010 | Batch 350/469 | Cost: 0.0950\n",
      "Epoch: 003/010 | Batch 400/469 | Cost: 0.0971\n",
      "Epoch: 003/010 | Batch 450/469 | Cost: 0.0953\n",
      "Time elapsed: 0.21 min\n",
      "Epoch: 004/010 | Batch 000/469 | Cost: 0.0924\n",
      "Epoch: 004/010 | Batch 050/469 | Cost: 0.0912\n",
      "Epoch: 004/010 | Batch 100/469 | Cost: 0.0881\n",
      "Epoch: 004/010 | Batch 150/469 | Cost: 0.0954\n",
      "Epoch: 004/010 | Batch 200/469 | Cost: 0.0977\n",
      "Epoch: 004/010 | Batch 250/469 | Cost: 0.0925\n",
      "Epoch: 004/010 | Batch 300/469 | Cost: 0.0905\n",
      "Epoch: 004/010 | Batch 350/469 | Cost: 0.0909\n",
      "Epoch: 004/010 | Batch 400/469 | Cost: 0.0909\n",
      "Epoch: 004/010 | Batch 450/469 | Cost: 0.0939\n",
      "Time elapsed: 0.28 min\n",
      "Epoch: 005/010 | Batch 000/469 | Cost: 0.0881\n",
      "Epoch: 005/010 | Batch 050/469 | Cost: 0.0954\n",
      "Epoch: 005/010 | Batch 100/469 | Cost: 0.0902\n",
      "Epoch: 005/010 | Batch 150/469 | Cost: 0.0960\n",
      "Epoch: 005/010 | Batch 200/469 | Cost: 0.0937\n",
      "Epoch: 005/010 | Batch 250/469 | Cost: 0.0908\n",
      "Epoch: 005/010 | Batch 300/469 | Cost: 0.0854\n",
      "Epoch: 005/010 | Batch 350/469 | Cost: 0.0869\n",
      "Epoch: 005/010 | Batch 400/469 | Cost: 0.0894\n",
      "Epoch: 005/010 | Batch 450/469 | Cost: 0.0910\n",
      "Time elapsed: 0.34 min\n",
      "Epoch: 006/010 | Batch 000/469 | Cost: 0.0865\n",
      "Epoch: 006/010 | Batch 050/469 | Cost: 0.0884\n",
      "Epoch: 006/010 | Batch 100/469 | Cost: 0.0899\n",
      "Epoch: 006/010 | Batch 150/469 | Cost: 0.0876\n",
      "Epoch: 006/010 | Batch 200/469 | Cost: 0.0937\n",
      "Epoch: 006/010 | Batch 250/469 | Cost: 0.0846\n",
      "Epoch: 006/010 | Batch 300/469 | Cost: 0.0890\n",
      "Epoch: 006/010 | Batch 350/469 | Cost: 0.0939\n",
      "Epoch: 006/010 | Batch 400/469 | Cost: 0.0879\n",
      "Epoch: 006/010 | Batch 450/469 | Cost: 0.0870\n",
      "Time elapsed: 0.41 min\n",
      "Epoch: 007/010 | Batch 000/469 | Cost: 0.0903\n",
      "Epoch: 007/010 | Batch 050/469 | Cost: 0.0867\n",
      "Epoch: 007/010 | Batch 100/469 | Cost: 0.0892\n",
      "Epoch: 007/010 | Batch 150/469 | Cost: 0.0893\n",
      "Epoch: 007/010 | Batch 200/469 | Cost: 0.0898\n",
      "Epoch: 007/010 | Batch 250/469 | Cost: 0.0866\n",
      "Epoch: 007/010 | Batch 300/469 | Cost: 0.0848\n",
      "Epoch: 007/010 | Batch 350/469 | Cost: 0.0848\n",
      "Epoch: 007/010 | Batch 400/469 | Cost: 0.0866\n",
      "Epoch: 007/010 | Batch 450/469 | Cost: 0.0863\n",
      "Time elapsed: 0.48 min\n",
      "Epoch: 008/010 | Batch 000/469 | Cost: 0.0822\n",
      "Epoch: 008/010 | Batch 050/469 | Cost: 0.0883\n",
      "Epoch: 008/010 | Batch 100/469 | Cost: 0.0881\n",
      "Epoch: 008/010 | Batch 150/469 | Cost: 0.0886\n",
      "Epoch: 008/010 | Batch 200/469 | Cost: 0.0828\n",
      "Epoch: 008/010 | Batch 250/469 | Cost: 0.0900\n",
      "Epoch: 008/010 | Batch 300/469 | Cost: 0.0873\n",
      "Epoch: 008/010 | Batch 350/469 | Cost: 0.0909\n",
      "Epoch: 008/010 | Batch 400/469 | Cost: 0.0838\n",
      "Epoch: 008/010 | Batch 450/469 | Cost: 0.0929\n",
      "Time elapsed: 0.55 min\n",
      "Epoch: 009/010 | Batch 000/469 | Cost: 0.0892\n",
      "Epoch: 009/010 | Batch 050/469 | Cost: 0.0868\n",
      "Epoch: 009/010 | Batch 100/469 | Cost: 0.0874\n",
      "Epoch: 009/010 | Batch 150/469 | Cost: 0.0841\n",
      "Epoch: 009/010 | Batch 200/469 | Cost: 0.0860\n",
      "Epoch: 009/010 | Batch 250/469 | Cost: 0.0799\n",
      "Epoch: 009/010 | Batch 300/469 | Cost: 0.0872\n",
      "Epoch: 009/010 | Batch 350/469 | Cost: 0.0892\n",
      "Epoch: 009/010 | Batch 400/469 | Cost: 0.0888\n",
      "Epoch: 009/010 | Batch 450/469 | Cost: 0.0958\n",
      "Time elapsed: 0.62 min\n",
      "Epoch: 010/010 | Batch 000/469 | Cost: 0.0872\n",
      "Epoch: 010/010 | Batch 050/469 | Cost: 0.0930\n",
      "Epoch: 010/010 | Batch 100/469 | Cost: 0.0864\n",
      "Epoch: 010/010 | Batch 150/469 | Cost: 0.0865\n",
      "Epoch: 010/010 | Batch 200/469 | Cost: 0.0852\n",
      "Epoch: 010/010 | Batch 250/469 | Cost: 0.0836\n",
      "Epoch: 010/010 | Batch 300/469 | Cost: 0.0852\n",
      "Epoch: 010/010 | Batch 350/469 | Cost: 0.0873\n",
      "Epoch: 010/010 | Batch 400/469 | Cost: 0.0836\n",
      "Epoch: 010/010 | Batch 450/469 | Cost: 0.0846\n",
      "Time elapsed: 0.68 min\n",
      "Total Training Time: 0.68 min\n"
     ]
    }
   ],
   "source": [
    "start_time = time.time()\n",
    "for epoch in range(num_epochs):\n",
    "    for batch_idx, (features, targets) in enumerate(train_loader):\n",
    "        \n",
    "        # don't need labels, only the images (features)\n",
    "        features = features.to(device)\n",
    "\n",
    "        ### FORWARD AND BACK PROP\n",
    "        logits, decoded = model(features)\n",
    "        cost = F.binary_cross_entropy_with_logits(logits, features)\n",
    "        optimizer.zero_grad()\n",
    "        \n",
    "        cost.backward()\n",
    "        \n",
    "        ### UPDATE MODEL PARAMETERS\n",
    "        optimizer.step()\n",
    "        \n",
    "        ### LOGGING\n",
    "        if not batch_idx % 50:\n",
    "            print ('Epoch: %03d/%03d | Batch %03d/%03d | Cost: %.4f' \n",
    "                   %(epoch+1, num_epochs, batch_idx, \n",
    "                     len(train_loader), cost))\n",
    "            \n",
    "    print('Time elapsed: %.2f min' % ((time.time() - start_time)/60))\n",
    "    \n",
    "print('Total Training Time: %.2f min' % ((time.time() - start_time)/60))"
   ]
  },
  {
   "cell_type": "markdown",
   "metadata": {},
   "source": [
    "## Evaluation"
   ]
  },
  {
   "cell_type": "code",
   "execution_count": 7,
   "metadata": {},
   "outputs": [
    {
     "data": {
      "image/png": "[encoded data removed]",
      "text/plain": [
       "<Figure size 1440x180 with 30 Axes>"
      ]
     },
     "metadata": {
      "needs_background": "light"
     },
     "output_type": "display_data"
    }
   ],
   "source": [
    "%matplotlib inline\n",
    "import matplotlib.pyplot as plt\n",
    "\n",
    "##########################\n",
    "### VISUALIZATION\n",
    "##########################\n",
    "\n",
    "n_images = 15\n",
    "image_width = 28\n",
    "\n",
    "fig, axes = plt.subplots(nrows=2, ncols=n_images, \n",
    "                         sharex=True, sharey=True, figsize=(20, 2.5))\n",
    "orig_images = features[:n_images]\n",
    "decoded_images = decoded[:n_images]\n",
    "\n",
    "for i in range(n_images):\n",
    "    for ax, img in zip(axes, [orig_images, decoded_images]):\n",
    "        curr_img = img[i].detach().to(torch.device('cpu'))\n",
    "        ax[i].imshow(curr_img.view((image_width, image_width)), cmap='binary')"
   ]
  }
 ],
 "metadata": {
  "kernelspec": {
   "display_name": "Python 3",
   "language": "python",
   "name": "python3"
  },
  "language_info": {
   "codemirror_mode": {
    "name": "ipython",
    "version": 3
   },
   "file_extension": ".py",
   "mimetype": "text/x-python",
   "name": "python",
   "nbconvert_exporter": "python",
   "pygments_lexer": "ipython3",
   "version": "3.6.9"
  },
  "toc": {
   "nav_menu": {},
   "number_sections": true,
   "sideBar": true,
   "skip_h1_title": false,
   "title_cell": "Table of Contents",
   "title_sidebar": "Contents",
   "toc_cell": false,
   "toc_position": {},
   "toc_section_display": true,
   "toc_window_display": false
  }
 },
 "nbformat": 4,
 "nbformat_minor": 2
}
