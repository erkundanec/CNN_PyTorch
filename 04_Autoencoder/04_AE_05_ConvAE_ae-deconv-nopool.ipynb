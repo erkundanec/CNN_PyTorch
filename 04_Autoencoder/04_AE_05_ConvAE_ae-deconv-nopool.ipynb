{
 "cells": [
  {
   "cell_type": "markdown",
   "metadata": {},
   "source": [
    "# Module version used\n",
    "\n",
    "- torch 1.4\n",
    "- numpy 1.18.1\n",
    "- CPython 3.6.9\n",
    "- IPython 7.10.2\n",
    "- numpy     1.17.4\n",
    "- PIL.Image 6.2.1\n",
    "- pandas    0.25.3"
   ]
  },
  {
   "cell_type": "markdown",
   "metadata": {},
   "source": [
    "- Runs on CPU or GPU (if available)"
   ]
  },
  {
   "cell_type": "markdown",
   "metadata": {},
   "source": [
    "# Convolutional Autoencoder with Deconvolutions (without pooling operations)"
   ]
  },
  {
   "cell_type": "markdown",
   "metadata": {},
   "source": [
    "A convolutional autoencoder using deconvolutional layers that compresses 768-pixel MNIST images down to a 7x7x8 (392 pixel) representation without using pooling operations but increasing the stride in convolutional layers."
   ]
  },
  {
   "cell_type": "markdown",
   "metadata": {},
   "source": [
    "## Imports"
   ]
  },
  {
   "cell_type": "code",
   "execution_count": 1,
   "metadata": {},
   "outputs": [],
   "source": [
    "import time\n",
    "import numpy as np\n",
    "import torch\n",
    "import torch.nn.functional as F\n",
    "from torch.utils.data import DataLoader\n",
    "from torchvision import datasets\n",
    "from torchvision import transforms\n",
    "\n",
    "\n",
    "if torch.cuda.is_available():\n",
    "    torch.backends.cudnn.deterministic = True"
   ]
  },
  {
   "cell_type": "code",
   "execution_count": 2,
   "metadata": {},
   "outputs": [
    {
     "name": "stdout",
     "output_type": "stream",
     "text": [
      "Device: cuda:0\n",
      "Image batch dimensions: torch.Size([128, 1, 28, 28])\n",
      "Image label dimensions: torch.Size([128])\n"
     ]
    }
   ],
   "source": [
    "##########################\n",
    "### SETTINGS\n",
    "##########################\n",
    "\n",
    "# Device\n",
    "device = torch.device(\"cuda:0\" if torch.cuda.is_available() else \"cpu\")\n",
    "print('Device:', device)\n",
    "\n",
    "# Hyperparameters\n",
    "random_seed = 456\n",
    "learning_rate = 0.005\n",
    "num_epochs = 10\n",
    "batch_size = 128\n",
    "\n",
    "##########################\n",
    "### MNIST DATASET\n",
    "##########################\n",
    "serverAvailable = \"no\"\n",
    "if serverAvailable == \"yes\":\n",
    "    datapath = \"../database/\"\n",
    "else:\n",
    "    datapath = '../../../../MEGA/DatabaseLocal/'\n",
    "# Note transforms.ToTensor() scales input images\n",
    "# to 0-1 range\n",
    "train_dataset = datasets.MNIST(root=datapath, \n",
    "                               train=True, \n",
    "                               transform=transforms.ToTensor(),\n",
    "                               download=True)\n",
    "\n",
    "test_dataset = datasets.MNIST(root=datapath, \n",
    "                              train=False, \n",
    "                              transform=transforms.ToTensor())\n",
    "\n",
    "\n",
    "train_loader = DataLoader(dataset=train_dataset, \n",
    "                          batch_size=batch_size, \n",
    "                          shuffle=True)\n",
    "\n",
    "test_loader = DataLoader(dataset=test_dataset, \n",
    "                         batch_size=batch_size, \n",
    "                         shuffle=False)\n",
    "\n",
    "# Checking the dataset\n",
    "for images, labels in train_loader:  \n",
    "    print('Image batch dimensions:', images.shape)\n",
    "    print('Image label dimensions:', labels.shape)\n",
    "    break"
   ]
  },
  {
   "cell_type": "markdown",
   "metadata": {},
   "source": [
    "## Model"
   ]
  },
  {
   "cell_type": "code",
   "execution_count": 3,
   "metadata": {},
   "outputs": [],
   "source": [
    "##########################\n",
    "### MODEL\n",
    "##########################\n",
    "\n",
    "\n",
    "class ConvolutionalAutoencoder(torch.nn.Module):\n",
    "\n",
    "    def __init__(self):\n",
    "        super(ConvolutionalAutoencoder, self).__init__()\n",
    "        \n",
    "        # calculate same padding:\n",
    "        # (w - k + 2*p)/s + 1 = o\n",
    "        # => p = (s(o-1) - w + k)/2\n",
    "        \n",
    "        ### ENCODER\n",
    "        \n",
    "        # 28x28x1 => 14x14x4  \n",
    "        self.conv_1 = torch.nn.Conv2d(in_channels=1,\n",
    "                                      out_channels=4,\n",
    "                                      kernel_size=(3, 3),\n",
    "                                      stride=(2, 2),\n",
    "                                      # floor((2(14-1) - 28 + 3) / 2) = 0\n",
    "                                      padding=0)\n",
    "        \n",
    "        # 14x14x4 => 7x7x8\n",
    "        self.conv_2 = torch.nn.Conv2d(in_channels=4,\n",
    "                                      out_channels=8,\n",
    "                                      kernel_size=(3, 3),\n",
    "                                      stride=(2, 2),\n",
    "                                      # ceil((2(7-1) - 14 + 3) / 2) = 1\n",
    "                                      padding=1)                 \n",
    "        \n",
    "        ### DECODER\n",
    "                                         \n",
    "        # 7x7x8 => 15x15x4                          \n",
    "        self.deconv_1 = torch.nn.ConvTranspose2d(in_channels=8,\n",
    "                                                 out_channels=4,\n",
    "                                                 kernel_size=(3, 3),\n",
    "                                                 stride=(2, 2),\n",
    "                                                 padding=0)\n",
    "        \n",
    "        # 15x15x4  => 29x29x1                           \n",
    "        self.deconv_2 = torch.nn.ConvTranspose2d(in_channels=4,\n",
    "                                                 out_channels=1,\n",
    "                                                 kernel_size=(3, 3),\n",
    "                                                 stride=(2, 2),\n",
    "                                                 padding=1)\n",
    "        \n",
    "    def forward(self, x):\n",
    "        \n",
    "        ### ENCODER\n",
    "        x = self.conv_1(x)\n",
    "        x = F.leaky_relu(x)\n",
    "        x = self.conv_2(x)\n",
    "        x = F.leaky_relu(x)\n",
    "          \n",
    "        ### DECODER\n",
    "        x = self.deconv_1(x)  \n",
    "        x = F.leaky_relu(x)\n",
    "        x = self.deconv_2(x)\n",
    "        x = F.leaky_relu(x)\n",
    "        x = x[:, :, :-1, :-1]\n",
    "        x = torch.sigmoid(x)\n",
    "        return x\n",
    "\n",
    "    \n",
    "torch.manual_seed(random_seed)\n",
    "model = ConvolutionalAutoencoder()\n",
    "model = model.to(device)\n",
    "\n",
    "optimizer = torch.optim.Adam(model.parameters(), lr=learning_rate)  "
   ]
  },
  {
   "cell_type": "markdown",
   "metadata": {},
   "source": [
    "## Training"
   ]
  },
  {
   "cell_type": "code",
   "execution_count": 4,
   "metadata": {
    "scrolled": true
   },
   "outputs": [
    {
     "name": "stdout",
     "output_type": "stream",
     "text": [
      "Epoch: 001/010 | Batch 000/469 | Cost: 0.7184\n",
      "Epoch: 001/010 | Batch 050/469 | Cost: 0.6902\n",
      "Epoch: 001/010 | Batch 100/469 | Cost: 0.6586\n",
      "Epoch: 001/010 | Batch 150/469 | Cost: 0.6014\n",
      "Epoch: 001/010 | Batch 200/469 | Cost: 0.2719\n",
      "Epoch: 001/010 | Batch 250/469 | Cost: 0.1936\n",
      "Epoch: 001/010 | Batch 300/469 | Cost: 0.1920\n",
      "Epoch: 001/010 | Batch 350/469 | Cost: 0.1699\n",
      "Epoch: 001/010 | Batch 400/469 | Cost: 0.1610\n",
      "Epoch: 001/010 | Batch 450/469 | Cost: 0.1503\n",
      "Time elapsed: 0.07 min\n",
      "Epoch: 002/010 | Batch 000/469 | Cost: 0.1460\n",
      "Epoch: 002/010 | Batch 050/469 | Cost: 0.1427\n",
      "Epoch: 002/010 | Batch 100/469 | Cost: 0.1395\n",
      "Epoch: 002/010 | Batch 150/469 | Cost: 0.1381\n",
      "Epoch: 002/010 | Batch 200/469 | Cost: 0.1350\n",
      "Epoch: 002/010 | Batch 250/469 | Cost: 0.1326\n",
      "Epoch: 002/010 | Batch 300/469 | Cost: 0.1297\n",
      "Epoch: 002/010 | Batch 350/469 | Cost: 0.1405\n",
      "Epoch: 002/010 | Batch 400/469 | Cost: 0.1318\n",
      "Epoch: 002/010 | Batch 450/469 | Cost: 0.1290\n",
      "Time elapsed: 0.14 min\n",
      "Epoch: 003/010 | Batch 000/469 | Cost: 0.1306\n",
      "Epoch: 003/010 | Batch 050/469 | Cost: 0.1274\n",
      "Epoch: 003/010 | Batch 100/469 | Cost: 0.1261\n",
      "Epoch: 003/010 | Batch 150/469 | Cost: 0.1218\n",
      "Epoch: 003/010 | Batch 200/469 | Cost: 0.1186\n",
      "Epoch: 003/010 | Batch 250/469 | Cost: 0.1205\n",
      "Epoch: 003/010 | Batch 300/469 | Cost: 0.1184\n",
      "Epoch: 003/010 | Batch 350/469 | Cost: 0.1247\n",
      "Epoch: 003/010 | Batch 400/469 | Cost: 0.1208\n",
      "Epoch: 003/010 | Batch 450/469 | Cost: 0.1156\n",
      "Time elapsed: 0.20 min\n",
      "Epoch: 004/010 | Batch 000/469 | Cost: 0.1226\n",
      "Epoch: 004/010 | Batch 050/469 | Cost: 0.1186\n",
      "Epoch: 004/010 | Batch 100/469 | Cost: 0.1134\n",
      "Epoch: 004/010 | Batch 150/469 | Cost: 0.1161\n",
      "Epoch: 004/010 | Batch 200/469 | Cost: 0.1178\n",
      "Epoch: 004/010 | Batch 250/469 | Cost: 0.1158\n",
      "Epoch: 004/010 | Batch 300/469 | Cost: 0.1173\n",
      "Epoch: 004/010 | Batch 350/469 | Cost: 0.1157\n",
      "Epoch: 004/010 | Batch 400/469 | Cost: 0.1123\n",
      "Epoch: 004/010 | Batch 450/469 | Cost: 0.1183\n",
      "Time elapsed: 0.27 min\n",
      "Epoch: 005/010 | Batch 000/469 | Cost: 0.1137\n",
      "Epoch: 005/010 | Batch 050/469 | Cost: 0.1137\n",
      "Epoch: 005/010 | Batch 100/469 | Cost: 0.1114\n",
      "Epoch: 005/010 | Batch 150/469 | Cost: 0.1149\n",
      "Epoch: 005/010 | Batch 200/469 | Cost: 0.1149\n",
      "Epoch: 005/010 | Batch 250/469 | Cost: 0.1152\n",
      "Epoch: 005/010 | Batch 300/469 | Cost: 0.1161\n",
      "Epoch: 005/010 | Batch 350/469 | Cost: 0.1136\n",
      "Epoch: 005/010 | Batch 400/469 | Cost: 0.1106\n",
      "Epoch: 005/010 | Batch 450/469 | Cost: 0.1179\n",
      "Time elapsed: 0.34 min\n",
      "Epoch: 006/010 | Batch 000/469 | Cost: 0.1138\n",
      "Epoch: 006/010 | Batch 050/469 | Cost: 0.1048\n",
      "Epoch: 006/010 | Batch 100/469 | Cost: 0.1143\n",
      "Epoch: 006/010 | Batch 150/469 | Cost: 0.1131\n",
      "Epoch: 006/010 | Batch 200/469 | Cost: 0.1119\n",
      "Epoch: 006/010 | Batch 250/469 | Cost: 0.1117\n",
      "Epoch: 006/010 | Batch 300/469 | Cost: 0.1089\n",
      "Epoch: 006/010 | Batch 350/469 | Cost: 0.1113\n",
      "Epoch: 006/010 | Batch 400/469 | Cost: 0.1076\n",
      "Epoch: 006/010 | Batch 450/469 | Cost: 0.1141\n",
      "Time elapsed: 0.40 min\n",
      "Epoch: 007/010 | Batch 000/469 | Cost: 0.1090\n",
      "Epoch: 007/010 | Batch 050/469 | Cost: 0.1071\n",
      "Epoch: 007/010 | Batch 100/469 | Cost: 0.1092\n",
      "Epoch: 007/010 | Batch 150/469 | Cost: 0.1111\n",
      "Epoch: 007/010 | Batch 200/469 | Cost: 0.1108\n",
      "Epoch: 007/010 | Batch 250/469 | Cost: 0.1032\n",
      "Epoch: 007/010 | Batch 300/469 | Cost: 0.1061\n",
      "Epoch: 007/010 | Batch 350/469 | Cost: 0.1106\n",
      "Epoch: 007/010 | Batch 400/469 | Cost: 0.1085\n",
      "Epoch: 007/010 | Batch 450/469 | Cost: 0.1082\n",
      "Time elapsed: 0.47 min\n",
      "Epoch: 008/010 | Batch 000/469 | Cost: 0.1134\n",
      "Epoch: 008/010 | Batch 050/469 | Cost: 0.1106\n",
      "Epoch: 008/010 | Batch 100/469 | Cost: 0.1115\n",
      "Epoch: 008/010 | Batch 150/469 | Cost: 0.1058\n",
      "Epoch: 008/010 | Batch 200/469 | Cost: 0.1076\n",
      "Epoch: 008/010 | Batch 250/469 | Cost: 0.1062\n",
      "Epoch: 008/010 | Batch 300/469 | Cost: 0.1043\n",
      "Epoch: 008/010 | Batch 350/469 | Cost: 0.1031\n",
      "Epoch: 008/010 | Batch 400/469 | Cost: 0.1071\n",
      "Epoch: 008/010 | Batch 450/469 | Cost: 0.1061\n",
      "Time elapsed: 0.54 min\n",
      "Epoch: 009/010 | Batch 000/469 | Cost: 0.1085\n",
      "Epoch: 009/010 | Batch 050/469 | Cost: 0.1049\n",
      "Epoch: 009/010 | Batch 100/469 | Cost: 0.1094\n",
      "Epoch: 009/010 | Batch 150/469 | Cost: 0.1079\n",
      "Epoch: 009/010 | Batch 200/469 | Cost: 0.1071\n",
      "Epoch: 009/010 | Batch 250/469 | Cost: 0.1064\n",
      "Epoch: 009/010 | Batch 300/469 | Cost: 0.1026\n",
      "Epoch: 009/010 | Batch 350/469 | Cost: 0.1085\n",
      "Epoch: 009/010 | Batch 400/469 | Cost: 0.1056\n",
      "Epoch: 009/010 | Batch 450/469 | Cost: 0.1074\n",
      "Time elapsed: 0.61 min\n",
      "Epoch: 010/010 | Batch 000/469 | Cost: 0.1074\n",
      "Epoch: 010/010 | Batch 050/469 | Cost: 0.1040\n",
      "Epoch: 010/010 | Batch 100/469 | Cost: 0.1028\n",
      "Epoch: 010/010 | Batch 150/469 | Cost: 0.0998\n",
      "Epoch: 010/010 | Batch 200/469 | Cost: 0.1033\n",
      "Epoch: 010/010 | Batch 250/469 | Cost: 0.0993\n",
      "Epoch: 010/010 | Batch 300/469 | Cost: 0.1042\n",
      "Epoch: 010/010 | Batch 350/469 | Cost: 0.0956\n",
      "Epoch: 010/010 | Batch 400/469 | Cost: 0.1016\n",
      "Epoch: 010/010 | Batch 450/469 | Cost: 0.1015\n",
      "Time elapsed: 0.68 min\n",
      "Total Training Time: 0.68 min\n"
     ]
    }
   ],
   "source": [
    "start_time = time.time()\n",
    "for epoch in range(num_epochs):\n",
    "    for batch_idx, (features, targets) in enumerate(train_loader):\n",
    "        \n",
    "        # don't need labels, only the images (features)\n",
    "        features = features.to(device)\n",
    "\n",
    "        ### FORWARD AND BACK PROP\n",
    "        decoded = model(features)\n",
    "        cost = F.binary_cross_entropy(decoded, features)\n",
    "        optimizer.zero_grad()\n",
    "        \n",
    "        cost.backward()\n",
    "        \n",
    "        ### UPDATE MODEL PARAMETERS\n",
    "        optimizer.step()\n",
    "        \n",
    "        ### LOGGING\n",
    "        if not batch_idx % 50:\n",
    "            print ('Epoch: %03d/%03d | Batch %03d/%03d | Cost: %.4f' \n",
    "                   %(epoch+1, num_epochs, batch_idx, \n",
    "                     len(train_loader), cost))\n",
    "            \n",
    "    print('Time elapsed: %.2f min' % ((time.time() - start_time)/60))\n",
    "    \n",
    "print('Total Training Time: %.2f min' % ((time.time() - start_time)/60))"
   ]
  },
  {
   "cell_type": "markdown",
   "metadata": {},
   "source": [
    "## Evaluation"
   ]
  },
  {
   "cell_type": "code",
   "execution_count": 5,
   "metadata": {},
   "outputs": [
    {
     "data": {
      "image/png": "[encoded data removed]",
      "text/plain": [
       "<Figure size 1440x180 with 30 Axes>"
      ]
     },
     "metadata": {
      "needs_background": "light"
     },
     "output_type": "display_data"
    }
   ],
   "source": [
    "%matplotlib inline\n",
    "import matplotlib.pyplot as plt\n",
    "\n",
    "##########################\n",
    "### VISUALIZATION\n",
    "##########################\n",
    "\n",
    "n_images = 15\n",
    "image_width = 28\n",
    "\n",
    "fig, axes = plt.subplots(nrows=2, ncols=n_images, \n",
    "                         sharex=True, sharey=True, figsize=(20, 2.5))\n",
    "orig_images = features[:n_images]\n",
    "decoded_images = decoded[:n_images]\n",
    "\n",
    "for i in range(n_images):\n",
    "    for ax, img in zip(axes, [orig_images, decoded_images]):\n",
    "        curr_img = img[i].detach().to(torch.device('cpu'))\n",
    "        ax[i].imshow(curr_img.view((image_width, image_width)), cmap='binary')"
   ]
  },
  {
   "cell_type": "code",
   "execution_count": null,
   "metadata": {},
   "outputs": [],
   "source": []
  }
 ],
 "metadata": {
  "kernelspec": {
   "display_name": "Python 3",
   "language": "python",
   "name": "python3"
  },
  "language_info": {
   "codemirror_mode": {
    "name": "ipython",
    "version": 3
   },
   "file_extension": ".py",
   "mimetype": "text/x-python",
   "name": "python",
   "nbconvert_exporter": "python",
   "pygments_lexer": "ipython3",
   "version": "3.6.9"
  },
  "toc": {
   "nav_menu": {},
   "number_sections": true,
   "sideBar": true,
   "skip_h1_title": false,
   "title_cell": "Table of Contents",
   "title_sidebar": "Contents",
   "toc_cell": false,
   "toc_position": {},
   "toc_section_display": true,
   "toc_window_display": false
  }
 },
 "nbformat": 4,
 "nbformat_minor": 2
}
