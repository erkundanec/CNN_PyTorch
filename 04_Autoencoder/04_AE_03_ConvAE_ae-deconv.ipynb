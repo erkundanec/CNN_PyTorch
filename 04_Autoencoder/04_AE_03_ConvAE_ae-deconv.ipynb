{
 "cells": [
  {
   "cell_type": "markdown",
   "metadata": {},
   "source": [
    "# Module version used\n",
    "\n",
    "- torch 1.4\n",
    "- numpy 1.18.1\n",
    "- CPython 3.6.9\n",
    "- IPython 7.10.2\n",
    "- numpy     1.17.4\n",
    "- PIL.Image 6.2.1\n",
    "- pandas    0.25.3"
   ]
  },
  {
   "cell_type": "markdown",
   "metadata": {},
   "source": [
    "- Runs on CPU or GPU (if available)"
   ]
  },
  {
   "cell_type": "markdown",
   "metadata": {},
   "source": [
    "# Convolutional Autoencoder with Deconvolutions"
   ]
  },
  {
   "cell_type": "markdown",
   "metadata": {},
   "source": [
    "A convolutional autoencoder using deconvolutional layers that compresses 768-pixel MNIST images down to a 7x7x8 (392 pixel) representation."
   ]
  },
  {
   "cell_type": "markdown",
   "metadata": {},
   "source": [
    "## Imports"
   ]
  },
  {
   "cell_type": "code",
   "execution_count": 1,
   "metadata": {},
   "outputs": [],
   "source": [
    "import time\n",
    "import numpy as np\n",
    "import torch\n",
    "import torch.nn.functional as F\n",
    "from torch.utils.data import DataLoader\n",
    "from torchvision import datasets\n",
    "from torchvision import transforms\n",
    "\n",
    "\n",
    "if torch.cuda.is_available():\n",
    "    torch.backends.cudnn.deterministic = True"
   ]
  },
  {
   "cell_type": "code",
   "execution_count": 2,
   "metadata": {},
   "outputs": [
    {
     "name": "stdout",
     "output_type": "stream",
     "text": [
      "Device: cuda:0\n",
      "Image batch dimensions: torch.Size([128, 1, 28, 28])\n",
      "Image label dimensions: torch.Size([128])\n"
     ]
    }
   ],
   "source": [
    "##########################\n",
    "### SETTINGS\n",
    "##########################\n",
    "\n",
    "# Device\n",
    "device = torch.device(\"cuda:0\" if torch.cuda.is_available() else \"cpu\")\n",
    "print('Device:', device)\n",
    "\n",
    "# Hyperparameters\n",
    "random_seed = 456\n",
    "learning_rate = 0.005\n",
    "num_epochs = 10\n",
    "batch_size = 128\n",
    "\n",
    "\n",
    "##########################\n",
    "### MNIST DATASET\n",
    "##########################\n",
    "serverAvailable = \"no\"\n",
    "if serverAvailable == \"yes\":\n",
    "    datapath = \"../database/\"\n",
    "else:\n",
    "    datapath = '../../../../MEGA/DatabaseLocal/'\n",
    "\n",
    "\n",
    "# Note transforms.ToTensor() scales input images\n",
    "# to 0-1 range\n",
    "train_dataset = datasets.MNIST(root=datapath, \n",
    "                               train=True, \n",
    "                               transform=transforms.ToTensor(),\n",
    "                               download=True)\n",
    "\n",
    "test_dataset = datasets.MNIST(root=datapath, \n",
    "                              train=False, \n",
    "                              transform=transforms.ToTensor())\n",
    "\n",
    "\n",
    "train_loader = DataLoader(dataset=train_dataset, \n",
    "                          batch_size=batch_size, \n",
    "                          shuffle=True)\n",
    "\n",
    "test_loader = DataLoader(dataset=test_dataset, \n",
    "                         batch_size=batch_size, \n",
    "                         shuffle=False)\n",
    "\n",
    "# Checking the dataset\n",
    "for images, labels in train_loader:  \n",
    "    print('Image batch dimensions:', images.shape)\n",
    "    print('Image label dimensions:', labels.shape)\n",
    "    break"
   ]
  },
  {
   "cell_type": "markdown",
   "metadata": {},
   "source": [
    "## Model"
   ]
  },
  {
   "cell_type": "code",
   "execution_count": 3,
   "metadata": {},
   "outputs": [],
   "source": [
    "##########################\n",
    "### MODEL\n",
    "##########################\n",
    "\n",
    "\n",
    "class ConvolutionalAutoencoder(torch.nn.Module):\n",
    "\n",
    "    def __init__(self):\n",
    "        super(ConvolutionalAutoencoder, self).__init__()\n",
    "        \n",
    "        # calculate same padding:\n",
    "        # (w - k + 2*p)/s + 1 = o\n",
    "        # => p = (s(o-1) - w + k)/2\n",
    "        \n",
    "        ### ENCODER\n",
    "        \n",
    "        # 28x28x1 => 28x28x4\n",
    "        self.conv_1 = torch.nn.Conv2d(in_channels=1,\n",
    "                                      out_channels=4,\n",
    "                                      kernel_size=(3, 3),\n",
    "                                      stride=(1, 1),\n",
    "                                      # (1(28-1) - 28 + 3) / 2 = 1\n",
    "                                      padding=1) \n",
    "        # 28x28x4 => 14x14x4                              \n",
    "        self.pool_1 = torch.nn.MaxPool2d(kernel_size=(2, 2),\n",
    "                                         stride=(2, 2),\n",
    "                                         # (2(14-1) - 28 + 2) / 2 = 0\n",
    "                                         padding=0)                                       \n",
    "        # 14x14x4 => 14x14x8\n",
    "        self.conv_2 = torch.nn.Conv2d(in_channels=4,\n",
    "                                      out_channels=8,\n",
    "                                      kernel_size=(3, 3),\n",
    "                                      stride=(1, 1),\n",
    "                                      # (1(14-1) - 14 + 3) / 2 = 1\n",
    "                                      padding=1)                 \n",
    "        # 14x14x8 => 7x7x8                             \n",
    "        self.pool_2 = torch.nn.MaxPool2d(kernel_size=(2, 2),\n",
    "                                         stride=(2, 2),\n",
    "                                         # (2(7-1) - 14 + 2) / 2 = 0\n",
    "                                         padding=0)\n",
    "        \n",
    "        ### DECODER\n",
    "                                         \n",
    "        # 7x7x8 => 15x15x4                          \n",
    "        self.deconv_1 = torch.nn.ConvTranspose2d(in_channels=8,\n",
    "                                                 out_channels=4,\n",
    "                                                 kernel_size=(3, 3),\n",
    "                                                 stride=(2, 2),\n",
    "                                                 padding=0)\n",
    "        \n",
    "        # 15x15x4  => 31x31x1                           \n",
    "        self.deconv_2 = torch.nn.ConvTranspose2d(in_channels=4,\n",
    "                                                 out_channels=1,\n",
    "                                                 kernel_size=(3, 3),\n",
    "                                                 stride=(2, 2),\n",
    "                                                 padding=0)\n",
    "        \n",
    "    def forward(self, x):\n",
    "        \n",
    "        ### ENCODER\n",
    "        x = self.conv_1(x)\n",
    "        x = F.leaky_relu(x)\n",
    "        x = self.pool_1(x)\n",
    "        x = self.conv_2(x)\n",
    "        x = F.leaky_relu(x)\n",
    "        x = self.pool_2(x)\n",
    "        \n",
    "        ### DECODER\n",
    "        x = self.deconv_1(x)\n",
    "        x = F.leaky_relu(x)\n",
    "        x = self.deconv_2(x)\n",
    "        x = F.leaky_relu(x)\n",
    "        logits = x[:, :, 2:30, 2:30]\n",
    "        probas = torch.sigmoid(logits)\n",
    "        return logits, probas\n",
    "\n",
    "    \n",
    "torch.manual_seed(random_seed)\n",
    "model = ConvolutionalAutoencoder()\n",
    "model = model.to(device)\n",
    "\n",
    "optimizer = torch.optim.Adam(model.parameters(), lr=learning_rate)  "
   ]
  },
  {
   "cell_type": "code",
   "execution_count": 4,
   "metadata": {},
   "outputs": [
    {
     "name": "stdout",
     "output_type": "stream",
     "text": [
      "ConvolutionalAutoencoder(\n",
      "  (conv_1): Conv2d(1, 4, kernel_size=(3, 3), stride=(1, 1), padding=(1, 1))\n",
      "  (pool_1): MaxPool2d(kernel_size=(2, 2), stride=(2, 2), padding=0, dilation=1, ceil_mode=False)\n",
      "  (conv_2): Conv2d(4, 8, kernel_size=(3, 3), stride=(1, 1), padding=(1, 1))\n",
      "  (pool_2): MaxPool2d(kernel_size=(2, 2), stride=(2, 2), padding=0, dilation=1, ceil_mode=False)\n",
      "  (deconv_1): ConvTranspose2d(8, 4, kernel_size=(3, 3), stride=(2, 2))\n",
      "  (deconv_2): ConvTranspose2d(4, 1, kernel_size=(3, 3), stride=(2, 2))\n",
      ")\n"
     ]
    }
   ],
   "source": [
    "print(model)"
   ]
  },
  {
   "cell_type": "markdown",
   "metadata": {},
   "source": [
    "## Training"
   ]
  },
  {
   "cell_type": "code",
   "execution_count": 4,
   "metadata": {},
   "outputs": [
    {
     "name": "stdout",
     "output_type": "stream",
     "text": [
      "Epoch: 001/010 | Batch 000/468 | Cost: 0.7191\n",
      "Epoch: 001/010 | Batch 050/468 | Cost: 0.6911\n",
      "Epoch: 001/010 | Batch 100/468 | Cost: 0.5953\n",
      "Epoch: 001/010 | Batch 150/468 | Cost: 0.3566\n",
      "Epoch: 001/010 | Batch 200/468 | Cost: 0.3053\n",
      "Epoch: 001/010 | Batch 250/468 | Cost: 0.2508\n",
      "Epoch: 001/010 | Batch 300/468 | Cost: 0.2113\n",
      "Epoch: 001/010 | Batch 350/468 | Cost: 0.1807\n",
      "Epoch: 001/010 | Batch 400/468 | Cost: 0.1592\n",
      "Epoch: 001/010 | Batch 450/468 | Cost: 0.1540\n",
      "Time elapsed: 0.07 min\n",
      "Epoch: 002/010 | Batch 000/468 | Cost: 0.1451\n",
      "Epoch: 002/010 | Batch 050/468 | Cost: 0.1384\n",
      "Epoch: 002/010 | Batch 100/468 | Cost: 0.1379\n",
      "Epoch: 002/010 | Batch 150/468 | Cost: 0.1279\n",
      "Epoch: 002/010 | Batch 200/468 | Cost: 0.1289\n",
      "Epoch: 002/010 | Batch 250/468 | Cost: 0.1236\n",
      "Epoch: 002/010 | Batch 300/468 | Cost: 0.1215\n",
      "Epoch: 002/010 | Batch 350/468 | Cost: 0.1236\n",
      "Epoch: 002/010 | Batch 400/468 | Cost: 0.1239\n",
      "Epoch: 002/010 | Batch 450/468 | Cost: 0.1182\n",
      "Time elapsed: 0.14 min\n",
      "Epoch: 003/010 | Batch 000/468 | Cost: 0.1184\n",
      "Epoch: 003/010 | Batch 050/468 | Cost: 0.1190\n",
      "Epoch: 003/010 | Batch 100/468 | Cost: 0.1201\n",
      "Epoch: 003/010 | Batch 150/468 | Cost: 0.1152\n",
      "Epoch: 003/010 | Batch 200/468 | Cost: 0.1100\n",
      "Epoch: 003/010 | Batch 250/468 | Cost: 0.1129\n",
      "Epoch: 003/010 | Batch 300/468 | Cost: 0.1087\n",
      "Epoch: 003/010 | Batch 350/468 | Cost: 0.1151\n",
      "Epoch: 003/010 | Batch 400/468 | Cost: 0.1131\n",
      "Epoch: 003/010 | Batch 450/468 | Cost: 0.1057\n",
      "Time elapsed: 0.21 min\n",
      "Epoch: 004/010 | Batch 000/468 | Cost: 0.1105\n",
      "Epoch: 004/010 | Batch 050/468 | Cost: 0.1117\n",
      "Epoch: 004/010 | Batch 100/468 | Cost: 0.1030\n",
      "Epoch: 004/010 | Batch 150/468 | Cost: 0.1082\n",
      "Epoch: 004/010 | Batch 200/468 | Cost: 0.1090\n",
      "Epoch: 004/010 | Batch 250/468 | Cost: 0.1084\n",
      "Epoch: 004/010 | Batch 300/468 | Cost: 0.1091\n",
      "Epoch: 004/010 | Batch 350/468 | Cost: 0.1079\n",
      "Epoch: 004/010 | Batch 400/468 | Cost: 0.1021\n",
      "Epoch: 004/010 | Batch 450/468 | Cost: 0.1073\n",
      "Time elapsed: 0.27 min\n",
      "Epoch: 005/010 | Batch 000/468 | Cost: 0.1036\n",
      "Epoch: 005/010 | Batch 050/468 | Cost: 0.1016\n",
      "Epoch: 005/010 | Batch 100/468 | Cost: 0.1012\n",
      "Epoch: 005/010 | Batch 150/468 | Cost: 0.1050\n",
      "Epoch: 005/010 | Batch 200/468 | Cost: 0.1050\n",
      "Epoch: 005/010 | Batch 250/468 | Cost: 0.1043\n",
      "Epoch: 005/010 | Batch 300/468 | Cost: 0.1065\n",
      "Epoch: 005/010 | Batch 350/468 | Cost: 0.1045\n",
      "Epoch: 005/010 | Batch 400/468 | Cost: 0.1016\n",
      "Epoch: 005/010 | Batch 450/468 | Cost: 0.1063\n",
      "Time elapsed: 0.34 min\n",
      "Epoch: 006/010 | Batch 000/468 | Cost: 0.1035\n",
      "Epoch: 006/010 | Batch 050/468 | Cost: 0.0966\n",
      "Epoch: 006/010 | Batch 100/468 | Cost: 0.1029\n",
      "Epoch: 006/010 | Batch 150/468 | Cost: 0.1052\n",
      "Epoch: 006/010 | Batch 200/468 | Cost: 0.1033\n",
      "Epoch: 006/010 | Batch 250/468 | Cost: 0.1006\n",
      "Epoch: 006/010 | Batch 300/468 | Cost: 0.0982\n",
      "Epoch: 006/010 | Batch 350/468 | Cost: 0.1005\n",
      "Epoch: 006/010 | Batch 400/468 | Cost: 0.1011\n",
      "Epoch: 006/010 | Batch 450/468 | Cost: 0.1040\n",
      "Time elapsed: 0.41 min\n",
      "Epoch: 007/010 | Batch 000/468 | Cost: 0.0985\n",
      "Epoch: 007/010 | Batch 050/468 | Cost: 0.0970\n",
      "Epoch: 007/010 | Batch 100/468 | Cost: 0.0994\n",
      "Epoch: 007/010 | Batch 150/468 | Cost: 0.1016\n",
      "Epoch: 007/010 | Batch 200/468 | Cost: 0.1008\n",
      "Epoch: 007/010 | Batch 250/468 | Cost: 0.0935\n",
      "Epoch: 007/010 | Batch 300/468 | Cost: 0.0964\n",
      "Epoch: 007/010 | Batch 350/468 | Cost: 0.1009\n",
      "Epoch: 007/010 | Batch 400/468 | Cost: 0.0991\n",
      "Epoch: 007/010 | Batch 450/468 | Cost: 0.0981\n",
      "Time elapsed: 0.48 min\n",
      "Epoch: 008/010 | Batch 000/468 | Cost: 0.1000\n",
      "Epoch: 008/010 | Batch 050/468 | Cost: 0.0993\n",
      "Epoch: 008/010 | Batch 100/468 | Cost: 0.0981\n",
      "Epoch: 008/010 | Batch 150/468 | Cost: 0.0959\n",
      "Epoch: 008/010 | Batch 200/468 | Cost: 0.0973\n",
      "Epoch: 008/010 | Batch 250/468 | Cost: 0.0951\n",
      "Epoch: 008/010 | Batch 300/468 | Cost: 0.0948\n",
      "Epoch: 008/010 | Batch 350/468 | Cost: 0.0918\n",
      "Epoch: 008/010 | Batch 400/468 | Cost: 0.0980\n",
      "Epoch: 008/010 | Batch 450/468 | Cost: 0.0959\n",
      "Time elapsed: 0.55 min\n",
      "Epoch: 009/010 | Batch 000/468 | Cost: 0.0973\n",
      "Epoch: 009/010 | Batch 050/468 | Cost: 0.0947\n",
      "Epoch: 009/010 | Batch 100/468 | Cost: 0.0990\n",
      "Epoch: 009/010 | Batch 150/468 | Cost: 0.0964\n",
      "Epoch: 009/010 | Batch 200/468 | Cost: 0.0960\n",
      "Epoch: 009/010 | Batch 250/468 | Cost: 0.0954\n",
      "Epoch: 009/010 | Batch 300/468 | Cost: 0.0937\n",
      "Epoch: 009/010 | Batch 350/468 | Cost: 0.0978\n",
      "Epoch: 009/010 | Batch 400/468 | Cost: 0.0957\n",
      "Epoch: 009/010 | Batch 450/468 | Cost: 0.0967\n",
      "Time elapsed: 0.61 min\n",
      "Epoch: 010/010 | Batch 000/468 | Cost: 0.0964\n",
      "Epoch: 010/010 | Batch 050/468 | Cost: 0.0958\n",
      "Epoch: 010/010 | Batch 100/468 | Cost: 0.0957\n",
      "Epoch: 010/010 | Batch 150/468 | Cost: 0.0936\n",
      "Epoch: 010/010 | Batch 200/468 | Cost: 0.0970\n",
      "Epoch: 010/010 | Batch 250/468 | Cost: 0.0946\n",
      "Epoch: 010/010 | Batch 300/468 | Cost: 0.0988\n",
      "Epoch: 010/010 | Batch 350/468 | Cost: 0.0898\n",
      "Epoch: 010/010 | Batch 400/468 | Cost: 0.0954\n",
      "Epoch: 010/010 | Batch 450/468 | Cost: 0.0949\n",
      "Time elapsed: 0.68 min\n",
      "Total Training Time: 0.68 min\n"
     ]
    }
   ],
   "source": [
    "start_time = time.time()\n",
    "for epoch in range(num_epochs):\n",
    "    for batch_idx, (features, targets) in enumerate(train_loader):\n",
    "        \n",
    "        # don't need labels, only the images (features)\n",
    "        features = features.to(device)\n",
    "\n",
    "        ### FORWARD AND BACK PROP\n",
    "        logits, decoded = model(features)\n",
    "        cost = F.binary_cross_entropy_with_logits(logits, features)\n",
    "        optimizer.zero_grad()\n",
    "        \n",
    "        cost.backward()\n",
    "        \n",
    "        ### UPDATE MODEL PARAMETERS\n",
    "        optimizer.step()\n",
    "        \n",
    "        ### LOGGING\n",
    "        if not batch_idx % 50:\n",
    "            print ('Epoch: %03d/%03d | Batch %03d/%03d | Cost: %.4f' \n",
    "                   %(epoch+1, num_epochs, batch_idx, \n",
    "                     len(train_dataset)//batch_size, cost))\n",
    "            \n",
    "    print('Time elapsed: %.2f min' % ((time.time() - start_time)/60))\n",
    "    \n",
    "print('Total Training Time: %.2f min' % ((time.time() - start_time)/60))"
   ]
  },
  {
   "cell_type": "markdown",
   "metadata": {},
   "source": [
    "## Evaluation"
   ]
  },
  {
   "cell_type": "code",
   "execution_count": 5,
   "metadata": {},
   "outputs": [
    {
     "data": {
      "image/png": "[encoded data removed]",
      "text/plain": [
       "<Figure size 1440x180 with 30 Axes>"
      ]
     },
     "metadata": {
      "needs_background": "light"
     },
     "output_type": "display_data"
    }
   ],
   "source": [
    "%matplotlib inline\n",
    "import matplotlib.pyplot as plt\n",
    "\n",
    "##########################\n",
    "### VISUALIZATION\n",
    "##########################\n",
    "\n",
    "n_images = 15\n",
    "image_width = 28\n",
    "\n",
    "fig, axes = plt.subplots(nrows=2, ncols=n_images, \n",
    "                         sharex=True, sharey=True, figsize=(20, 2.5))\n",
    "orig_images = features[:n_images]\n",
    "decoded_images = decoded[:n_images]\n",
    "\n",
    "for i in range(n_images):\n",
    "    for ax, img in zip(axes, [orig_images, decoded_images]):\n",
    "        curr_img = img[i].detach().to(torch.device('cpu'))\n",
    "        ax[i].imshow(curr_img.view((image_width, image_width)), cmap='binary')"
   ]
  }
 ],
 "metadata": {
  "kernelspec": {
   "display_name": "Python 3",
   "language": "python",
   "name": "python3"
  },
  "language_info": {
   "codemirror_mode": {
    "name": "ipython",
    "version": 3
   },
   "file_extension": ".py",
   "mimetype": "text/x-python",
   "name": "python",
   "nbconvert_exporter": "python",
   "pygments_lexer": "ipython3",
   "version": "3.6.9"
  },
  "toc": {
   "nav_menu": {},
   "number_sections": true,
   "sideBar": true,
   "skip_h1_title": false,
   "title_cell": "Table of Contents",
   "title_sidebar": "Contents",
   "toc_cell": false,
   "toc_position": {},
   "toc_section_display": true,
   "toc_window_display": false
  }
 },
 "nbformat": 4,
 "nbformat_minor": 4
}
