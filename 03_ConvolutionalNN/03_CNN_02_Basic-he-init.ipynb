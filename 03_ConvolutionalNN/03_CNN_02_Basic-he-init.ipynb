{
 "cells": [
  {
   "cell_type": "markdown",
   "metadata": {},
   "source": [
    "# Module version used\n",
    "\n",
    "- torch 1.3.1\n",
    "- numpy 1.18.1\n",
    "- CPython 3.6.9\n",
    "- IPython 7.10.2"
   ]
  },
  {
   "cell_type": "markdown",
   "metadata": {},
   "source": [
    "- Runs on CPU or GPU (if available)"
   ]
  },
  {
   "cell_type": "markdown",
   "metadata": {},
   "source": [
    "# Convolutional Neural Network with He Initialization\n",
    "\n",
    "Leans faster than other weight initialization"
   ]
  },
  {
   "cell_type": "markdown",
   "metadata": {},
   "source": [
    "## Imports"
   ]
  },
  {
   "cell_type": "code",
   "execution_count": 6,
   "metadata": {},
   "outputs": [],
   "source": [
    "import time\n",
    "import numpy as np\n",
    "import torch\n",
    "import torch.nn as nn\n",
    "import torch.nn.functional as F\n",
    "from torchvision import datasets\n",
    "from torchvision import transforms\n",
    "from torch.utils.data import DataLoader\n",
    "\n",
    "\n",
    "if torch.cuda.is_available():\n",
    "    torch.backends.cudnn.deterministic = True"
   ]
  },
  {
   "cell_type": "markdown",
   "metadata": {},
   "source": [
    "## Settings and Dataset"
   ]
  },
  {
   "cell_type": "code",
   "execution_count": 7,
   "metadata": {},
   "outputs": [
    {
     "name": "stdout",
     "output_type": "stream",
     "text": [
      "Image batch dimensions: torch.Size([128, 1, 28, 28])\n",
      "Image label dimensions: torch.Size([128])\n"
     ]
    }
   ],
   "source": [
    "##########################\n",
    "### SETTINGS\n",
    "##########################\n",
    "\n",
    "# Device\n",
    "device = torch.device(\"cuda:0\" if torch.cuda.is_available() else \"cpu\")\n",
    "\n",
    "# Hyperparameters\n",
    "random_seed = 1\n",
    "learning_rate = 0.05\n",
    "num_epochs = 10\n",
    "batch_size = 128\n",
    "\n",
    "# Architecture\n",
    "num_classes = 10\n",
    "\n",
    "\n",
    "##########################\n",
    "### MNIST DATASET\n",
    "##########################\n",
    "serverAvailable = \"no\"\n",
    "if serverAvailable == \"yes\":\n",
    "    datapath = \"../database/\"\n",
    "else:\n",
    "    datapath = '../../../MEGA/DatabaseLocal/'\n",
    "\n",
    "# Note transforms.ToTensor() scales input images\n",
    "# to 0-1 range\n",
    "train_dataset = datasets.MNIST(root=datapath, \n",
    "                               train=True, \n",
    "                               transform=transforms.ToTensor(),\n",
    "                               download=True)\n",
    "\n",
    "test_dataset = datasets.MNIST(root=datapath, \n",
    "                              train=False, \n",
    "                              transform=transforms.ToTensor())\n",
    "\n",
    "\n",
    "train_loader = DataLoader(dataset=train_dataset, \n",
    "                          batch_size=batch_size, \n",
    "                          shuffle=True)\n",
    "\n",
    "test_loader = DataLoader(dataset=test_dataset, \n",
    "                         batch_size=batch_size, \n",
    "                         shuffle=False)\n",
    "\n",
    "# Checking the dataset\n",
    "for images, labels in train_loader:  \n",
    "    print('Image batch dimensions:', images.shape)\n",
    "    print('Image label dimensions:', labels.shape)\n",
    "    break"
   ]
  },
  {
   "cell_type": "markdown",
   "metadata": {},
   "source": [
    "## Model"
   ]
  },
  {
   "cell_type": "code",
   "execution_count": 8,
   "metadata": {},
   "outputs": [],
   "source": [
    "##########################\n",
    "### MODEL\n",
    "##########################\n",
    "\n",
    "class ConvNet(torch.nn.Module):\n",
    "\n",
    "    def __init__(self, num_classes):\n",
    "        super(ConvNet, self).__init__()\n",
    "        \n",
    "        # calculate same padding:\n",
    "        # (w - k + 2*p)/s + 1 = o\n",
    "        # => p = (s(o-1) - w + k)/2\n",
    "        \n",
    "        # 28x28x1 => 28x28x4\n",
    "        self.conv_1 = torch.nn.Conv2d(in_channels=1,\n",
    "                                      out_channels=4,\n",
    "                                      kernel_size=(3, 3),\n",
    "                                      stride=(1, 1),\n",
    "                                      padding=1) # (1(28-1) - 28 + 3) / 2 = 1\n",
    "        # 28x28x4 => 14x14x4\n",
    "        self.pool_1 = torch.nn.MaxPool2d(kernel_size=(2, 2),\n",
    "                                         stride=(2, 2),\n",
    "                                         padding=0) # (2(14-1) - 28 + 2) = 0                                       \n",
    "        # 14x14x4 => 14x14x8\n",
    "        self.conv_2 = torch.nn.Conv2d(in_channels=4,\n",
    "                                      out_channels=8,\n",
    "                                      kernel_size=(3, 3),\n",
    "                                      stride=(1, 1),\n",
    "                                      padding=1) # (1(14-1) - 14 + 3) / 2 = 1                 \n",
    "        # 14x14x8 => 7x7x8                             \n",
    "        self.pool_2 = torch.nn.MaxPool2d(kernel_size=(2, 2),\n",
    "                                         stride=(2, 2),\n",
    "                                         padding=0) # (2(7-1) - 14 + 2) = 0\n",
    "        \n",
    "        self.linear_1 = torch.nn.Linear(7*7*8, num_classes)\n",
    "        \n",
    "        ###############################################\n",
    "        # Reinitialize weights using He initialization\n",
    "        ###############################################\n",
    "        for m in self.modules():\n",
    "            if isinstance(m, torch.nn.Conv2d):\n",
    "                nn.init.kaiming_normal_(m.weight.detach())\n",
    "                m.bias.detach().zero_()\n",
    "            elif isinstance(m, torch.nn.Linear):\n",
    "                nn.init.kaiming_normal_(m.weight.detach())\n",
    "                m.bias.detach().zero_()\n",
    "        \n",
    "    def forward(self, x):\n",
    "        out = self.conv_1(x)\n",
    "        out = F.relu(out)\n",
    "        out = self.pool_1(out)\n",
    "\n",
    "        out = self.conv_2(out)\n",
    "        out = F.relu(out)\n",
    "        out = self.pool_2(out)\n",
    "        \n",
    "        logits = self.linear_1(out.view(-1, 7*7*8))\n",
    "        probas = F.softmax(logits, dim=1)\n",
    "        return logits, probas\n",
    "\n",
    "    \n",
    "torch.manual_seed(random_seed)\n",
    "model = ConvNet(num_classes=num_classes)\n",
    "\n",
    "model = model.to(device)\n",
    "\n",
    "optimizer = torch.optim.SGD(model.parameters(), lr=learning_rate)  "
   ]
  },
  {
   "cell_type": "markdown",
   "metadata": {},
   "source": [
    "## Training"
   ]
  },
  {
   "cell_type": "code",
   "execution_count": 9,
   "metadata": {
    "scrolled": true
   },
   "outputs": [
    {
     "name": "stdout",
     "output_type": "stream",
     "text": [
      "Epoch: 001/010 | Batch 000/469 | Cost: 2.4577\n",
      "Epoch: 001/010 | Batch 050/469 | Cost: 1.1068\n",
      "Epoch: 001/010 | Batch 100/469 | Cost: 0.6610\n",
      "Epoch: 001/010 | Batch 150/469 | Cost: 0.5354\n",
      "Epoch: 001/010 | Batch 200/469 | Cost: 0.4479\n",
      "Epoch: 001/010 | Batch 250/469 | Cost: 0.3159\n",
      "Epoch: 001/010 | Batch 300/469 | Cost: 0.4544\n",
      "Epoch: 001/010 | Batch 350/469 | Cost: 0.4278\n",
      "Epoch: 001/010 | Batch 400/469 | Cost: 0.1387\n",
      "Epoch: 001/010 | Batch 450/469 | Cost: 0.1410\n",
      "Epoch: 001/010 training accuracy: 91.96%\n",
      "Time elapsed: 0.12 min\n",
      "Epoch: 002/010 | Batch 000/469 | Cost: 0.2198\n",
      "Epoch: 002/010 | Batch 050/469 | Cost: 0.1463\n",
      "Epoch: 002/010 | Batch 100/469 | Cost: 0.2627\n",
      "Epoch: 002/010 | Batch 150/469 | Cost: 0.1920\n",
      "Epoch: 002/010 | Batch 200/469 | Cost: 0.1486\n",
      "Epoch: 002/010 | Batch 250/469 | Cost: 0.1228\n",
      "Epoch: 002/010 | Batch 300/469 | Cost: 0.1591\n",
      "Epoch: 002/010 | Batch 350/469 | Cost: 0.1411\n",
      "Epoch: 002/010 | Batch 400/469 | Cost: 0.1405\n",
      "Epoch: 002/010 | Batch 450/469 | Cost: 0.1211\n",
      "Epoch: 002/010 training accuracy: 95.21%\n",
      "Time elapsed: 0.24 min\n",
      "Epoch: 003/010 | Batch 000/469 | Cost: 0.1289\n",
      "Epoch: 003/010 | Batch 050/469 | Cost: 0.2470\n",
      "Epoch: 003/010 | Batch 100/469 | Cost: 0.1311\n",
      "Epoch: 003/010 | Batch 150/469 | Cost: 0.1889\n",
      "Epoch: 003/010 | Batch 200/469 | Cost: 0.1053\n",
      "Epoch: 003/010 | Batch 250/469 | Cost: 0.1565\n",
      "Epoch: 003/010 | Batch 300/469 | Cost: 0.1236\n",
      "Epoch: 003/010 | Batch 350/469 | Cost: 0.1390\n",
      "Epoch: 003/010 | Batch 400/469 | Cost: 0.1556\n",
      "Epoch: 003/010 | Batch 450/469 | Cost: 0.1658\n",
      "Epoch: 003/010 training accuracy: 96.45%\n",
      "Time elapsed: 0.37 min\n",
      "Epoch: 004/010 | Batch 000/469 | Cost: 0.1829\n",
      "Epoch: 004/010 | Batch 050/469 | Cost: 0.0613\n",
      "Epoch: 004/010 | Batch 100/469 | Cost: 0.1970\n",
      "Epoch: 004/010 | Batch 150/469 | Cost: 0.1073\n",
      "Epoch: 004/010 | Batch 200/469 | Cost: 0.1062\n",
      "Epoch: 004/010 | Batch 250/469 | Cost: 0.0968\n",
      "Epoch: 004/010 | Batch 300/469 | Cost: 0.0594\n",
      "Epoch: 004/010 | Batch 350/469 | Cost: 0.1032\n",
      "Epoch: 004/010 | Batch 400/469 | Cost: 0.1504\n",
      "Epoch: 004/010 | Batch 450/469 | Cost: 0.1616\n",
      "Epoch: 004/010 training accuracy: 96.62%\n",
      "Time elapsed: 0.49 min\n",
      "Epoch: 005/010 | Batch 000/469 | Cost: 0.0469\n",
      "Epoch: 005/010 | Batch 050/469 | Cost: 0.0350\n",
      "Epoch: 005/010 | Batch 100/469 | Cost: 0.1233\n",
      "Epoch: 005/010 | Batch 150/469 | Cost: 0.0435\n",
      "Epoch: 005/010 | Batch 200/469 | Cost: 0.1050\n",
      "Epoch: 005/010 | Batch 250/469 | Cost: 0.1132\n",
      "Epoch: 005/010 | Batch 300/469 | Cost: 0.2227\n",
      "Epoch: 005/010 | Batch 350/469 | Cost: 0.1271\n",
      "Epoch: 005/010 | Batch 400/469 | Cost: 0.1404\n",
      "Epoch: 005/010 | Batch 450/469 | Cost: 0.0649\n",
      "Epoch: 005/010 training accuracy: 97.22%\n",
      "Time elapsed: 0.61 min\n",
      "Epoch: 006/010 | Batch 000/469 | Cost: 0.0884\n",
      "Epoch: 006/010 | Batch 050/469 | Cost: 0.1361\n",
      "Epoch: 006/010 | Batch 100/469 | Cost: 0.1085\n",
      "Epoch: 006/010 | Batch 150/469 | Cost: 0.0796\n",
      "Epoch: 006/010 | Batch 200/469 | Cost: 0.0816\n",
      "Epoch: 006/010 | Batch 250/469 | Cost: 0.1876\n",
      "Epoch: 006/010 | Batch 300/469 | Cost: 0.1788\n",
      "Epoch: 006/010 | Batch 350/469 | Cost: 0.1111\n",
      "Epoch: 006/010 | Batch 400/469 | Cost: 0.1056\n",
      "Epoch: 006/010 | Batch 450/469 | Cost: 0.0735\n",
      "Epoch: 006/010 training accuracy: 97.24%\n",
      "Time elapsed: 0.72 min\n",
      "Epoch: 007/010 | Batch 000/469 | Cost: 0.1304\n",
      "Epoch: 007/010 | Batch 050/469 | Cost: 0.0941\n",
      "Epoch: 007/010 | Batch 100/469 | Cost: 0.0866\n",
      "Epoch: 007/010 | Batch 150/469 | Cost: 0.1712\n",
      "Epoch: 007/010 | Batch 200/469 | Cost: 0.0845\n",
      "Epoch: 007/010 | Batch 250/469 | Cost: 0.0878\n",
      "Epoch: 007/010 | Batch 300/469 | Cost: 0.0567\n",
      "Epoch: 007/010 | Batch 350/469 | Cost: 0.0803\n",
      "Epoch: 007/010 | Batch 400/469 | Cost: 0.0785\n",
      "Epoch: 007/010 | Batch 450/469 | Cost: 0.1235\n",
      "Epoch: 007/010 training accuracy: 97.48%\n",
      "Time elapsed: 0.84 min\n",
      "Epoch: 008/010 | Batch 000/469 | Cost: 0.0740\n",
      "Epoch: 008/010 | Batch 050/469 | Cost: 0.0673\n",
      "Epoch: 008/010 | Batch 100/469 | Cost: 0.1879\n",
      "Epoch: 008/010 | Batch 150/469 | Cost: 0.0761\n",
      "Epoch: 008/010 | Batch 200/469 | Cost: 0.0633\n",
      "Epoch: 008/010 | Batch 250/469 | Cost: 0.1167\n",
      "Epoch: 008/010 | Batch 300/469 | Cost: 0.0311\n",
      "Epoch: 008/010 | Batch 350/469 | Cost: 0.0824\n",
      "Epoch: 008/010 | Batch 400/469 | Cost: 0.1268\n",
      "Epoch: 008/010 | Batch 450/469 | Cost: 0.0487\n",
      "Epoch: 008/010 training accuracy: 97.53%\n",
      "Time elapsed: 0.96 min\n",
      "Epoch: 009/010 | Batch 000/469 | Cost: 0.0540\n",
      "Epoch: 009/010 | Batch 050/469 | Cost: 0.1864\n",
      "Epoch: 009/010 | Batch 100/469 | Cost: 0.0638\n",
      "Epoch: 009/010 | Batch 150/469 | Cost: 0.0392\n",
      "Epoch: 009/010 | Batch 200/469 | Cost: 0.0662\n",
      "Epoch: 009/010 | Batch 250/469 | Cost: 0.0871\n",
      "Epoch: 009/010 | Batch 300/469 | Cost: 0.1961\n",
      "Epoch: 009/010 | Batch 350/469 | Cost: 0.0717\n",
      "Epoch: 009/010 | Batch 400/469 | Cost: 0.0789\n",
      "Epoch: 009/010 | Batch 450/469 | Cost: 0.0221\n",
      "Epoch: 009/010 training accuracy: 97.90%\n",
      "Time elapsed: 1.08 min\n",
      "Epoch: 010/010 | Batch 000/469 | Cost: 0.0989\n",
      "Epoch: 010/010 | Batch 050/469 | Cost: 0.0767\n",
      "Epoch: 010/010 | Batch 100/469 | Cost: 0.1975\n",
      "Epoch: 010/010 | Batch 150/469 | Cost: 0.0397\n",
      "Epoch: 010/010 | Batch 200/469 | Cost: 0.0340\n",
      "Epoch: 010/010 | Batch 250/469 | Cost: 0.0537\n",
      "Epoch: 010/010 | Batch 300/469 | Cost: 0.1163\n",
      "Epoch: 010/010 | Batch 350/469 | Cost: 0.1020\n",
      "Epoch: 010/010 | Batch 400/469 | Cost: 0.1565\n",
      "Epoch: 010/010 | Batch 450/469 | Cost: 0.1758\n",
      "Epoch: 010/010 training accuracy: 97.78%\n",
      "Time elapsed: 1.20 min\n",
      "Total Training Time: 1.20 min\n"
     ]
    }
   ],
   "source": [
    "def compute_accuracy(model, data_loader):\n",
    "    correct_pred, num_examples = 0, 0\n",
    "    for features, targets in data_loader:\n",
    "        features = features.to(device)\n",
    "        targets = targets.to(device)\n",
    "        logits, probas = model(features)\n",
    "        _, predicted_labels = torch.max(probas, 1)\n",
    "        num_examples += targets.size(0)\n",
    "        correct_pred += (predicted_labels == targets).sum()\n",
    "    return correct_pred.float()/num_examples * 100\n",
    "    \n",
    "\n",
    "start_time = time.time()\n",
    "for epoch in range(num_epochs):\n",
    "    model = model.train()\n",
    "    for batch_idx, (features, targets) in enumerate(train_loader):\n",
    "        \n",
    "        features = features.to(device)\n",
    "        targets = targets.to(device)\n",
    "\n",
    "        ### FORWARD AND BACK PROP\n",
    "        logits, probas = model(features)\n",
    "        cost = F.cross_entropy(logits, targets)\n",
    "        optimizer.zero_grad()\n",
    "        \n",
    "        cost.backward()\n",
    "        \n",
    "        ### UPDATE MODEL PARAMETERS\n",
    "        optimizer.step()\n",
    "        \n",
    "        ### LOGGING\n",
    "        if not batch_idx % 50:\n",
    "            print ('Epoch: %03d/%03d | Batch %03d/%03d | Cost: %.4f' \n",
    "                   %(epoch+1, num_epochs, batch_idx, \n",
    "                     len(train_loader), cost))\n",
    "    \n",
    "    model = model.eval()\n",
    "    print('Epoch: %03d/%03d training accuracy: %.2f%%' % (\n",
    "          epoch+1, num_epochs, \n",
    "          compute_accuracy(model, train_loader)))\n",
    "    \n",
    "    print('Time elapsed: %.2f min' % ((time.time() - start_time)/60))\n",
    "    \n",
    "print('Total Training Time: %.2f min' % ((time.time() - start_time)/60))"
   ]
  },
  {
   "cell_type": "markdown",
   "metadata": {},
   "source": [
    "## Evaluation"
   ]
  },
  {
   "cell_type": "code",
   "execution_count": 10,
   "metadata": {},
   "outputs": [
    {
     "name": "stdout",
     "output_type": "stream",
     "text": [
      "Test accuracy: 97.68%\n"
     ]
    }
   ],
   "source": [
    "print('Test accuracy: %.2f%%' % (compute_accuracy(model, test_loader)))"
   ]
  },
  {
   "cell_type": "code",
   "execution_count": 7,
   "metadata": {},
   "outputs": [
    {
     "name": "stdout",
     "output_type": "stream",
     "text": [
      "numpy       1.15.4\n",
      "torch       1.0.0\n",
      "\n"
     ]
    }
   ],
   "source": [
    "%watermark -iv"
   ]
  }
 ],
 "metadata": {
  "kernelspec": {
   "display_name": "Python 3",
   "language": "python",
   "name": "python3"
  },
  "language_info": {
   "codemirror_mode": {
    "name": "ipython",
    "version": 3
   },
   "file_extension": ".py",
   "mimetype": "text/x-python",
   "name": "python",
   "nbconvert_exporter": "python",
   "pygments_lexer": "ipython3",
   "version": "3.6.9"
  },
  "toc": {
   "nav_menu": {},
   "number_sections": true,
   "sideBar": true,
   "skip_h1_title": false,
   "title_cell": "Table of Contents",
   "title_sidebar": "Contents",
   "toc_cell": false,
   "toc_position": {},
   "toc_section_display": true,
   "toc_window_display": false
  }
 },
 "nbformat": 4,
 "nbformat_minor": 4
}
