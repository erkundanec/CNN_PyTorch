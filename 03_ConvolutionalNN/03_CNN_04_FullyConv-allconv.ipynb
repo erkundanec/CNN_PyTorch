{
 "cells": [
  {
   "cell_type": "markdown",
   "metadata": {},
   "source": [
    "# Module version used\n",
    "\n",
    "- torch 1.3.1\n",
    "- numpy 1.18.1\n",
    "- CPython 3.6.9\n",
    "- IPython 7.10.2"
   ]
  },
  {
   "cell_type": "markdown",
   "metadata": {},
   "source": [
    "- Runs on CPU or GPU (if available)"
   ]
  },
  {
   "cell_type": "markdown",
   "metadata": {},
   "source": [
    "# All-Convolutional Neural Network"
   ]
  },
  {
   "cell_type": "markdown",
   "metadata": {},
   "source": [
    "Simple convolutional neural network that uses stride=2 every 2nd convolutional layer, instead of max pooling, to reduce the feature maps. Loosely based on\n",
    "\n",
    "- Springenberg, Jost Tobias, Alexey Dosovitskiy, Thomas Brox, and Martin Riedmiller. \"Striving for simplicity: The all convolutional net.\" arXiv preprint arXiv:1412.6806 (2014)."
   ]
  },
  {
   "cell_type": "markdown",
   "metadata": {},
   "source": [
    "## Imports"
   ]
  },
  {
   "cell_type": "code",
   "execution_count": 1,
   "metadata": {},
   "outputs": [],
   "source": [
    "import time\n",
    "import numpy as np\n",
    "import torch\n",
    "import torch.nn.functional as F\n",
    "from torchvision import datasets\n",
    "from torchvision import transforms\n",
    "from torch.utils.data import DataLoader\n",
    "\n",
    "\n",
    "if torch.cuda.is_available():\n",
    "    torch.backends.cudnn.deterministic = True"
   ]
  },
  {
   "cell_type": "markdown",
   "metadata": {},
   "source": [
    "## Settings and Dataset"
   ]
  },
  {
   "cell_type": "code",
   "execution_count": 3,
   "metadata": {},
   "outputs": [
    {
     "name": "stdout",
     "output_type": "stream",
     "text": [
      "Image batch dimensions: torch.Size([256, 1, 28, 28])\n",
      "Image label dimensions: torch.Size([256])\n"
     ]
    }
   ],
   "source": [
    "##########################\n",
    "### SETTINGS\n",
    "##########################\n",
    "\n",
    "# Device\n",
    "device = torch.device(\"cuda:0\" if torch.cuda.is_available() else \"cpu\")\n",
    "\n",
    "# Hyperparameters\n",
    "random_seed = 1\n",
    "learning_rate = 0.001\n",
    "num_epochs = 15\n",
    "batch_size = 256\n",
    "\n",
    "# Architecture\n",
    "num_classes = 10\n",
    "\n",
    "\n",
    "##########################\n",
    "### MNIST DATASET\n",
    "##########################\n",
    "serverAvailable = \"no\"\n",
    "if serverAvailable == \"yes\":\n",
    "    datapath = \"../database/\"\n",
    "else:\n",
    "    datapath = '../../../../MEGA/DatabaseLocal/'\n",
    "\n",
    "# Note transforms.ToTensor() scales input images\n",
    "# to 0-1 range\n",
    "train_dataset = datasets.MNIST(root=datapath, \n",
    "                               train=True, \n",
    "                               transform=transforms.ToTensor(),\n",
    "                               download=True)\n",
    "\n",
    "test_dataset = datasets.MNIST(root=datapath, \n",
    "                              train=False, \n",
    "                              transform=transforms.ToTensor())\n",
    "\n",
    "\n",
    "train_loader = DataLoader(dataset=train_dataset, \n",
    "                          batch_size=batch_size, \n",
    "                          shuffle=True)\n",
    "\n",
    "test_loader = DataLoader(dataset=test_dataset, \n",
    "                         batch_size=batch_size, \n",
    "                         shuffle=False)\n",
    "\n",
    "# Checking the dataset\n",
    "for images, labels in train_loader:  \n",
    "    print('Image batch dimensions:', images.shape)\n",
    "    print('Image label dimensions:', labels.shape)\n",
    "    break"
   ]
  },
  {
   "cell_type": "markdown",
   "metadata": {},
   "source": [
    "## Model"
   ]
  },
  {
   "cell_type": "code",
   "execution_count": 4,
   "metadata": {},
   "outputs": [],
   "source": [
    "##########################\n",
    "### MODEL\n",
    "##########################\n",
    "\n",
    "\n",
    "class ConvNet(torch.nn.Module):\n",
    "\n",
    "    def __init__(self, num_classes):\n",
    "        super(ConvNet, self).__init__()\n",
    "        \n",
    "        self.num_classes = num_classes\n",
    "        # calculate same padding:\n",
    "        # (w - k + 2*p)/s + 1 = o\n",
    "        # => p = (s(o-1) - w + k)/2\n",
    "        \n",
    "        # 28x28x1 => 28x28x4\n",
    "        self.conv_1 = torch.nn.Conv2d(in_channels=1,\n",
    "                                      out_channels=4,\n",
    "                                      kernel_size=(3, 3),\n",
    "                                      stride=(1, 1),\n",
    "                                      padding=1) # (1(28-1) - 28 + 3) / 2 = 1\n",
    "        # 28x28x4 => 14x14x4\n",
    "        self.conv_2 = torch.nn.Conv2d(in_channels=4,\n",
    "                                      out_channels=4,\n",
    "                                      kernel_size=(3, 3),\n",
    "                                      stride=(2, 2),\n",
    "                                      padding=1)                             \n",
    "        # 14x14x4 => 14x14x8\n",
    "        self.conv_3 = torch.nn.Conv2d(in_channels=4,\n",
    "                                      out_channels=8,\n",
    "                                      kernel_size=(3, 3),\n",
    "                                      stride=(1, 1),\n",
    "                                      padding=1) # (1(14-1) - 14 + 3) / 2 = 1                 \n",
    "        # 14x14x8 => 7x7x8                             \n",
    "        self.conv_4 = torch.nn.Conv2d(in_channels=8,\n",
    "                                      out_channels=8,\n",
    "                                      kernel_size=(3, 3),\n",
    "                                      stride=(2, 2),\n",
    "                                      padding=1)      \n",
    "        \n",
    "        # 7x7x8 => 7x7x16                             \n",
    "        self.conv_5 = torch.nn.Conv2d(in_channels=8,\n",
    "                                      out_channels=16,\n",
    "                                      kernel_size=(3, 3),\n",
    "                                      stride=(1, 1),\n",
    "                                      padding=1) # (1(7-1) - 7 + 3) / 2 = 1          \n",
    "        # 7x7x16 => 4x4x16                             \n",
    "        self.conv_6 = torch.nn.Conv2d(in_channels=16,\n",
    "                                      out_channels=16,\n",
    "                                      kernel_size=(3, 3),\n",
    "                                      stride=(2, 2),\n",
    "                                      padding=1)      \n",
    "        \n",
    "        # 4x4x16 => 4x4xnum_classes                             \n",
    "        self.conv_7 = torch.nn.Conv2d(in_channels=16,\n",
    "                                      out_channels=self.num_classes,\n",
    "                                      kernel_size=(3, 3),\n",
    "                                      stride=(1, 1),\n",
    "                                      padding=1) # (1(7-1) - 7 + 3) / 2 = 1       \n",
    "\n",
    "\n",
    "        \n",
    "    def forward(self, x):\n",
    "        out = self.conv_1(x)\n",
    "        out = F.relu(out)\n",
    "        \n",
    "        out = self.conv_2(out)\n",
    "        out = F.relu(out)\n",
    "\n",
    "        out = self.conv_3(out)\n",
    "        out = F.relu(out)\n",
    "\n",
    "        out = self.conv_4(out)\n",
    "        out = F.relu(out)\n",
    "        \n",
    "        out = self.conv_5(out)\n",
    "        out = F.relu(out)\n",
    "        \n",
    "        out = self.conv_6(out)\n",
    "        out = F.relu(out)\n",
    "        \n",
    "        out = self.conv_7(out)\n",
    "        out = F.relu(out)\n",
    "        \n",
    "        logits = F.adaptive_avg_pool2d(out, 1)\n",
    "        # drop width\n",
    "        logits.squeeze_(-1)\n",
    "        # drop height\n",
    "        logits.squeeze_(-1)\n",
    "        probas = torch.softmax(logits, dim=1)\n",
    "        return logits, probas\n",
    "\n",
    "    \n",
    "torch.manual_seed(random_seed)\n",
    "model = ConvNet(num_classes=num_classes)\n",
    "\n",
    "model = model.to(device)\n",
    "\n",
    "optimizer = torch.optim.Adam(model.parameters(), lr=learning_rate)  "
   ]
  },
  {
   "cell_type": "code",
   "execution_count": 5,
   "metadata": {},
   "outputs": [
    {
     "name": "stdout",
     "output_type": "stream",
     "text": [
      "ConvNet(\n",
      "  (conv_1): Conv2d(1, 4, kernel_size=(3, 3), stride=(1, 1), padding=(1, 1))\n",
      "  (conv_2): Conv2d(4, 4, kernel_size=(3, 3), stride=(2, 2), padding=(1, 1))\n",
      "  (conv_3): Conv2d(4, 8, kernel_size=(3, 3), stride=(1, 1), padding=(1, 1))\n",
      "  (conv_4): Conv2d(8, 8, kernel_size=(3, 3), stride=(2, 2), padding=(1, 1))\n",
      "  (conv_5): Conv2d(8, 16, kernel_size=(3, 3), stride=(1, 1), padding=(1, 1))\n",
      "  (conv_6): Conv2d(16, 16, kernel_size=(3, 3), stride=(2, 2), padding=(1, 1))\n",
      "  (conv_7): Conv2d(16, 10, kernel_size=(3, 3), stride=(1, 1), padding=(1, 1))\n",
      ")\n"
     ]
    }
   ],
   "source": [
    "print(model)"
   ]
  },
  {
   "cell_type": "markdown",
   "metadata": {},
   "source": [
    "## Training"
   ]
  },
  {
   "cell_type": "code",
   "execution_count": 6,
   "metadata": {
    "scrolled": true
   },
   "outputs": [
    {
     "name": "stdout",
     "output_type": "stream",
     "text": [
      "Epoch: 001/015 | Batch 000/235 | Cost: 2.3051\n",
      "Epoch: 001/015 | Batch 050/235 | Cost: 2.2912\n",
      "Epoch: 001/015 | Batch 100/235 | Cost: 2.0534\n",
      "Epoch: 001/015 | Batch 150/235 | Cost: 1.5257\n",
      "Epoch: 001/015 | Batch 200/235 | Cost: 1.1611\n",
      "Epoch: 001/015 training accuracy: 74.54%\n",
      "Time elapsed: 0.13 min\n",
      "Epoch: 002/015 | Batch 000/235 | Cost: 1.0302\n",
      "Epoch: 002/015 | Batch 050/235 | Cost: 0.8050\n",
      "Epoch: 002/015 | Batch 100/235 | Cost: 0.6726\n",
      "Epoch: 002/015 | Batch 150/235 | Cost: 0.4284\n",
      "Epoch: 002/015 | Batch 200/235 | Cost: 0.6123\n",
      "Epoch: 002/015 training accuracy: 83.03%\n",
      "Time elapsed: 0.25 min\n",
      "Epoch: 003/015 | Batch 000/235 | Cost: 0.5732\n",
      "Epoch: 003/015 | Batch 050/235 | Cost: 0.4714\n",
      "Epoch: 003/015 | Batch 100/235 | Cost: 0.5172\n",
      "Epoch: 003/015 | Batch 150/235 | Cost: 0.5386\n",
      "Epoch: 003/015 | Batch 200/235 | Cost: 0.6660\n",
      "Epoch: 003/015 training accuracy: 84.74%\n",
      "Time elapsed: 0.37 min\n",
      "Epoch: 004/015 | Batch 000/235 | Cost: 0.5334\n",
      "Epoch: 004/015 | Batch 050/235 | Cost: 0.5153\n",
      "Epoch: 004/015 | Batch 100/235 | Cost: 0.3384\n",
      "Epoch: 004/015 | Batch 150/235 | Cost: 0.5126\n",
      "Epoch: 004/015 | Batch 200/235 | Cost: 0.3423\n",
      "Epoch: 004/015 training accuracy: 86.10%\n",
      "Time elapsed: 0.49 min\n",
      "Epoch: 005/015 | Batch 000/235 | Cost: 0.4275\n",
      "Epoch: 005/015 | Batch 050/235 | Cost: 0.4816\n",
      "Epoch: 005/015 | Batch 100/235 | Cost: 0.4732\n",
      "Epoch: 005/015 | Batch 150/235 | Cost: 0.3377\n",
      "Epoch: 005/015 | Batch 200/235 | Cost: 0.4584\n",
      "Epoch: 005/015 training accuracy: 85.97%\n",
      "Time elapsed: 0.61 min\n",
      "Epoch: 006/015 | Batch 000/235 | Cost: 0.4564\n",
      "Epoch: 006/015 | Batch 050/235 | Cost: 0.3949\n",
      "Epoch: 006/015 | Batch 100/235 | Cost: 0.4102\n",
      "Epoch: 006/015 | Batch 150/235 | Cost: 0.3604\n",
      "Epoch: 006/015 | Batch 200/235 | Cost: 0.2436\n",
      "Epoch: 006/015 training accuracy: 86.78%\n",
      "Time elapsed: 0.73 min\n",
      "Epoch: 007/015 | Batch 000/235 | Cost: 0.3482\n",
      "Epoch: 007/015 | Batch 050/235 | Cost: 0.3471\n",
      "Epoch: 007/015 | Batch 100/235 | Cost: 0.4804\n",
      "Epoch: 007/015 | Batch 150/235 | Cost: 0.3498\n",
      "Epoch: 007/015 | Batch 200/235 | Cost: 0.3366\n",
      "Epoch: 007/015 training accuracy: 87.22%\n",
      "Time elapsed: 0.85 min\n",
      "Epoch: 008/015 | Batch 000/235 | Cost: 0.3471\n",
      "Epoch: 008/015 | Batch 050/235 | Cost: 0.4195\n",
      "Epoch: 008/015 | Batch 100/235 | Cost: 0.3956\n",
      "Epoch: 008/015 | Batch 150/235 | Cost: 0.3759\n",
      "Epoch: 008/015 | Batch 200/235 | Cost: 0.3695\n",
      "Epoch: 008/015 training accuracy: 87.42%\n",
      "Time elapsed: 0.97 min\n",
      "Epoch: 009/015 | Batch 000/235 | Cost: 0.3656\n",
      "Epoch: 009/015 | Batch 050/235 | Cost: 0.3128\n",
      "Epoch: 009/015 | Batch 100/235 | Cost: 0.2770\n",
      "Epoch: 009/015 | Batch 150/235 | Cost: 0.4219\n",
      "Epoch: 009/015 | Batch 200/235 | Cost: 0.3286\n",
      "Epoch: 009/015 training accuracy: 87.37%\n",
      "Time elapsed: 1.10 min\n",
      "Epoch: 010/015 | Batch 000/235 | Cost: 0.4512\n",
      "Epoch: 010/015 | Batch 050/235 | Cost: 0.2899\n",
      "Epoch: 010/015 | Batch 100/235 | Cost: 0.3882\n",
      "Epoch: 010/015 | Batch 150/235 | Cost: 0.4106\n",
      "Epoch: 010/015 | Batch 200/235 | Cost: 0.2895\n",
      "Epoch: 010/015 training accuracy: 87.86%\n",
      "Time elapsed: 1.22 min\n",
      "Epoch: 011/015 | Batch 000/235 | Cost: 0.3178\n",
      "Epoch: 011/015 | Batch 050/235 | Cost: 0.4297\n",
      "Epoch: 011/015 | Batch 100/235 | Cost: 0.3606\n",
      "Epoch: 011/015 | Batch 150/235 | Cost: 0.2030\n",
      "Epoch: 011/015 | Batch 200/235 | Cost: 0.3512\n",
      "Epoch: 011/015 training accuracy: 87.64%\n",
      "Time elapsed: 1.34 min\n",
      "Epoch: 012/015 | Batch 000/235 | Cost: 0.4754\n",
      "Epoch: 012/015 | Batch 050/235 | Cost: 0.2763\n",
      "Epoch: 012/015 | Batch 100/235 | Cost: 0.3323\n",
      "Epoch: 012/015 | Batch 150/235 | Cost: 0.3278\n",
      "Epoch: 012/015 | Batch 200/235 | Cost: 0.3110\n",
      "Epoch: 012/015 training accuracy: 87.94%\n",
      "Time elapsed: 1.46 min\n",
      "Epoch: 013/015 | Batch 000/235 | Cost: 0.3026\n",
      "Epoch: 013/015 | Batch 050/235 | Cost: 0.3988\n",
      "Epoch: 013/015 | Batch 100/235 | Cost: 0.3427\n",
      "Epoch: 013/015 | Batch 150/235 | Cost: 0.2771\n",
      "Epoch: 013/015 | Batch 200/235 | Cost: 0.2996\n",
      "Epoch: 013/015 training accuracy: 87.96%\n",
      "Time elapsed: 1.58 min\n",
      "Epoch: 014/015 | Batch 000/235 | Cost: 0.3848\n",
      "Epoch: 014/015 | Batch 050/235 | Cost: 0.4170\n",
      "Epoch: 014/015 | Batch 100/235 | Cost: 0.2836\n",
      "Epoch: 014/015 | Batch 150/235 | Cost: 0.3429\n",
      "Epoch: 014/015 | Batch 200/235 | Cost: 0.3691\n",
      "Epoch: 014/015 training accuracy: 87.91%\n",
      "Time elapsed: 1.71 min\n",
      "Epoch: 015/015 | Batch 000/235 | Cost: 0.3579\n",
      "Epoch: 015/015 | Batch 050/235 | Cost: 0.3204\n",
      "Epoch: 015/015 | Batch 100/235 | Cost: 0.2945\n",
      "Epoch: 015/015 | Batch 150/235 | Cost: 0.2464\n",
      "Epoch: 015/015 | Batch 200/235 | Cost: 0.2676\n",
      "Epoch: 015/015 training accuracy: 88.16%\n",
      "Time elapsed: 1.83 min\n",
      "Total Training Time: 1.83 min\n"
     ]
    }
   ],
   "source": [
    "def compute_accuracy(model, data_loader):\n",
    "    correct_pred, num_examples = 0, 0\n",
    "    for features, targets in data_loader:\n",
    "        features = features.to(device)\n",
    "        targets = targets.to(device)\n",
    "        logits, probas = model(features)\n",
    "        _, predicted_labels = torch.max(probas, 1)\n",
    "        num_examples += targets.size(0)\n",
    "        correct_pred += (predicted_labels == targets).sum()\n",
    "    return correct_pred.float()/num_examples * 100\n",
    "    \n",
    "    \n",
    "start_time = time.time()\n",
    "for epoch in range(num_epochs):\n",
    "    model = model.train()\n",
    "    for batch_idx, (features, targets) in enumerate(train_loader):\n",
    "        \n",
    "        features = features.to(device)\n",
    "        targets = targets.to(device)\n",
    "\n",
    "        ### FORWARD AND BACK PROP\n",
    "        logits, probas = model(features)\n",
    "        cost = F.cross_entropy(logits, targets)\n",
    "        optimizer.zero_grad()\n",
    "        \n",
    "        cost.backward()\n",
    "        \n",
    "        ### UPDATE MODEL PARAMETERS\n",
    "        optimizer.step()\n",
    "        \n",
    "        ### LOGGING\n",
    "        if not batch_idx % 50:\n",
    "            print ('Epoch: %03d/%03d | Batch %03d/%03d | Cost: %.4f' \n",
    "                   %(epoch+1, num_epochs, batch_idx, \n",
    "                     len(train_loader), cost))\n",
    "    \n",
    "    model = model.eval()\n",
    "    print('Epoch: %03d/%03d training accuracy: %.2f%%' % (\n",
    "          epoch+1, num_epochs, \n",
    "          compute_accuracy(model, train_loader)))\n",
    "    \n",
    "    print('Time elapsed: %.2f min' % ((time.time() - start_time)/60))\n",
    "    \n",
    "print('Total Training Time: %.2f min' % ((time.time() - start_time)/60))"
   ]
  },
  {
   "cell_type": "markdown",
   "metadata": {},
   "source": [
    "## Evaluation"
   ]
  },
  {
   "cell_type": "code",
   "execution_count": 7,
   "metadata": {},
   "outputs": [
    {
     "name": "stdout",
     "output_type": "stream",
     "text": [
      "Test accuracy: 88.34%\n"
     ]
    }
   ],
   "source": [
    "print('Test accuracy: %.2f%%' % (compute_accuracy(model, test_loader)))"
   ]
  },
  {
   "cell_type": "code",
   "execution_count": null,
   "metadata": {},
   "outputs": [],
   "source": []
  }
 ],
 "metadata": {
  "kernelspec": {
   "display_name": "Python 3",
   "language": "python",
   "name": "python3"
  },
  "language_info": {
   "codemirror_mode": {
    "name": "ipython",
    "version": 3
   },
   "file_extension": ".py",
   "mimetype": "text/x-python",
   "name": "python",
   "nbconvert_exporter": "python",
   "pygments_lexer": "ipython3",
   "version": "3.6.9"
  },
  "toc": {
   "nav_menu": {},
   "number_sections": true,
   "sideBar": true,
   "skip_h1_title": false,
   "title_cell": "Table of Contents",
   "title_sidebar": "Contents",
   "toc_cell": false,
   "toc_position": {},
   "toc_section_display": true,
   "toc_window_display": false
  }
 },
 "nbformat": 4,
 "nbformat_minor": 2
}
