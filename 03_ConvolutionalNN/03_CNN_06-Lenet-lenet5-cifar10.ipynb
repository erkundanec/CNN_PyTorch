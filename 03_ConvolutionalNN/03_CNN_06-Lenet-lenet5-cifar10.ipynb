{
 "cells": [
  {
   "cell_type": "markdown",
   "metadata": {
    "colab_type": "text",
    "id": "UEBilEjLj5wY"
   },
   "source": [
    "# Module version used\n",
    "\n",
    "- torch 1.3.1\n",
    "- numpy 1.18.1\n",
    "- CPython 3.6.9\n",
    "- IPython 7.10.2\n",
    "- numpy     1.17.4\n",
    "- PIL.Image 6.2.1\n",
    "- pandas    0.25.3"
   ]
  },
  {
   "cell_type": "markdown",
   "metadata": {
    "colab_type": "text",
    "id": "rH4XmErYj5wm"
   },
   "source": [
    "# LeNet-5 CIFAR10 Classifier"
   ]
  },
  {
   "cell_type": "markdown",
   "metadata": {},
   "source": [
    "This notebook implements the classic LeNet-5 convolutional network [1] and applies it to the CIFAR10 object classification dataset. The basic architecture is shown in the figure below:\n",
    "\n",
    "![](images/lenet/lenet-5_1.jpg)"
   ]
  },
  {
   "cell_type": "markdown",
   "metadata": {},
   "source": [
    "\n",
    "\n",
    "LeNet-5 is commonly regarded as the pioneer of convolutional neural networks, consisting of a very simple architecture (by modern standards). In total, LeNet-5 consists of only 7 layers. 3 out of these 7 layers are convolutional layers (C1, C3, C5), which are connected by two average pooling layers (S2 & S4). The penultimate layer is a fully connexted layer (F6), which is followed by the final output layer. The additional details are summarized below:\n",
    "\n",
    "- All convolutional layers use 5x5 kernels with stride 1.\n",
    "- The two average pooling (subsampling) layers are 2x2 pixels wide with stride 1.\n",
    "- Throughrout the network, tanh sigmoid activation functions are used. (**In this notebook, we replace these with ReLU activations**)\n",
    "- The output layer uses 10 custom Euclidean Radial Basis Function neurons for the output layer. (**In this notebook, we replace these with softmax activations**)\n",
    "\n",
    "**Please note that the original architecture was applied to MNIST-like grayscale images (1 color channel). CIFAR10 has 3 color-channels. I found that using the regular architecture results in very poor performance on CIFAR10 (approx. 50% ACC). Hence, I am multiplying the number of kernels by a factor of 3 (according to the 3 color channels) in each layer, which improves is a little bit (approx. 60% Acc).**\n",
    "\n",
    "### References\n",
    "\n",
    "- [1] Y. LeCun, L. Bottou, Y. Bengio, and P. Haffner. Gradient-based learning applied to document recognition. Proceedings of the IEEE, november 1998."
   ]
  },
  {
   "cell_type": "markdown",
   "metadata": {
    "colab_type": "text",
    "id": "MkoGLH_Tj5wn"
   },
   "source": [
    "## Imports"
   ]
  },
  {
   "cell_type": "code",
   "execution_count": 7,
   "metadata": {
    "colab": {
     "autoexec": {
      "startup": false,
      "wait_interval": 0
     }
    },
    "colab_type": "code",
    "id": "ORj09gnrj5wp"
   },
   "outputs": [],
   "source": [
    "import os\n",
    "import time\n",
    "\n",
    "import numpy as np\n",
    "import pandas as pd\n",
    "\n",
    "import torch\n",
    "import torch.nn as nn\n",
    "import torch.nn.functional as F\n",
    "from torch.utils.data import DataLoader\n",
    "\n",
    "from torchvision import datasets\n",
    "from torchvision import transforms\n",
    "\n",
    "import matplotlib.pyplot as plt\n",
    "from PIL import Image\n",
    "\n",
    "\n",
    "if torch.cuda.is_available():\n",
    "    torch.backends.cudnn.deterministic = True"
   ]
  },
  {
   "cell_type": "markdown",
   "metadata": {
    "colab_type": "text",
    "id": "I6hghKPxj5w0"
   },
   "source": [
    "## Model Settings"
   ]
  },
  {
   "cell_type": "code",
   "execution_count": 8,
   "metadata": {
    "colab": {
     "autoexec": {
      "startup": false,
      "wait_interval": 0
     },
     "base_uri": "https://localhost:8080/",
     "height": 85
    },
    "colab_type": "code",
    "executionInfo": {
     "elapsed": 23936,
     "status": "ok",
     "timestamp": 1524974497505,
     "user": {
      "displayName": "Sebastian Raschka",
      "photoUrl": "//lh6.googleusercontent.com/-cxK6yOSQ6uE/AAAAAAAAAAI/AAAAAAAAIfw/P9ar_CHsKOQ/s50-c-k-no/photo.jpg",
      "userId": "118404394130788869227"
     },
     "user_tz": 240
    },
    "id": "NnT0sZIwj5wu",
    "outputId": "55aed925-d17e-4c6a-8c71-0d9b3bde5637"
   },
   "outputs": [],
   "source": [
    "##########################\n",
    "### SETTINGS\n",
    "##########################\n",
    "\n",
    "# Hyperparameters\n",
    "RANDOM_SEED = 1\n",
    "LEARNING_RATE = 0.001\n",
    "BATCH_SIZE = 128\n",
    "NUM_EPOCHS = 10\n",
    "\n",
    "# Architecture\n",
    "NUM_FEATURES = 32*32\n",
    "NUM_CLASSES = 10\n",
    "\n",
    "# Other\n",
    "DEVICE = \"cuda:0\"\n",
    "GRAYSCALE = False"
   ]
  },
  {
   "cell_type": "markdown",
   "metadata": {},
   "source": [
    "### MNIST Dataset"
   ]
  },
  {
   "cell_type": "code",
   "execution_count": 12,
   "metadata": {},
   "outputs": [
    {
     "name": "stdout",
     "output_type": "stream",
     "text": [
      "Files already downloaded and verified\n",
      "Image batch dimensions: torch.Size([128, 3, 32, 32])\n",
      "Image label dimensions: torch.Size([128])\n",
      "Image batch dimensions: torch.Size([128, 3, 32, 32])\n",
      "Image label dimensions: torch.Size([128])\n"
     ]
    }
   ],
   "source": [
    "##########################\n",
    "### CIFAR-10 Dataset\n",
    "##########################\n",
    "serverAvailable = \"no\"\n",
    "if serverAvailable == \"yes\":\n",
    "    datapath = \"../database/\"\n",
    "else:\n",
    "    datapath = '../../../MEGA/DatabaseLocal/'\n",
    "\n",
    "# Note transforms.ToTensor() scales input images\n",
    "# to 0-1 range\n",
    "train_dataset = datasets.CIFAR10(root=datapath, \n",
    "                                 train=True, \n",
    "                                 transform=transforms.ToTensor(),\n",
    "                                 download=True)\n",
    "\n",
    "test_dataset = datasets.CIFAR10(root=datapath, \n",
    "                                train=False, \n",
    "                                transform=transforms.ToTensor())\n",
    "\n",
    "\n",
    "train_loader = DataLoader(dataset=train_dataset, \n",
    "                          batch_size=BATCH_SIZE, \n",
    "                          num_workers=8,\n",
    "                          shuffle=True)\n",
    "\n",
    "test_loader = DataLoader(dataset=test_dataset, \n",
    "                         batch_size=BATCH_SIZE,\n",
    "                         num_workers=8,\n",
    "                         shuffle=False)\n",
    "\n",
    "# Checking the dataset\n",
    "for images, labels in train_loader:  \n",
    "    print('Image batch dimensions:', images.shape)\n",
    "    print('Image label dimensions:', labels.shape)\n",
    "    break\n",
    "\n",
    "# Checking the dataset\n",
    "for images, labels in train_loader:  \n",
    "    print('Image batch dimensions:', images.shape)\n",
    "    print('Image label dimensions:', labels.shape)\n",
    "    break"
   ]
  },
  {
   "cell_type": "code",
   "execution_count": 13,
   "metadata": {},
   "outputs": [
    {
     "name": "stdout",
     "output_type": "stream",
     "text": [
      "Epoch: 1 | Batch index: 0 | Batch size: 128\n",
      "Epoch: 2 | Batch index: 0 | Batch size: 128\n"
     ]
    }
   ],
   "source": [
    "device = torch.device(DEVICE)\n",
    "torch.manual_seed(0)\n",
    "\n",
    "for epoch in range(2):\n",
    "\n",
    "    for batch_idx, (x, y) in enumerate(train_loader):\n",
    "        \n",
    "        print('Epoch:', epoch+1, end='')\n",
    "        print(' | Batch index:', batch_idx, end='')\n",
    "        print(' | Batch size:', y.size()[0])\n",
    "        \n",
    "        x = x.to(device)\n",
    "        y = y.to(device)\n",
    "        break"
   ]
  },
  {
   "cell_type": "code",
   "execution_count": 14,
   "metadata": {},
   "outputs": [],
   "source": [
    "##########################\n",
    "### MODEL\n",
    "##########################\n",
    "\n",
    "\n",
    "class LeNet5(nn.Module):\n",
    "\n",
    "    def __init__(self, num_classes, grayscale=False):\n",
    "        super(LeNet5, self).__init__()\n",
    "        \n",
    "        self.grayscale = grayscale\n",
    "        self.num_classes = num_classes\n",
    "\n",
    "        if self.grayscale:\n",
    "            in_channels = 1\n",
    "        else:\n",
    "            in_channels = 3\n",
    "\n",
    "        self.features = nn.Sequential(\n",
    "            \n",
    "            nn.Conv2d(in_channels, 6*in_channels, kernel_size=5),\n",
    "            nn.MaxPool2d(kernel_size=2),\n",
    "            nn.Conv2d(6*in_channels, 16*in_channels, kernel_size=5),\n",
    "            nn.MaxPool2d(kernel_size=2)\n",
    "        )\n",
    "\n",
    "        self.classifier = nn.Sequential(\n",
    "            nn.Linear(16*5*5*in_channels, 120*in_channels),\n",
    "            nn.Linear(120*in_channels, 84*in_channels),\n",
    "            nn.Linear(84*in_channels, num_classes),\n",
    "        )\n",
    "\n",
    "\n",
    "    def forward(self, x):\n",
    "        x = self.features(x)\n",
    "        x = torch.flatten(x, 1)\n",
    "        logits = self.classifier(x)\n",
    "        probas = F.softmax(logits, dim=1)\n",
    "        return logits, probas"
   ]
  },
  {
   "cell_type": "code",
   "execution_count": 15,
   "metadata": {
    "colab": {
     "autoexec": {
      "startup": false,
      "wait_interval": 0
     }
    },
    "colab_type": "code",
    "id": "_lza9t_uj5w1"
   },
   "outputs": [],
   "source": [
    "torch.manual_seed(RANDOM_SEED)\n",
    "\n",
    "model = LeNet5(NUM_CLASSES, GRAYSCALE)\n",
    "model.to(DEVICE)\n",
    "\n",
    "optimizer = torch.optim.Adam(model.parameters(), lr=LEARNING_RATE)  "
   ]
  },
  {
   "cell_type": "markdown",
   "metadata": {
    "colab_type": "text",
    "id": "RAodboScj5w6"
   },
   "source": [
    "## Training"
   ]
  },
  {
   "cell_type": "code",
   "execution_count": 16,
   "metadata": {
    "colab": {
     "autoexec": {
      "startup": false,
      "wait_interval": 0
     },
     "base_uri": "https://localhost:8080/",
     "height": 1547
    },
    "colab_type": "code",
    "executionInfo": {
     "elapsed": 2384585,
     "status": "ok",
     "timestamp": 1524976888520,
     "user": {
      "displayName": "Sebastian Raschka",
      "photoUrl": "//lh6.googleusercontent.com/-cxK6yOSQ6uE/AAAAAAAAAAI/AAAAAAAAIfw/P9ar_CHsKOQ/s50-c-k-no/photo.jpg",
      "userId": "118404394130788869227"
     },
     "user_tz": 240
    },
    "id": "Dzh3ROmRj5w7",
    "outputId": "5f8fd8c9-b076-403a-b0b7-fd2d498b48d7",
    "scrolled": true
   },
   "outputs": [
    {
     "name": "stdout",
     "output_type": "stream",
     "text": [
      "Epoch: 001/010 | Batch 0000/0391 | Cost: 2.3071\n",
      "Epoch: 001/010 | Batch 0050/0391 | Cost: 1.8403\n",
      "Epoch: 001/010 | Batch 0100/0391 | Cost: 1.6105\n",
      "Epoch: 001/010 | Batch 0150/0391 | Cost: 1.5843\n",
      "Epoch: 001/010 | Batch 0200/0391 | Cost: 1.4763\n",
      "Epoch: 001/010 | Batch 0250/0391 | Cost: 1.3921\n",
      "Epoch: 001/010 | Batch 0300/0391 | Cost: 1.3737\n",
      "Epoch: 001/010 | Batch 0350/0391 | Cost: 1.2851\n",
      "Epoch: 001/010 | Train: 52.732%\n",
      "Time elapsed: 0.06 min\n",
      "Epoch: 002/010 | Batch 0000/0391 | Cost: 1.4706\n",
      "Epoch: 002/010 | Batch 0050/0391 | Cost: 1.2858\n",
      "Epoch: 002/010 | Batch 0100/0391 | Cost: 1.2846\n",
      "Epoch: 002/010 | Batch 0150/0391 | Cost: 1.3217\n",
      "Epoch: 002/010 | Batch 0200/0391 | Cost: 1.2577\n",
      "Epoch: 002/010 | Batch 0250/0391 | Cost: 1.3434\n",
      "Epoch: 002/010 | Batch 0300/0391 | Cost: 1.2053\n",
      "Epoch: 002/010 | Batch 0350/0391 | Cost: 1.3180\n",
      "Epoch: 002/010 | Train: 57.904%\n",
      "Time elapsed: 0.11 min\n",
      "Epoch: 003/010 | Batch 0000/0391 | Cost: 1.1300\n",
      "Epoch: 003/010 | Batch 0050/0391 | Cost: 1.1652\n",
      "Epoch: 003/010 | Batch 0100/0391 | Cost: 1.3456\n",
      "Epoch: 003/010 | Batch 0150/0391 | Cost: 1.0804\n",
      "Epoch: 003/010 | Batch 0200/0391 | Cost: 1.1350\n",
      "Epoch: 003/010 | Batch 0250/0391 | Cost: 0.8353\n",
      "Epoch: 003/010 | Batch 0300/0391 | Cost: 1.2339\n",
      "Epoch: 003/010 | Batch 0350/0391 | Cost: 1.2460\n",
      "Epoch: 003/010 | Train: 62.400%\n",
      "Time elapsed: 0.17 min\n",
      "Epoch: 004/010 | Batch 0000/0391 | Cost: 1.2296\n",
      "Epoch: 004/010 | Batch 0050/0391 | Cost: 1.1820\n",
      "Epoch: 004/010 | Batch 0100/0391 | Cost: 1.1789\n",
      "Epoch: 004/010 | Batch 0150/0391 | Cost: 1.1501\n",
      "Epoch: 004/010 | Batch 0200/0391 | Cost: 0.9544\n",
      "Epoch: 004/010 | Batch 0250/0391 | Cost: 1.3605\n",
      "Epoch: 004/010 | Batch 0300/0391 | Cost: 0.9409\n",
      "Epoch: 004/010 | Batch 0350/0391 | Cost: 1.0493\n",
      "Epoch: 004/010 | Train: 62.646%\n",
      "Time elapsed: 0.22 min\n",
      "Epoch: 005/010 | Batch 0000/0391 | Cost: 1.1812\n",
      "Epoch: 005/010 | Batch 0050/0391 | Cost: 1.0538\n",
      "Epoch: 005/010 | Batch 0100/0391 | Cost: 1.1205\n",
      "Epoch: 005/010 | Batch 0150/0391 | Cost: 1.0489\n",
      "Epoch: 005/010 | Batch 0200/0391 | Cost: 1.0483\n",
      "Epoch: 005/010 | Batch 0250/0391 | Cost: 1.1795\n",
      "Epoch: 005/010 | Batch 0300/0391 | Cost: 1.1860\n",
      "Epoch: 005/010 | Batch 0350/0391 | Cost: 1.2253\n",
      "Epoch: 005/010 | Train: 64.950%\n",
      "Time elapsed: 0.28 min\n",
      "Epoch: 006/010 | Batch 0000/0391 | Cost: 0.9103\n",
      "Epoch: 006/010 | Batch 0050/0391 | Cost: 0.8575\n",
      "Epoch: 006/010 | Batch 0100/0391 | Cost: 0.9136\n",
      "Epoch: 006/010 | Batch 0150/0391 | Cost: 1.0336\n",
      "Epoch: 006/010 | Batch 0200/0391 | Cost: 0.9372\n",
      "Epoch: 006/010 | Batch 0250/0391 | Cost: 1.2134\n",
      "Epoch: 006/010 | Batch 0300/0391 | Cost: 1.0140\n",
      "Epoch: 006/010 | Batch 0350/0391 | Cost: 1.1640\n",
      "Epoch: 006/010 | Train: 65.118%\n",
      "Time elapsed: 0.34 min\n",
      "Epoch: 007/010 | Batch 0000/0391 | Cost: 1.0212\n",
      "Epoch: 007/010 | Batch 0050/0391 | Cost: 1.0281\n",
      "Epoch: 007/010 | Batch 0100/0391 | Cost: 1.0113\n",
      "Epoch: 007/010 | Batch 0150/0391 | Cost: 0.9712\n",
      "Epoch: 007/010 | Batch 0200/0391 | Cost: 1.0124\n",
      "Epoch: 007/010 | Batch 0250/0391 | Cost: 0.9597\n",
      "Epoch: 007/010 | Batch 0300/0391 | Cost: 0.9688\n",
      "Epoch: 007/010 | Batch 0350/0391 | Cost: 1.1123\n",
      "Epoch: 007/010 | Train: 67.144%\n",
      "Time elapsed: 0.39 min\n",
      "Epoch: 008/010 | Batch 0000/0391 | Cost: 0.8237\n",
      "Epoch: 008/010 | Batch 0050/0391 | Cost: 0.9697\n",
      "Epoch: 008/010 | Batch 0100/0391 | Cost: 0.9092\n",
      "Epoch: 008/010 | Batch 0150/0391 | Cost: 1.0248\n",
      "Epoch: 008/010 | Batch 0200/0391 | Cost: 0.8731\n",
      "Epoch: 008/010 | Batch 0250/0391 | Cost: 0.9483\n",
      "Epoch: 008/010 | Batch 0300/0391 | Cost: 0.8407\n",
      "Epoch: 008/010 | Batch 0350/0391 | Cost: 1.2257\n",
      "Epoch: 008/010 | Train: 66.626%\n",
      "Time elapsed: 0.44 min\n",
      "Epoch: 009/010 | Batch 0000/0391 | Cost: 0.8734\n",
      "Epoch: 009/010 | Batch 0050/0391 | Cost: 0.8939\n",
      "Epoch: 009/010 | Batch 0100/0391 | Cost: 0.8297\n",
      "Epoch: 009/010 | Batch 0150/0391 | Cost: 1.0429\n",
      "Epoch: 009/010 | Batch 0200/0391 | Cost: 0.9827\n",
      "Epoch: 009/010 | Batch 0250/0391 | Cost: 0.9809\n",
      "Epoch: 009/010 | Batch 0300/0391 | Cost: 0.8903\n",
      "Epoch: 009/010 | Batch 0350/0391 | Cost: 1.0011\n",
      "Epoch: 009/010 | Train: 69.528%\n",
      "Time elapsed: 0.50 min\n",
      "Epoch: 010/010 | Batch 0000/0391 | Cost: 0.8483\n",
      "Epoch: 010/010 | Batch 0050/0391 | Cost: 0.9559\n",
      "Epoch: 010/010 | Batch 0100/0391 | Cost: 0.9985\n",
      "Epoch: 010/010 | Batch 0150/0391 | Cost: 0.8205\n",
      "Epoch: 010/010 | Batch 0200/0391 | Cost: 0.9781\n",
      "Epoch: 010/010 | Batch 0250/0391 | Cost: 0.9473\n",
      "Epoch: 010/010 | Batch 0300/0391 | Cost: 1.0056\n",
      "Epoch: 010/010 | Batch 0350/0391 | Cost: 0.9344\n",
      "Epoch: 010/010 | Train: 70.000%\n",
      "Time elapsed: 0.56 min\n",
      "Total Training Time: 0.56 min\n"
     ]
    }
   ],
   "source": [
    "def compute_accuracy(model, data_loader, device):\n",
    "    correct_pred, num_examples = 0, 0\n",
    "    for i, (features, targets) in enumerate(data_loader):\n",
    "            \n",
    "        features = features.to(device)\n",
    "        targets = targets.to(device)\n",
    "\n",
    "        logits, probas = model(features)\n",
    "        _, predicted_labels = torch.max(probas, 1)\n",
    "        num_examples += targets.size(0)\n",
    "        correct_pred += (predicted_labels == targets).sum()\n",
    "    return correct_pred.float()/num_examples * 100\n",
    "    \n",
    "\n",
    "start_time = time.time()\n",
    "for epoch in range(NUM_EPOCHS):\n",
    "    \n",
    "    model.train()\n",
    "    for batch_idx, (features, targets) in enumerate(train_loader):\n",
    "        \n",
    "        features = features.to(DEVICE)\n",
    "        targets = targets.to(DEVICE)\n",
    "            \n",
    "        ### FORWARD AND BACK PROP\n",
    "        logits, probas = model(features)\n",
    "        cost = F.cross_entropy(logits, targets)\n",
    "        optimizer.zero_grad()\n",
    "        \n",
    "        cost.backward()\n",
    "        \n",
    "        ### UPDATE MODEL PARAMETERS\n",
    "        optimizer.step()\n",
    "        \n",
    "        ### LOGGING\n",
    "        if not batch_idx % 50:\n",
    "            print ('Epoch: %03d/%03d | Batch %04d/%04d | Cost: %.4f' \n",
    "                   %(epoch+1, NUM_EPOCHS, batch_idx, \n",
    "                     len(train_loader), cost))\n",
    "\n",
    "        \n",
    "\n",
    "    model.eval()\n",
    "    with torch.set_grad_enabled(False): # save memory during inference\n",
    "        print('Epoch: %03d/%03d | Train: %.3f%%' % (\n",
    "              epoch+1, NUM_EPOCHS, \n",
    "              compute_accuracy(model, train_loader, device=DEVICE)))\n",
    "        \n",
    "    print('Time elapsed: %.2f min' % ((time.time() - start_time)/60))\n",
    "    \n",
    "print('Total Training Time: %.2f min' % ((time.time() - start_time)/60))"
   ]
  },
  {
   "cell_type": "markdown",
   "metadata": {
    "colab_type": "text",
    "id": "paaeEQHQj5xC"
   },
   "source": [
    "## Evaluation"
   ]
  },
  {
   "cell_type": "code",
   "execution_count": 17,
   "metadata": {
    "colab": {
     "autoexec": {
      "startup": false,
      "wait_interval": 0
     },
     "base_uri": "https://localhost:8080/",
     "height": 34
    },
    "colab_type": "code",
    "executionInfo": {
     "elapsed": 6514,
     "status": "ok",
     "timestamp": 1524976895054,
     "user": {
      "displayName": "Sebastian Raschka",
      "photoUrl": "//lh6.googleusercontent.com/-cxK6yOSQ6uE/AAAAAAAAAAI/AAAAAAAAIfw/P9ar_CHsKOQ/s50-c-k-no/photo.jpg",
      "userId": "118404394130788869227"
     },
     "user_tz": 240
    },
    "id": "gzQMWKq5j5xE",
    "outputId": "de7dc005-5eeb-4177-9f9f-d9b5d1358db9"
   },
   "outputs": [
    {
     "name": "stdout",
     "output_type": "stream",
     "text": [
      "Test accuracy: 62.40%\n"
     ]
    }
   ],
   "source": [
    "with torch.set_grad_enabled(False): # save memory during inference\n",
    "    print('Test accuracy: %.2f%%' % (compute_accuracy(model, test_loader, device=DEVICE)))"
   ]
  },
  {
   "cell_type": "code",
   "execution_count": null,
   "metadata": {},
   "outputs": [],
   "source": []
  }
 ],
 "metadata": {
  "accelerator": "GPU",
  "colab": {
   "collapsed_sections": [],
   "default_view": {},
   "name": "convnet-vgg16.ipynb",
   "provenance": [],
   "version": "0.3.2",
   "views": {}
  },
  "kernelspec": {
   "display_name": "Python 3",
   "language": "python",
   "name": "python3"
  },
  "language_info": {
   "codemirror_mode": {
    "name": "ipython",
    "version": 3
   },
   "file_extension": ".py",
   "mimetype": "text/x-python",
   "name": "python",
   "nbconvert_exporter": "python",
   "pygments_lexer": "ipython3",
   "version": "3.6.9"
  },
  "toc": {
   "nav_menu": {},
   "number_sections": true,
   "sideBar": true,
   "skip_h1_title": false,
   "title_cell": "Table of Contents",
   "title_sidebar": "Contents",
   "toc_cell": true,
   "toc_position": {
    "height": "calc(100% - 180px)",
    "left": "10px",
    "top": "150px",
    "width": "371px"
   },
   "toc_section_display": true,
   "toc_window_display": true
  }
 },
 "nbformat": 4,
 "nbformat_minor": 4
}
