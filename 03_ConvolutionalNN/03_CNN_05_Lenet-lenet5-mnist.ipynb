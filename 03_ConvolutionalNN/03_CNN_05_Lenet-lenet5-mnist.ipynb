{
 "cells": [
  {
   "cell_type": "markdown",
   "metadata": {
    "colab_type": "text",
    "id": "UEBilEjLj5wY"
   },
   "source": [
    "# Module version used\n",
    "\n",
    "- torch 1.3.1\n",
    "- numpy 1.18.1\n",
    "- CPython 3.6.9\n",
    "- IPython 7.10.2\n",
    "- numpy     1.17.4\n",
    "- PIL.Image 6.2.1\n",
    "- pandas    0.25.3"
   ]
  },
  {
   "cell_type": "markdown",
   "metadata": {
    "colab_type": "text",
    "id": "rH4XmErYj5wm"
   },
   "source": [
    "# LeNet-5 MNIST Digits Classifier"
   ]
  },
  {
   "cell_type": "markdown",
   "metadata": {},
   "source": [
    "This notebook implements the classic LeNet-5 convolutional network [1] and applies it to MNIST digit classification. The basic architecture is shown in the figure below:\n",
    "\n",
    "![](images/lenet/lenet-5_1.jpg)"
   ]
  },
  {
   "cell_type": "markdown",
   "metadata": {},
   "source": [
    "\n",
    "\n",
    "LeNet-5 is commonly regarded as the pioneer of convolutional neural networks, consisting of a very simple architecture (by modern standards). In total, LeNet-5 consists of only 7 layers. 3 out of these 7 layers are convolutional layers (C1, C3, C5), which are connected by two average pooling layers (S2 & S4). The penultimate layer is a fully connexted layer (F6), which is followed by the final output layer. The additional details are summarized below:\n",
    "\n",
    "- All convolutional layers use 5x5 kernels with stride 1.\n",
    "- The two average pooling (subsampling) layers are 2x2 pixels wide with stride 1.\n",
    "- Throughrout the network, tanh sigmoid activation functions are used. (**In this notebook, we replace these with ReLU activations**)\n",
    "- The output layer uses 10 custom Euclidean Radial Basis Function neurons for the output layer. (**In this notebook, we replace these with softmax activations**)\n",
    "- The input size is 32x32; here, we rescale the MNIST images from 28x28 to 32x32 to match this input dimension. Alternatively, we would have to change the \n",
    "achieve error rate below 1% on the MNIST data set, which was very close to the state of the art at the time (produced by a boosted ensemble of three LeNet-4 networks).\n",
    "\n",
    "\n",
    "### References\n",
    "\n",
    "- [1] Y. LeCun, L. Bottou, Y. Bengio, and P. Haffner. Gradient-based learning applied to document recognition. Proceedings of the IEEE, november 1998."
   ]
  },
  {
   "cell_type": "markdown",
   "metadata": {
    "colab_type": "text",
    "id": "MkoGLH_Tj5wn"
   },
   "source": [
    "## Imports"
   ]
  },
  {
   "cell_type": "code",
   "execution_count": 1,
   "metadata": {
    "colab": {
     "autoexec": {
      "startup": false,
      "wait_interval": 0
     }
    },
    "colab_type": "code",
    "id": "ORj09gnrj5wp"
   },
   "outputs": [],
   "source": [
    "import os\n",
    "import time\n",
    "\n",
    "import numpy as np\n",
    "import pandas as pd\n",
    "\n",
    "import torch\n",
    "import torch.nn as nn\n",
    "import torch.nn.functional as F\n",
    "from torch.utils.data import DataLoader\n",
    "\n",
    "from torchvision import datasets\n",
    "from torchvision import transforms\n",
    "\n",
    "import matplotlib.pyplot as plt\n",
    "from PIL import Image\n",
    "\n",
    "\n",
    "if torch.cuda.is_available():\n",
    "    torch.backends.cudnn.deterministic = True"
   ]
  },
  {
   "cell_type": "markdown",
   "metadata": {
    "colab_type": "text",
    "id": "I6hghKPxj5w0"
   },
   "source": [
    "## Model Settings"
   ]
  },
  {
   "cell_type": "code",
   "execution_count": 2,
   "metadata": {
    "colab": {
     "autoexec": {
      "startup": false,
      "wait_interval": 0
     },
     "base_uri": "https://localhost:8080/",
     "height": 85
    },
    "colab_type": "code",
    "executionInfo": {
     "elapsed": 23936,
     "status": "ok",
     "timestamp": 1524974497505,
     "user": {
      "displayName": "Sebastian Raschka",
      "photoUrl": "//lh6.googleusercontent.com/-cxK6yOSQ6uE/AAAAAAAAAAI/AAAAAAAAIfw/P9ar_CHsKOQ/s50-c-k-no/photo.jpg",
      "userId": "118404394130788869227"
     },
     "user_tz": 240
    },
    "id": "NnT0sZIwj5wu",
    "outputId": "55aed925-d17e-4c6a-8c71-0d9b3bde5637"
   },
   "outputs": [],
   "source": [
    "##########################\n",
    "### SETTINGS\n",
    "##########################\n",
    "\n",
    "# Hyperparameters\n",
    "RANDOM_SEED = 1\n",
    "LEARNING_RATE = 0.001\n",
    "BATCH_SIZE = 128\n",
    "NUM_EPOCHS = 10\n",
    "\n",
    "# Architecture\n",
    "NUM_FEATURES = 32*32\n",
    "NUM_CLASSES = 10\n",
    "\n",
    "# Other\n",
    "DEVICE = \"cuda:0\"\n",
    "GRAYSCALE = True"
   ]
  },
  {
   "cell_type": "markdown",
   "metadata": {},
   "source": [
    "### MNIST Dataset"
   ]
  },
  {
   "cell_type": "code",
   "execution_count": 3,
   "metadata": {},
   "outputs": [
    {
     "name": "stdout",
     "output_type": "stream",
     "text": [
      "Image batch dimensions: torch.Size([128, 1, 32, 32])\n",
      "Image label dimensions: torch.Size([128])\n"
     ]
    }
   ],
   "source": [
    "##########################\n",
    "### MNIST DATASET\n",
    "##########################\n",
    "serverAvailable = \"no\"\n",
    "if serverAvailable == \"yes\":\n",
    "    datapath = \"../database/\"\n",
    "else:\n",
    "    datapath = '../../../../MEGA/DatabaseLocal/'\n",
    "\n",
    "resize_transform = transforms.Compose([transforms.Resize((32, 32)),\n",
    "                                       transforms.ToTensor()])\n",
    "\n",
    "# Note transforms.ToTensor() scales input images\n",
    "# to 0-1 range\n",
    "train_dataset = datasets.MNIST(root=datapath, \n",
    "                               train=True, \n",
    "                               transform=resize_transform,\n",
    "                               download=True)\n",
    "\n",
    "test_dataset = datasets.MNIST(root=datapath, \n",
    "                              train=False, \n",
    "                              transform=resize_transform)\n",
    "\n",
    "\n",
    "train_loader = DataLoader(dataset=train_dataset, \n",
    "                          batch_size=BATCH_SIZE, \n",
    "                          shuffle=True)\n",
    "\n",
    "test_loader = DataLoader(dataset=test_dataset, \n",
    "                         batch_size=BATCH_SIZE, \n",
    "                         shuffle=False)\n",
    "\n",
    "# Checking the dataset\n",
    "for images, labels in train_loader:  \n",
    "    print('Image batch dimensions:', images.shape)\n",
    "    print('Image label dimensions:', labels.shape)\n",
    "    break"
   ]
  },
  {
   "cell_type": "code",
   "execution_count": 4,
   "metadata": {},
   "outputs": [
    {
     "name": "stdout",
     "output_type": "stream",
     "text": [
      "Epoch: 1 | Batch index: 0 | Batch size: 128\n",
      "Epoch: 2 | Batch index: 0 | Batch size: 128\n"
     ]
    }
   ],
   "source": [
    "device = torch.device(DEVICE)\n",
    "torch.manual_seed(0)\n",
    "\n",
    "for epoch in range(2):\n",
    "\n",
    "    for batch_idx, (x, y) in enumerate(train_loader):\n",
    "        \n",
    "        print('Epoch:', epoch+1, end='')\n",
    "        print(' | Batch index:', batch_idx, end='')\n",
    "        print(' | Batch size:', y.size()[0])\n",
    "        \n",
    "        x = x.to(device)\n",
    "        y = y.to(device)\n",
    "        break"
   ]
  },
  {
   "cell_type": "code",
   "execution_count": 5,
   "metadata": {},
   "outputs": [],
   "source": [
    "##########################\n",
    "### MODEL\n",
    "##########################\n",
    "\n",
    "\n",
    "class LeNet5(nn.Module):\n",
    "\n",
    "    def __init__(self, num_classes, grayscale=False):\n",
    "        super(LeNet5, self).__init__()\n",
    "        \n",
    "        self.grayscale = grayscale\n",
    "        self.num_classes = num_classes\n",
    "\n",
    "        if self.grayscale:\n",
    "            in_channels = 1\n",
    "        else:\n",
    "            in_channels = 3\n",
    "\n",
    "        self.features = nn.Sequential(\n",
    "            \n",
    "            nn.Conv2d(in_channels, 6, kernel_size=5),\n",
    "            nn.MaxPool2d(kernel_size=2),\n",
    "            nn.Conv2d(6, 16, kernel_size=5),\n",
    "            nn.MaxPool2d(kernel_size=2)\n",
    "        )\n",
    "\n",
    "        self.classifier = nn.Sequential(\n",
    "            nn.Linear(16*5*5, 120),\n",
    "            nn.Linear(120, 84),\n",
    "            nn.Linear(84, num_classes),\n",
    "        )\n",
    "\n",
    "\n",
    "    def forward(self, x):\n",
    "        x = self.features(x)\n",
    "        x = torch.flatten(x, 1)\n",
    "        logits = self.classifier(x)\n",
    "        probas = F.softmax(logits, dim=1)\n",
    "        return logits, probas"
   ]
  },
  {
   "cell_type": "code",
   "execution_count": 6,
   "metadata": {
    "colab": {
     "autoexec": {
      "startup": false,
      "wait_interval": 0
     }
    },
    "colab_type": "code",
    "id": "_lza9t_uj5w1"
   },
   "outputs": [],
   "source": [
    "torch.manual_seed(RANDOM_SEED)\n",
    "\n",
    "model = LeNet5(NUM_CLASSES, GRAYSCALE)\n",
    "model.to(DEVICE)\n",
    "\n",
    "optimizer = torch.optim.Adam(model.parameters(), lr=LEARNING_RATE)  "
   ]
  },
  {
   "cell_type": "code",
   "execution_count": 7,
   "metadata": {},
   "outputs": [
    {
     "name": "stdout",
     "output_type": "stream",
     "text": [
      "LeNet5(\n",
      "  (features): Sequential(\n",
      "    (0): Conv2d(1, 6, kernel_size=(5, 5), stride=(1, 1))\n",
      "    (1): MaxPool2d(kernel_size=2, stride=2, padding=0, dilation=1, ceil_mode=False)\n",
      "    (2): Conv2d(6, 16, kernel_size=(5, 5), stride=(1, 1))\n",
      "    (3): MaxPool2d(kernel_size=2, stride=2, padding=0, dilation=1, ceil_mode=False)\n",
      "  )\n",
      "  (classifier): Sequential(\n",
      "    (0): Linear(in_features=400, out_features=120, bias=True)\n",
      "    (1): Linear(in_features=120, out_features=84, bias=True)\n",
      "    (2): Linear(in_features=84, out_features=10, bias=True)\n",
      "  )\n",
      ")\n"
     ]
    }
   ],
   "source": [
    "print(model)"
   ]
  },
  {
   "cell_type": "markdown",
   "metadata": {
    "colab_type": "text",
    "id": "RAodboScj5w6"
   },
   "source": [
    "## Training"
   ]
  },
  {
   "cell_type": "code",
   "execution_count": 7,
   "metadata": {
    "colab": {
     "autoexec": {
      "startup": false,
      "wait_interval": 0
     },
     "base_uri": "https://localhost:8080/",
     "height": 1547
    },
    "colab_type": "code",
    "executionInfo": {
     "elapsed": 2384585,
     "status": "ok",
     "timestamp": 1524976888520,
     "user": {
      "displayName": "Sebastian Raschka",
      "photoUrl": "//lh6.googleusercontent.com/-cxK6yOSQ6uE/AAAAAAAAAAI/AAAAAAAAIfw/P9ar_CHsKOQ/s50-c-k-no/photo.jpg",
      "userId": "118404394130788869227"
     },
     "user_tz": 240
    },
    "id": "Dzh3ROmRj5w7",
    "outputId": "5f8fd8c9-b076-403a-b0b7-fd2d498b48d7"
   },
   "outputs": [
    {
     "name": "stdout",
     "output_type": "stream",
     "text": [
      "Epoch: 001/010 | Batch 0000/0469 | Cost: 2.3053\n",
      "Epoch: 001/010 | Batch 0050/0469 | Cost: 0.3978\n",
      "Epoch: 001/010 | Batch 0100/0469 | Cost: 0.4244\n",
      "Epoch: 001/010 | Batch 0150/0469 | Cost: 0.3412\n",
      "Epoch: 001/010 | Batch 0200/0469 | Cost: 0.1982\n",
      "Epoch: 001/010 | Batch 0250/0469 | Cost: 0.1815\n",
      "Epoch: 001/010 | Batch 0300/0469 | Cost: 0.1210\n",
      "Epoch: 001/010 | Batch 0350/0469 | Cost: 0.1914\n",
      "Epoch: 001/010 | Batch 0400/0469 | Cost: 0.1884\n",
      "Epoch: 001/010 | Batch 0450/0469 | Cost: 0.0846\n",
      "Epoch: 001/010 | Train: 96.218%\n",
      "Time elapsed: 0.16 min\n",
      "Epoch: 002/010 | Batch 0000/0469 | Cost: 0.0659\n",
      "Epoch: 002/010 | Batch 0050/0469 | Cost: 0.1244\n",
      "Epoch: 002/010 | Batch 0100/0469 | Cost: 0.1318\n",
      "Epoch: 002/010 | Batch 0150/0469 | Cost: 0.1918\n",
      "Epoch: 002/010 | Batch 0200/0469 | Cost: 0.0788\n",
      "Epoch: 002/010 | Batch 0250/0469 | Cost: 0.1129\n",
      "Epoch: 002/010 | Batch 0300/0469 | Cost: 0.0895\n",
      "Epoch: 002/010 | Batch 0350/0469 | Cost: 0.1913\n",
      "Epoch: 002/010 | Batch 0400/0469 | Cost: 0.0521\n",
      "Epoch: 002/010 | Batch 0450/0469 | Cost: 0.0843\n",
      "Epoch: 002/010 | Train: 97.385%\n",
      "Time elapsed: 0.32 min\n",
      "Epoch: 003/010 | Batch 0000/0469 | Cost: 0.1623\n",
      "Epoch: 003/010 | Batch 0050/0469 | Cost: 0.0410\n",
      "Epoch: 003/010 | Batch 0100/0469 | Cost: 0.0584\n",
      "Epoch: 003/010 | Batch 0150/0469 | Cost: 0.0839\n",
      "Epoch: 003/010 | Batch 0200/0469 | Cost: 0.0994\n",
      "Epoch: 003/010 | Batch 0250/0469 | Cost: 0.0556\n",
      "Epoch: 003/010 | Batch 0300/0469 | Cost: 0.0344\n",
      "Epoch: 003/010 | Batch 0350/0469 | Cost: 0.1043\n",
      "Epoch: 003/010 | Batch 0400/0469 | Cost: 0.0534\n",
      "Epoch: 003/010 | Batch 0450/0469 | Cost: 0.0515\n",
      "Epoch: 003/010 | Train: 97.978%\n",
      "Time elapsed: 0.48 min\n",
      "Epoch: 004/010 | Batch 0000/0469 | Cost: 0.1074\n",
      "Epoch: 004/010 | Batch 0050/0469 | Cost: 0.0520\n",
      "Epoch: 004/010 | Batch 0100/0469 | Cost: 0.0204\n",
      "Epoch: 004/010 | Batch 0150/0469 | Cost: 0.0181\n",
      "Epoch: 004/010 | Batch 0200/0469 | Cost: 0.0775\n",
      "Epoch: 004/010 | Batch 0250/0469 | Cost: 0.0605\n",
      "Epoch: 004/010 | Batch 0300/0469 | Cost: 0.0208\n",
      "Epoch: 004/010 | Batch 0350/0469 | Cost: 0.0546\n",
      "Epoch: 004/010 | Batch 0400/0469 | Cost: 0.1009\n",
      "Epoch: 004/010 | Batch 0450/0469 | Cost: 0.1287\n",
      "Epoch: 004/010 | Train: 98.072%\n",
      "Time elapsed: 0.64 min\n",
      "Epoch: 005/010 | Batch 0000/0469 | Cost: 0.0318\n",
      "Epoch: 005/010 | Batch 0050/0469 | Cost: 0.0587\n",
      "Epoch: 005/010 | Batch 0100/0469 | Cost: 0.0387\n",
      "Epoch: 005/010 | Batch 0150/0469 | Cost: 0.0187\n",
      "Epoch: 005/010 | Batch 0200/0469 | Cost: 0.0702\n",
      "Epoch: 005/010 | Batch 0250/0469 | Cost: 0.0087\n",
      "Epoch: 005/010 | Batch 0300/0469 | Cost: 0.1604\n",
      "Epoch: 005/010 | Batch 0350/0469 | Cost: 0.1443\n",
      "Epoch: 005/010 | Batch 0400/0469 | Cost: 0.0745\n",
      "Epoch: 005/010 | Batch 0450/0469 | Cost: 0.0377\n",
      "Epoch: 005/010 | Train: 98.560%\n",
      "Time elapsed: 0.80 min\n",
      "Epoch: 006/010 | Batch 0000/0469 | Cost: 0.0625\n",
      "Epoch: 006/010 | Batch 0050/0469 | Cost: 0.0203\n",
      "Epoch: 006/010 | Batch 0100/0469 | Cost: 0.0570\n",
      "Epoch: 006/010 | Batch 0150/0469 | Cost: 0.0892\n",
      "Epoch: 006/010 | Batch 0200/0469 | Cost: 0.0257\n",
      "Epoch: 006/010 | Batch 0250/0469 | Cost: 0.1365\n",
      "Epoch: 006/010 | Batch 0300/0469 | Cost: 0.0397\n",
      "Epoch: 006/010 | Batch 0350/0469 | Cost: 0.0237\n",
      "Epoch: 006/010 | Batch 0400/0469 | Cost: 0.0184\n",
      "Epoch: 006/010 | Batch 0450/0469 | Cost: 0.1371\n",
      "Epoch: 006/010 | Train: 98.390%\n",
      "Time elapsed: 0.96 min\n",
      "Epoch: 007/010 | Batch 0000/0469 | Cost: 0.0290\n",
      "Epoch: 007/010 | Batch 0050/0469 | Cost: 0.0439\n",
      "Epoch: 007/010 | Batch 0100/0469 | Cost: 0.0306\n",
      "Epoch: 007/010 | Batch 0150/0469 | Cost: 0.0165\n",
      "Epoch: 007/010 | Batch 0200/0469 | Cost: 0.0283\n",
      "Epoch: 007/010 | Batch 0250/0469 | Cost: 0.0319\n",
      "Epoch: 007/010 | Batch 0300/0469 | Cost: 0.0987\n",
      "Epoch: 007/010 | Batch 0350/0469 | Cost: 0.0210\n",
      "Epoch: 007/010 | Batch 0400/0469 | Cost: 0.0450\n",
      "Epoch: 007/010 | Batch 0450/0469 | Cost: 0.0112\n",
      "Epoch: 007/010 | Train: 98.662%\n",
      "Time elapsed: 1.12 min\n",
      "Epoch: 008/010 | Batch 0000/0469 | Cost: 0.0071\n",
      "Epoch: 008/010 | Batch 0050/0469 | Cost: 0.0661\n",
      "Epoch: 008/010 | Batch 0100/0469 | Cost: 0.0071\n",
      "Epoch: 008/010 | Batch 0150/0469 | Cost: 0.0448\n",
      "Epoch: 008/010 | Batch 0200/0469 | Cost: 0.0168\n",
      "Epoch: 008/010 | Batch 0250/0469 | Cost: 0.0299\n",
      "Epoch: 008/010 | Batch 0300/0469 | Cost: 0.0342\n",
      "Epoch: 008/010 | Batch 0350/0469 | Cost: 0.0614\n",
      "Epoch: 008/010 | Batch 0400/0469 | Cost: 0.0178\n",
      "Epoch: 008/010 | Batch 0450/0469 | Cost: 0.0713\n",
      "Epoch: 008/010 | Train: 98.802%\n",
      "Time elapsed: 1.28 min\n",
      "Epoch: 009/010 | Batch 0000/0469 | Cost: 0.0096\n",
      "Epoch: 009/010 | Batch 0050/0469 | Cost: 0.0123\n",
      "Epoch: 009/010 | Batch 0100/0469 | Cost: 0.0279\n",
      "Epoch: 009/010 | Batch 0150/0469 | Cost: 0.0388\n",
      "Epoch: 009/010 | Batch 0200/0469 | Cost: 0.0415\n",
      "Epoch: 009/010 | Batch 0250/0469 | Cost: 0.0291\n",
      "Epoch: 009/010 | Batch 0300/0469 | Cost: 0.0258\n",
      "Epoch: 009/010 | Batch 0350/0469 | Cost: 0.0554\n",
      "Epoch: 009/010 | Batch 0400/0469 | Cost: 0.0525\n",
      "Epoch: 009/010 | Batch 0450/0469 | Cost: 0.0372\n",
      "Epoch: 009/010 | Train: 98.583%\n",
      "Time elapsed: 1.44 min\n",
      "Epoch: 010/010 | Batch 0000/0469 | Cost: 0.0731\n",
      "Epoch: 010/010 | Batch 0050/0469 | Cost: 0.0537\n",
      "Epoch: 010/010 | Batch 0100/0469 | Cost: 0.0482\n",
      "Epoch: 010/010 | Batch 0150/0469 | Cost: 0.0481\n",
      "Epoch: 010/010 | Batch 0200/0469 | Cost: 0.0688\n",
      "Epoch: 010/010 | Batch 0250/0469 | Cost: 0.0281\n",
      "Epoch: 010/010 | Batch 0300/0469 | Cost: 0.0154\n",
      "Epoch: 010/010 | Batch 0350/0469 | Cost: 0.0253\n",
      "Epoch: 010/010 | Batch 0400/0469 | Cost: 0.0426\n",
      "Epoch: 010/010 | Batch 0450/0469 | Cost: 0.0062\n",
      "Epoch: 010/010 | Train: 99.055%\n",
      "Time elapsed: 1.59 min\n",
      "Total Training Time: 1.59 min\n"
     ]
    }
   ],
   "source": [
    "def compute_accuracy(model, data_loader, device):\n",
    "    correct_pred, num_examples = 0, 0\n",
    "    for i, (features, targets) in enumerate(data_loader):\n",
    "            \n",
    "        features = features.to(device)\n",
    "        targets = targets.to(device)\n",
    "\n",
    "        logits, probas = model(features)\n",
    "        _, predicted_labels = torch.max(probas, 1)\n",
    "        num_examples += targets.size(0)\n",
    "        correct_pred += (predicted_labels == targets).sum()\n",
    "    return correct_pred.float()/num_examples * 100\n",
    "    \n",
    "\n",
    "start_time = time.time()\n",
    "for epoch in range(NUM_EPOCHS):\n",
    "    \n",
    "    model.train()\n",
    "    for batch_idx, (features, targets) in enumerate(train_loader):\n",
    "        \n",
    "        features = features.to(DEVICE)\n",
    "        targets = targets.to(DEVICE)\n",
    "            \n",
    "        ### FORWARD AND BACK PROP\n",
    "        logits, probas = model(features)\n",
    "        cost = F.cross_entropy(logits, targets)\n",
    "        optimizer.zero_grad()\n",
    "        \n",
    "        cost.backward()\n",
    "        \n",
    "        ### UPDATE MODEL PARAMETERS\n",
    "        optimizer.step()\n",
    "        \n",
    "        ### LOGGING\n",
    "        if not batch_idx % 50:\n",
    "            print ('Epoch: %03d/%03d | Batch %04d/%04d | Cost: %.4f' \n",
    "                   %(epoch+1, NUM_EPOCHS, batch_idx, \n",
    "                     len(train_loader), cost))\n",
    "\n",
    "        \n",
    "\n",
    "    model.eval()\n",
    "    with torch.set_grad_enabled(False): # save memory during inference\n",
    "        print('Epoch: %03d/%03d | Train: %.3f%%' % (\n",
    "              epoch+1, NUM_EPOCHS, \n",
    "              compute_accuracy(model, train_loader, device=DEVICE)))\n",
    "        \n",
    "    print('Time elapsed: %.2f min' % ((time.time() - start_time)/60))\n",
    "    \n",
    "print('Total Training Time: %.2f min' % ((time.time() - start_time)/60))"
   ]
  },
  {
   "cell_type": "markdown",
   "metadata": {
    "colab_type": "text",
    "id": "paaeEQHQj5xC"
   },
   "source": [
    "## Evaluation"
   ]
  },
  {
   "cell_type": "code",
   "execution_count": 8,
   "metadata": {
    "colab": {
     "autoexec": {
      "startup": false,
      "wait_interval": 0
     },
     "base_uri": "https://localhost:8080/",
     "height": 34
    },
    "colab_type": "code",
    "executionInfo": {
     "elapsed": 6514,
     "status": "ok",
     "timestamp": 1524976895054,
     "user": {
      "displayName": "Sebastian Raschka",
      "photoUrl": "//lh6.googleusercontent.com/-cxK6yOSQ6uE/AAAAAAAAAAI/AAAAAAAAIfw/P9ar_CHsKOQ/s50-c-k-no/photo.jpg",
      "userId": "118404394130788869227"
     },
     "user_tz": 240
    },
    "id": "gzQMWKq5j5xE",
    "outputId": "de7dc005-5eeb-4177-9f9f-d9b5d1358db9"
   },
   "outputs": [
    {
     "name": "stdout",
     "output_type": "stream",
     "text": [
      "Test accuracy: 98.43%\n"
     ]
    }
   ],
   "source": [
    "with torch.set_grad_enabled(False): # save memory during inference\n",
    "    print('Test accuracy: %.2f%%' % (compute_accuracy(model, test_loader, device=DEVICE)))"
   ]
  },
  {
   "cell_type": "code",
   "execution_count": 9,
   "metadata": {},
   "outputs": [
    {
     "data": {
      "image/png": "[encoded data removed]",
      "text/plain": [
       "<Figure size 432x288 with 1 Axes>"
      ]
     },
     "metadata": {
      "needs_background": "light"
     },
     "output_type": "display_data"
    }
   ],
   "source": [
    "for batch_idx, (features, targets) in enumerate(test_loader):\n",
    "\n",
    "    features = features\n",
    "    targets = targets\n",
    "    break\n",
    "    \n",
    "    \n",
    "nhwc_img = np.transpose(features[0], axes=(1, 2, 0))\n",
    "nhw_img = np.squeeze(nhwc_img.numpy(), axis=2)\n",
    "plt.imshow(nhw_img, cmap='Greys');"
   ]
  },
  {
   "cell_type": "code",
   "execution_count": 10,
   "metadata": {},
   "outputs": [
    {
     "name": "stdout",
     "output_type": "stream",
     "text": [
      "Probability 7 100.00%\n"
     ]
    }
   ],
   "source": [
    "model.eval()\n",
    "logits, probas = model(features.to(device)[0, None])\n",
    "print('Probability 7 %.2f%%' % (probas[0][7]*100))"
   ]
  },
  {
   "cell_type": "code",
   "execution_count": 11,
   "metadata": {},
   "outputs": [
    {
     "name": "stderr",
     "output_type": "stream",
     "text": [
      "UsageError: Line magic function `%watermark` not found.\n"
     ]
    }
   ],
   "source": [
    "%watermark -iv"
   ]
  },
  {
   "cell_type": "code",
   "execution_count": null,
   "metadata": {},
   "outputs": [],
   "source": []
  }
 ],
 "metadata": {
  "accelerator": "GPU",
  "colab": {
   "collapsed_sections": [],
   "default_view": {},
   "name": "convnet-vgg16.ipynb",
   "provenance": [],
   "version": "0.3.2",
   "views": {}
  },
  "kernelspec": {
   "display_name": "Python 3",
   "language": "python",
   "name": "python3"
  },
  "language_info": {
   "codemirror_mode": {
    "name": "ipython",
    "version": 3
   },
   "file_extension": ".py",
   "mimetype": "text/x-python",
   "name": "python",
   "nbconvert_exporter": "python",
   "pygments_lexer": "ipython3",
   "version": "3.6.9"
  },
  "toc": {
   "nav_menu": {},
   "number_sections": true,
   "sideBar": true,
   "skip_h1_title": false,
   "title_cell": "Table of Contents",
   "title_sidebar": "Contents",
   "toc_cell": true,
   "toc_position": {
    "height": "calc(100% - 180px)",
    "left": "10px",
    "top": "150px",
    "width": "371px"
   },
   "toc_section_display": true,
   "toc_window_display": true
  }
 },
 "nbformat": 4,
 "nbformat_minor": 4
}
